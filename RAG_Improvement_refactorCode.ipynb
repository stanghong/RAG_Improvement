{
 "cells": [
  {
   "cell_type": "markdown",
   "id": "ec889d86-0d16-477f-8b7f-be03d73ad957",
   "metadata": {},
   "source": [
    "# Improecd RAG with Query Augmentation and Cross Encoding"
   ]
  },
  {
   "cell_type": "markdown",
   "id": "58ee2f53-d88b-4f00-94a2-75a66d4149e9",
   "metadata": {},
   "source": [
    "this notebook is modified from [Advanced Retrieval for AI with Chroma](https://learn.deeplearning.ai/courses/advanced-retrieval-for-ai)\n",
    "\n",
    "The project is partially funded by the [OpenAI Research Assistant Grant](https://medium.com/@Stan_DS/what-i-learned-to-successfully-apply-for-openai-research-program-78edd2f93655)."
   ]
  },
  {
   "cell_type": "code",
   "execution_count": 106,
   "id": "5a5536f0-651c-40e7-aa15-27ee0cda80b7",
   "metadata": {
    "height": 30
   },
   "outputs": [],
   "source": [
    "from helper_utils import word_wrap\n",
    "\n",
    "from pypdf import PdfReader\n",
    "from langchain.text_splitter import RecursiveCharacterTextSplitter, SentenceTransformersTokenTextSplitter\n",
    "\n",
    "import chromadb\n",
    "from chromadb.utils.embedding_functions import SentenceTransformerEmbeddingFunction\n",
    "\n",
    "import os\n",
    "import openai\n",
    "from openai import OpenAI\n",
    "\n",
    "from dotenv import load_dotenv, find_dotenv\n",
    "\n",
    "import umap.umap_ as umap\n",
    "import numpy as np\n",
    "from tqdm import tqdm\n",
    "\n",
    "from sentence_transformers import CrossEncoder\n",
    "\n",
    "_ = load_dotenv(find_dotenv()) # read local .env file\n",
    "openai.api_key = os.environ['OPENAI_API_KEY']\n",
    "\n",
    "openai_client = OpenAI()"
   ]
  },
  {
   "cell_type": "code",
   "execution_count": null,
   "id": "3748b16d-d4a7-49c3-a48a-57dcfc42acd6",
   "metadata": {
    "height": 166
   },
   "outputs": [],
   "source": [
    "# load tesla 2023 10K report\n",
    "\n",
    "reader = PdfReader(\"../data/tesla10K.pdf\")\n",
    "pdf_texts = [p.extract_text().strip() for p in reader.pages]\n",
    "\n",
    "# Filter the empty strings\n",
    "pdf_texts = [text for text in pdf_texts if text]\n",
    "\n",
    "# split text by sentences\n",
    "character_splitter = RecursiveCharacterTextSplitter(\n",
    "    separators=[\"\\n\\n\", \"\\n\", \". \", \" \", \"\"],\n",
    "    chunk_size=1000,\n",
    "    chunk_overlap=0\n",
    ")\n",
    "character_split_texts = character_splitter.split_text('\\n\\n'.join(pdf_texts))\n",
    "\n",
    "print(word_wrap(character_split_texts[10]))\n",
    "print(f\"\\nTotal chunks: {len(character_split_texts)}\")\n",
    "\n",
    "# tokenize the sentence chunks\n",
    "token_splitter = SentenceTransformersTokenTextSplitter(chunk_overlap=0, tokens_per_chunk=256)\n",
    "\n",
    "token_split_texts = []\n",
    "for text in character_split_texts:\n",
    "    token_split_texts += token_splitter.split_text(text)\n",
    "\n",
    "print(word_wrap(token_split_texts[10]))\n",
    "print(f\"\\nTotal chunks: {len(token_split_texts)}\")"
   ]
  },
  {
   "cell_type": "markdown",
   "metadata": {},
   "source": [
    "### create sentence embedding "
   ]
  },
  {
   "cell_type": "code",
   "execution_count": 5,
   "id": "c2a13d14-4484-46f0-8e67-277337f9d138",
   "metadata": {
    "height": 113
   },
   "outputs": [
    {
     "name": "stdout",
     "output_type": "stream",
     "text": [
      "[[-0.02610541507601738, 0.03637726604938507, 0.016850141808390617, 0.013502818532288074, 0.03193788602948189, 0.01282839197665453, -0.06844824552536011, -0.018723037093877792, -0.004075437318533659, 0.03759795427322388, 0.0805976539850235, 0.03495503216981888, -0.0011632046662271023, -0.09199048578739166, -0.02890200912952423, 0.01442332100123167, -0.010951112024486065, 0.004289309494197369, -0.021638033911585808, 0.13033165037631989, -0.0065737441182136536, 0.0645902156829834, -0.012173376977443695, 0.09703105688095093, 0.04759971424937248, -0.00017682572070043534, 0.011732799932360649, 0.013724432326853275, -0.008537139743566513, 0.00817929394543171, -0.054263681173324585, 0.028767231851816177, -0.005877642892301083, -0.00530084315687418, 0.08447010070085526, 0.03450290486216545, -0.03226642310619354, 0.01503743976354599, 0.006114393472671509, -0.022774161770939827, 0.0320158377289772, -0.05341488867998123, -0.025782618671655655, 0.03530915454030037, -0.04098166897892952, -0.029249845072627068, -0.00634660804644227, -0.06289228796958923, -0.10221053659915924, 0.032925959676504135, -0.05006387084722519, -0.10081157833337784, -0.04272107779979706, 0.0010029907571151853, -0.04105672240257263, -0.05370480939745903, -0.0127519890666008, 0.016503486782312393, -0.05791902169585228, 0.036650292575359344, 0.007986392825841904, -0.006473692599684, 0.020248662680387497, 0.03310155123472214, 0.02795845828950405, 0.009285922162234783, 0.017676325514912605, 0.011552930809557438, 0.01489083282649517, 0.00913699995726347, -0.011736011132597923, -0.012264872901141644, -0.08982110768556595, -0.07046252489089966, -0.05045193433761597, 0.047344133257865906, 0.010897781699895859, 0.11681610345840454, 0.024746937677264214, -0.11432202905416489, 0.0030619639437645674, -0.011880354024469852, 0.07474342733621597, -0.07434618473052979, -0.007005836348980665, -0.03283671289682388, -0.00707863038405776, -0.0292663536965847, 0.0013859112514182925, 0.04958153888583183, 0.03543693199753761, -0.1279679387807846, 0.10197855532169342, 0.014348812401294708, -0.0017568840412423015, 0.03910420835018158, -0.0787428766489029, -0.013681978918612003, 0.02859451062977314, -0.023137066513299942, -0.0025546562392264605, 0.016343751922249794, -0.03968975692987442, 0.08050017058849335, -0.03125255927443504, -0.03455250337719917, 0.02878739684820175, -0.04859274998307228, -0.03003731556236744, -0.02480754815042019, 0.05170515179634094, 0.03797275200486183, 0.060177672654390335, -0.11107570677995682, -0.048036128282547, 0.016032714396715164, -0.05948304384946823, 0.0432669073343277, -0.04440494626760483, -0.09763144701719284, -0.013325072824954987, 0.010723486542701721, 0.04468449205160141, -0.005750189535319805, -0.07261030375957489, -0.11826175451278687, 0.023061364889144897, -2.3452423709789772e-33, 0.10285156220197678, 0.039709098637104034, -0.020650280639529228, -0.0310333501547575, 0.021139632910490036, 0.04187988117337227, 0.06695406138896942, -0.03297581523656845, 0.07610327005386353, -0.04378318414092064, 0.04051181674003601, 0.007077814545482397, 0.025545455515384674, -0.10951387882232666, -0.1026320829987526, 0.034010570496320724, 0.01727992668747902, 0.12019093334674835, 0.07993604987859726, 0.017837217077612877, 0.12288229912519455, -0.0806458443403244, -0.0476493276655674, -0.011543517000973225, -0.012835406698286533, 0.07179545611143112, -0.008202213793992996, -0.044745661318302155, -0.045163627713918686, 0.009633263573050499, -0.01181686669588089, 0.027431383728981018, 0.01203591376543045, -0.027344176545739174, 0.0670362263917923, 0.11977417021989822, -0.12116729468107224, -0.016243739053606987, 0.03944895416498184, 0.011225679889321327, 0.0807131677865982, -0.02133210375905037, 0.011176095344126225, 0.07079566270112991, 0.023436369374394417, -0.10650727897882462, -0.01693250611424446, 0.03337865322828293, -0.07507536560297012, -0.04071435704827309, -0.052320078015327454, 0.018924470990896225, -0.037727925926446915, -0.07374795526266098, 0.0008598158019594848, -0.023892896249890327, 0.025451650843024254, 0.0038990359753370285, -0.05031881853938103, 0.021252118051052094, 0.051911719143390656, 0.01977762207388878, -0.1154431477189064, -0.01522089634090662, -0.04841809719800949, 0.054648928344249725, 0.04018517956137657, -0.026143914088606834, 0.019554566591978073, -0.03578150272369385, -0.01100789476186037, 0.0075396462343633175, 0.0006685934495180845, 0.03280303627252579, -0.010239127092063427, -0.052360426634550095, -0.05975872278213501, 0.04145214334130287, 0.06390013545751572, -0.04486887902021408, 0.009462598711252213, -0.09530512243509293, -0.03810254484415054, 0.1018514409661293, 0.024394843727350235, 0.04152870178222656, 0.0365641713142395, 0.01312840823084116, -0.08450328558683395, 0.07915095239877701, 0.10418279469013214, -0.026475856080651283, -0.011740380898118019, 0.07132421433925629, 0.03481731191277504, -4.632140181880844e-34, -0.06487415730953217, -0.009306385181844234, -0.08784585446119308, -0.02697034366428852, -0.028953293338418007, -0.0262981578707695, 0.041712161153554916, 0.055312901735305786, 0.085130974650383, -0.03964489698410034, -0.036103978753089905, 0.0004254537052474916, 0.00687964865937829, -0.04921698942780495, -0.07824845612049103, 0.07297789305448532, -0.015752501785755157, 0.011525269597768784, -0.04874899238348007, -0.05274491012096405, -0.034763846546411514, 0.04291311651468277, 0.013369401916861534, 0.1182391569018364, -0.007800196297466755, 0.03305945545434952, -0.009734573774039745, -0.02939498797059059, -0.028340697288513184, -0.013334383256733418, -0.0206468403339386, 0.018898125737905502, -0.0802600234746933, 0.07288572192192078, 0.013759555295109749, -0.04661310836672783, 0.008063985966145992, -0.08932898193597794, -0.007407893426716328, 0.022490181028842926, 0.13384489715099335, 0.09391360729932785, -0.01268528588116169, 0.03646249696612358, 0.06300412118434906, 0.016889803111553192, -0.011489374563097954, -0.026505576446652412, 0.006437146570533514, 0.007765252608805895, 0.0012628835393115878, 0.00831336434930563, 0.04539405554533005, 0.010541081428527832, 0.005505118984729052, 0.055558834224939346, 0.027729149907827377, -0.020497024059295654, -0.011233137920498848, 0.056109704077243805, -0.0007118028006516397, 0.165418803691864, 0.02290731854736805, -0.07649048417806625, 0.042331762611866, 0.014717340469360352, -0.04208575561642647, -0.03265049308538437, 0.1592138409614563, -0.05221782252192497, 0.0713992491364479, -0.07962841540575027, -0.04455030336976051, -0.08661814033985138, 0.005916109774261713, -0.03297539800405502, 0.018810279667377472, -0.03095868229866028, -0.051264502108097076, -0.009118536487221718, 0.06904329359531403, 0.057463452219963074, 0.040969960391521454, 0.03047400526702404, 0.034510694444179535, -0.01947735995054245, 0.09216433763504028, -0.041661303490400314, -0.005149695090949535, 0.04782259091734886, -0.036166295409202576, 0.005404293537139893, 0.022420305758714676, 0.03961010277271271, -0.044045958667993546, -2.5025943983791876e-08, 0.007684607058763504, 0.056789055466651917, 0.0037169628776609898, 0.04605824500322342, 0.1013733446598053, -0.06766408681869507, -0.0017739059403538704, 0.009553085081279278, -0.0474163219332695, -0.061581164598464966, 0.02452773228287697, 0.023636123165488243, 0.01625683158636093, -0.03849530220031738, -0.035216353833675385, 0.011246477253735065, -0.03084169141948223, -0.08696698397397995, -0.043207671493291855, -0.059698522090911865, -0.05050388723611832, 0.04956972599029541, -0.048467349261045456, 0.030959293246269226, 0.014911975711584091, -0.03428169712424278, 0.0315137542784214, 0.007715985644608736, -0.0005679117166437209, -0.0732104629278183, -0.019281238317489624, 0.02040932886302471, 0.04301188513636589, 0.07547011226415634, -0.08478439599275589, -0.027698028832674026, 0.04042232409119606, 0.018389040604233742, -0.011871621012687683, 0.03360294550657272, -0.013916834257543087, 0.07516690343618393, 0.029537659138441086, 0.07861176878213882, -0.041612282395362854, -0.07252250611782074, -0.09864594787359238, -0.05954139307141304, -0.02718389593064785, -0.07759597152471542, -0.04124072566628456, -0.0035870030988007784, 0.028081707656383514, 0.04688878729939461, 0.03097674250602722, 0.021381376311182976, 0.022414181381464005, 0.06534592062234879, 0.0370490662753582, -0.048037439584732056, -0.000725357502233237, -0.1039784848690033, 0.033946145325899124, -0.021831277757883072]]\n"
     ]
    }
   ],
   "source": [
    "# create embeddings\n",
    "\n",
    "embedding_function = SentenceTransformerEmbeddingFunction()"
   ]
  },
  {
   "cell_type": "code",
   "execution_count": null,
   "metadata": {},
   "outputs": [],
   "source": [
    "#### create vector data base using chromaDB collection"
   ]
  },
  {
   "cell_type": "code",
   "execution_count": 10,
   "id": "8ba6c8c5-9ce4-44d0-9223-6fdd77871f87",
   "metadata": {
    "height": 147
   },
   "outputs": [
    {
     "data": {
      "text/plain": [
       "556"
      ]
     },
     "execution_count": 10,
     "metadata": {},
     "output_type": "execute_result"
    }
   ],
   "source": [
    "chroma_client = chromadb.Client()\n",
    "chroma_collection = chroma_client.create_collection(\"tesla202310k\", embedding_function=embedding_function)\n",
    "\n",
    "ids = [str(i) for i in range(len(token_split_texts))]\n",
    "\n",
    "chroma_collection.add(ids=ids, documents=token_split_texts)\n",
    "chroma_collection.count()"
   ]
  },
  {
   "cell_type": "code",
   "execution_count": 45,
   "id": "bfdb54db-a442-423c-b006-c33a257cd7d7",
   "metadata": {
    "height": 164
   },
   "outputs": [
    {
     "name": "stdout",
     "output_type": "stream",
     "text": [
      "million and $ 106 million, respectively, in cost of revenues in the\n",
      "consolidated statements of operations. 72\n",
      "\n",
      "\n",
      "participation activities. such guarantees and variable customer\n",
      "payments represent a form of variable consideration and are estimated\n",
      "at contract inception at their most likely amount and updated at the\n",
      "end of each reporting period as additional performance data becomes\n",
      "available. such estimates are included in the transaction price only to\n",
      "the extent that it is probable a significant reversal of revenue will\n",
      "not occur. we record as deferred revenue any non - refundable amounts\n",
      "that are collected from customers related to fees charged for\n",
      "prepayments, which is recognized as revenue ratably over the respective\n",
      "customer contract term. as of december 31, 2023 and 2022, deferred\n",
      "revenue related to such customer payments amounted to $ 1. 60 billion\n",
      "and $ 863 million, respectively, mainly due to contractual payment\n",
      "terms. revenue recognized from the deferred revenue balance as of\n",
      "december 31, 2022 and 2021 was $ 571 million and $ 171 million for the\n",
      "years ended december 31, 2023 and 2022,\n",
      "\n",
      "\n",
      "acquisitions of property and equipment included in liabilities $ 2, 272\n",
      "$ 2, 148 $ 2, 251 supplemental disclosures cash paid during the period\n",
      "for interest, net of amounts capitalized $ 126 $ 152 $ 266 cash paid\n",
      "during the period for income taxes, net of refunds $ 1, 119 $ 1, 203 $\n",
      "561\n",
      "\n",
      "\n",
      "revenue recognition revenue by source the following table disaggregates\n",
      "our revenue by major source ( in millions ) : year ended december 31,\n",
      "2023 2022 2021 automotive sales $ 78, 509 $ 67, 210 $ 44, 125\n",
      "automotive regulatory credits 1, 790 1, 776 1, 465 energy generation\n",
      "and storage sales 5, 515 3, 376 2, 279 services and other 8, 319 6, 091\n",
      "3, 802 total revenues from sales and services 94, 133 78, 453 51, 671\n",
      "automotive leasing 2, 120 2, 476 1, 642 energy generation and storage\n",
      "leasing 520 533 510 total revenues $ 96, 773 $ 81, 462 $ 53, 823\n",
      "automotive segment automotive sales automotive sales revenue includes\n",
      "revenues related to cash and financing deliveries of new vehicles, and\n",
      "specific other features and services that meet the definition of a\n",
      "performance obligation under asc 606, including access to our fsd\n",
      "capability features and their ongoing maintenance, internet\n",
      "\n",
      "\n",
      "the estimates used for, but not limited to, determining significant\n",
      "economic incentive for resale value guarantee arrangements, sales\n",
      "return reserves, the collectability of accounts and financing\n",
      "receivables, inventory valuation, warranties, fair value of long -\n",
      "lived assets, goodwill, fair value of financial instruments, fair value\n",
      "and residual value of operating lease vehicles and solar energy systems\n",
      "subject to leases could be impacted. we have assessed the impact and\n",
      "are not aware of any specific events or circumstances that required an\n",
      "update to our estimates and assumptions or materially affected the\n",
      "carrying value of our assets or liabilities as of the date of issuance\n",
      "of this annual report on form 10 - k. these estimates may change as new\n",
      "events occur and additional information is obtained. actual results\n",
      "could differ materially from these estimates under different\n",
      "assumptions or conditions. revenue recognition automotive sales\n",
      "\n",
      "\n"
     ]
    }
   ],
   "source": [
    "\n",
    "query = \"What was the total revenue?\"\n",
    "\n",
    "### retrieve top n similar embeddings from chroma collection\n",
    "results = chroma_collection.query(query_texts=[query], n_results=5)\n",
    "retrieved_documents = results['documents'][0]\n",
    "\n",
    "for document in retrieved_documents:\n",
    "    print(word_wrap(document))\n",
    "    print('\\n')"
   ]
  },
  {
   "cell_type": "markdown",
   "id": "377a84aa-1d93-4e97-9b2d-d59c46355338",
   "metadata": {
    "height": 166
   },
   "source": [
    "\n",
    "#### use LLM (Openai API) to answer human query"
   ]
  },
  {
   "cell_type": "code",
   "execution_count": 46,
   "id": "ba0ed8ca-6640-4c09-9cb3-9de5e7cf46dc",
   "metadata": {
    "height": 334
   },
   "outputs": [],
   "source": [
    "def rag(query, retrieved_documents, model=\"gpt-3.5-turbo\"):\n",
    "    information = \"\\n\\n\".join(retrieved_documents)\n",
    "\n",
    "    messages = [\n",
    "        {\n",
    "            \"role\": \"system\",\n",
    "            \"content\": \"You are a helpful expert financial research assistant. Your users are asking questions about information contained in an annual 10K report.\"\n",
    "            \"You will be shown the user's question, and the relevant information from the annual report. Answer the user's question using only this information.\"\n",
    "        },\n",
    "        {\"role\": \"user\", \"content\": f\"Question: {query}. \\n Information: {information}\"}\n",
    "    ]\n",
    "    \n",
    "    response = openai_client.chat.completions.create(\n",
    "        model=model,\n",
    "        messages=messages,\n",
    "    )\n",
    "    content = response.choices[0].message.content\n",
    "    return content"
   ]
  },
  {
   "cell_type": "code",
   "execution_count": 47,
   "metadata": {},
   "outputs": [
    {
     "name": "stdout",
     "output_type": "stream",
     "text": [
      "Total revenue for the year ended December 31, 2023, was $96,773\n",
      "million.\n"
     ]
    }
   ],
   "source": [
    "query = \"What was the total revenue?\"\n",
    "\n",
    "results = chroma_collection.query(query_texts=[query], n_results=5)\n",
    "retrieved_documents = results['documents'][0]\n",
    "\n",
    "output = rag(query=query, retrieved_documents=retrieved_documents)\n",
    "\n",
    "print(word_wrap(output))"
   ]
  },
  {
   "cell_type": "markdown",
   "id": "db9f2758-0f5a-49e5-b1fa-517b91324575",
   "metadata": {
    "height": 30
   },
   "source": [
    "#### An Example of Non-relevant queries or distraction"
   ]
  },
  {
   "cell_type": "code",
   "execution_count": 37,
   "id": "aee59493-8a99-4da8-b94f-4747efcfc79d",
   "metadata": {
    "height": 30
   },
   "outputs": [
    {
     "name": "stdout",
     "output_type": "stream",
     "text": [
      "The provided information from the annual report does not contain any\n",
      "specific details on Lionel Messi or his involvement with the company.\n",
      "It focuses on topics such as internal career development, employee\n",
      "benefits, operational milestones, stock-based compensation, foreign\n",
      "earnings, tax matters, and related person transactions policy.\n"
     ]
    }
   ],
   "source": [
    "query = \"What Lionel Messi did for us?\"\n",
    "\n",
    "results = chroma_collection.query(query_texts=[query], n_results=5)\n",
    "retrieved_documents = results['documents'][0]\n",
    "\n",
    "output = rag(query=query, retrieved_documents=retrieved_documents)\n",
    "\n",
    "print(word_wrap(output))"
   ]
  },
  {
   "cell_type": "markdown",
   "id": "b1183e75-4c65-422e-bc47-48010d8b29c9",
   "metadata": {
    "height": 30
   },
   "source": [
    "# Visual QC the relavancy or distraction of Document Retrieval\n"
   ]
  },
  {
   "cell_type": "code",
   "execution_count": 48,
   "id": "5fcd85cc-8898-41ed-a0aa-bd8a33fc565a",
   "metadata": {
    "height": 30
   },
   "outputs": [
    {
     "name": "stderr",
     "output_type": "stream",
     "text": [
      "/Users/hongtang/Documents/RAG_brewer/RAGenv/lib/python3.9/site-packages/umap/umap_.py:1945: UserWarning: n_jobs value 1 overridden to 1 by setting random_state. Use no seed for parallelism.\n",
      "  warn(f\"n_jobs value {self.n_jobs} overridden to 1 by setting random_state. Use no seed for parallelism.\")\n"
     ]
    }
   ],
   "source": [
    "\n",
    "embeddings = chroma_collection.get(include=['embeddings'])['embeddings']\n",
    "umap_transform = umap.UMAP(random_state=0, transform_seed=0).fit(embeddings)"
   ]
  },
  {
   "cell_type": "code",
   "execution_count": 39,
   "id": "c65337e9-85ee-47f7-89fd-7fe77cd0e1b2",
   "metadata": {
    "height": 30
   },
   "outputs": [],
   "source": [
    "def project_embeddings(embeddings, umap_transform):\n",
    "    umap_embeddings = np.empty((len(embeddings),2))\n",
    "    for i, embedding in enumerate(tqdm(embeddings)): \n",
    "        umap_embeddings[i] = umap_transform.transform([embedding])\n",
    "    return umap_embeddings   "
   ]
  },
  {
   "cell_type": "code",
   "execution_count": 23,
   "id": "a7794092-4195-4cf3-9eab-11c9c05a26b9",
   "metadata": {
    "height": 30
   },
   "outputs": [
    {
     "name": "stderr",
     "output_type": "stream",
     "text": [
      "100%|██████████| 556/556 [03:01<00:00,  3.06it/s]\n"
     ]
    }
   ],
   "source": [
    "# project all embeddings into 2D for visualization\n",
    "projected_dataset_embeddings = project_embeddings(embeddings, umap_transform)"
   ]
  },
  {
   "cell_type": "markdown",
   "metadata": {},
   "source": [
    "#### A good query and retrieval"
   ]
  },
  {
   "cell_type": "code",
   "execution_count": 78,
   "id": "fe0343be-73c9-4aed-83b0-aba09569ac87",
   "metadata": {
    "height": 30
   },
   "outputs": [
    {
     "name": "stderr",
     "output_type": "stream",
     "text": [
      "100%|██████████| 1/1 [00:00<00:00,  3.19it/s]\n",
      "100%|██████████| 5/5 [00:01<00:00,  2.95it/s]\n"
     ]
    },
    {
     "name": "stdout",
     "output_type": "stream",
     "text": [
      "Based on the information provided in the annual report, the total\n",
      "revenue for the year ended December 31, 2023, was $96,773 million.\n"
     ]
    },
    {
     "data": {
      "text/plain": [
       "(-5.642355990409851, 6.435305190086365, 3.954787564277649, 12.974955725669862)"
      ]
     },
     "execution_count": 78,
     "metadata": {},
     "output_type": "execute_result"
    },
    {
     "data": {
      "image/png": "[encoded data removed]",
      "text/plain": [
       "<Figure size 640x480 with 1 Axes>"
      ]
     },
     "metadata": {},
     "output_type": "display_data"
    }
   ],
   "source": [
    "query = \"What is the total revenue?\"\n",
    "\n",
    "results = chroma_collection.query(query_texts=query, n_results=5, include=['documents', 'embeddings'])\n",
    "\n",
    "retrieved_documents = results['documents'][0]\n",
    "\n",
    "\n",
    "query_embedding = embedding_function([query])[0]\n",
    "retrieved_embeddings = results['embeddings'][0]\n",
    "\n",
    "# prep for visualizing the embeddings and queries\n",
    "projected_query_embedding = project_embeddings([query_embedding], umap_transform)\n",
    "projected_retrieved_embeddings = project_embeddings(retrieved_embeddings, umap_transform)\n",
    "\n",
    "# print outputs\n",
    "output = rag(query=query, retrieved_documents=retrieved_documents)\n",
    "\n",
    "print(word_wrap(output))\n",
    "\n",
    "# Plot the projected query and retrieved documents in the embedding space\n",
    "plt.figure()\n",
    "plt.scatter(projected_dataset_embeddings[:, 0], projected_dataset_embeddings[:, 1], s=10, color='gray')\n",
    "plt.scatter(projected_query_embedding[:, 0], projected_query_embedding[:, 1], s=150, marker='X', color='r')\n",
    "plt.scatter(projected_retrieved_embeddings[:, 0], projected_retrieved_embeddings[:, 1], s=100, facecolors='none', edgecolors='g')\n",
    "\n",
    "plt.gca().set_aspect('equal', 'datalim')\n",
    "plt.title(f'{query}')\n",
    "plt.axis('off')"
   ]
  },
  {
   "cell_type": "markdown",
   "id": "a16fdcb1-57d0-4f04-af8f-7c7fc594d947",
   "metadata": {
    "height": 30
   },
   "source": [
    "### An irrelevant query and its retrieval"
   ]
  },
  {
   "cell_type": "code",
   "execution_count": 79,
   "metadata": {},
   "outputs": [
    {
     "name": "stderr",
     "output_type": "stream",
     "text": [
      "  0%|          | 0/1 [00:00<?, ?it/s]"
     ]
    },
    {
     "name": "stderr",
     "output_type": "stream",
     "text": [
      "100%|██████████| 1/1 [00:00<00:00,  2.10it/s]\n",
      "100%|██████████| 5/5 [00:01<00:00,  3.28it/s]\n"
     ]
    },
    {
     "name": "stdout",
     "output_type": "stream",
     "text": [
      "The information provided is related to Tesla automobile sales and\n",
      "services in different locations around the world. Lionel Messi is not\n",
      "mentioned in the information provided. Therefore, it is not possible to\n",
      "determine Lionel Messi's favorite team based on this information.\n"
     ]
    },
    {
     "data": {
      "text/plain": [
       "(-5.642355990409851, 6.435305190086365, 3.954787564277649, 12.974955725669862)"
      ]
     },
     "execution_count": 79,
     "metadata": {},
     "output_type": "execute_result"
    },
    {
     "data": {
      "image/png": "[encoded data removed]",
      "text/plain": [
       "<Figure size 640x480 with 1 Axes>"
      ]
     },
     "metadata": {},
     "output_type": "display_data"
    }
   ],
   "source": [
    "query = \"What lionel messi's favorite team?\"\n",
    "\n",
    "results = chroma_collection.query(query_texts=query, n_results=5, include=['documents', 'embeddings'])\n",
    "\n",
    "retrieved_documents = results['documents'][0]\n",
    "\n",
    "\n",
    "query_embedding = embedding_function([query])[0]\n",
    "retrieved_embeddings = results['embeddings'][0]\n",
    "\n",
    "# prep for visualizing the embeddings and queries\n",
    "projected_query_embedding = project_embeddings([query_embedding], umap_transform)\n",
    "projected_retrieved_embeddings = project_embeddings(retrieved_embeddings, umap_transform)\n",
    "\n",
    "# print outputs\n",
    "output = rag(query=query, retrieved_documents=retrieved_documents)\n",
    "\n",
    "print(word_wrap(output))\n",
    "\n",
    "# Plot the projected query and retrieved documents in the embedding space\n",
    "plt.figure()\n",
    "plt.scatter(projected_dataset_embeddings[:, 0], projected_dataset_embeddings[:, 1], s=10, color='gray')\n",
    "plt.scatter(projected_query_embedding[:, 0], projected_query_embedding[:, 1], s=150, marker='X', color='r')\n",
    "plt.scatter(projected_retrieved_embeddings[:, 0], projected_retrieved_embeddings[:, 1], s=100, facecolors='none', edgecolors='g')\n",
    "\n",
    "plt.gca().set_aspect('equal', 'datalim')\n",
    "plt.title(f'{query}')\n",
    "plt.axis('off')\n"
   ]
  },
  {
   "cell_type": "markdown",
   "metadata": {},
   "source": [
    "## Query augmentation with multiple queries\n"
   ]
  },
  {
   "cell_type": "code",
   "execution_count": 94,
   "metadata": {},
   "outputs": [],
   "source": [
    "def augment_multiple_query(query, model=\"gpt-3.5-turbo\"):\n",
    "    messages = [\n",
    "        {\n",
    "            \"role\": \"system\",\n",
    "            \"content\": \"You are a helpful expert financial research assistant. Your users are asking questions about an annual report. \"\n",
    "            \"Suggest up to five additional related questions to help them find the information they need, for the provided question. \"\n",
    "            \"Suggest only short questions without compound sentences. Suggest a variety of questions that cover different aspects of the topic.\"\n",
    "            \"Make sure they are complete questions, and that they are related to the original question.\"\n",
    "            \"Output one question per line. Do not number the questions.\"\n",
    "        },\n",
    "        {\"role\": \"user\", \"content\": query}\n",
    "    ]\n",
    "\n",
    "    response = openai_client.chat.completions.create(\n",
    "        model=model,\n",
    "        messages=messages,\n",
    "    )\n",
    "    content = response.choices[0].message.content\n",
    "    content = content.split(\"\\n\")\n",
    "    return content"
   ]
  },
  {
   "cell_type": "code",
   "execution_count": 95,
   "metadata": {},
   "outputs": [
    {
     "name": "stdout",
     "output_type": "stream",
     "text": [
      "What were the company's total revenue and net income for the fiscal year?  \n",
      "Can you provide details on the company's major business segments or divisions?  \n",
      "What were the key factors that influenced the company's financial performance during the year?  \n",
      "Did the company make any significant investments or acquisitions during the reporting period?  \n",
      "What is the outlook or guidance provided by the company for the next fiscal year?\n"
     ]
    }
   ],
   "source": [
    "# original_query = \"What were the most important factors that contributed to increases in revenue?\"\n",
    "original_query = \"Was there significant turnover in the executive team?\"\n",
    "augmented_queries = augment_multiple_query(original_query)\n",
    "\n",
    "for query in augmented_queries:\n",
    "    print(query)"
   ]
  },
  {
   "cell_type": "code",
   "execution_count": 96,
   "metadata": {},
   "outputs": [
    {
     "name": "stdout",
     "output_type": "stream",
     "text": [
      "Query: Was there significant turnover in the executive team?\n",
      "\n",
      "Results:\n",
      "item 11. executive compensation 95 item 12. security ownership of\n",
      "certain beneficial owners and management and related stockholder\n",
      "matters 95 item 13. certain relationships and related transactions, and\n",
      "director independence 95 item 14. principal accountant fees and\n",
      "services 95 part iv. item 15. exhibits and financial statement\n",
      "schedules 96 item 16. summary 111 signatures\n",
      "\n",
      "table of contents we believe that sound corporate governance is\n",
      "critical to helping us achieve our goals, including with respect to\n",
      "esg. we continue to evolve a governance framework that exercises\n",
      "appropriate oversight of responsibilities at all levels throughout the\n",
      "company and manages its affairs consistent with high principles of\n",
      "business ethics. our esg sustainability council is made up of leaders\n",
      "from across our company, and regularly presents to our board of\n",
      "directors, which oversees our esg impacts, initiatives and priorities.\n",
      "human capital resources a competitive edge for tesla is its ability to\n",
      "attract and retain high quality employees. during the past year, tesla\n",
      "made substantial investments in its workforce, further strengthening\n",
      "its standing as one of the most desirable and innovative companies to\n",
      "work for. as of december 31, 2023, our employee headcount worldwide was\n",
      "140, 473.\n",
      "\n",
      "future time when we expected to achieve that operational milestone, or\n",
      "its “ expected operational milestone achievement time. ” as of december\n",
      "31, 2022, all remaining unrecognized stock - based compensation expense\n",
      "under the 2018 ceo performance award had been recognized. for the years\n",
      "ended december 31, 2022 and 2021, we recorded stock - based\n",
      "compensation expense of $ 66 million and $ 910 million, respectively,\n",
      "related to the 2018 ceo performance award. 82\n",
      "\n",
      "executive officers of the company and adopts this policy to be\n",
      "effective as of the effective date. 1. definitions for purposes of this\n",
      "policy, the following definitions shall apply : a ) “ company group ”\n",
      "means the company and each of its subsidiaries, as applicable. b ) “\n",
      "covered compensation ” means any incentive - based compensation\n",
      "received by a person who served as an executive officer at any time\n",
      "during the performance period for such incentive - based compensation\n",
      "and that was received ( i ) on or after october 2, 2023 and ( ii )\n",
      "after the person became an executive officer. c ) “ effective date ”\n",
      "means november 15, 2023. d ) “ erroneously awarded compensation ” means\n",
      "the amount of covered compensation received by a person during the\n",
      "fiscal period when the applicable financial reporting measure relating\n",
      "to such covered compensation was attained that exceeds the amount of\n",
      "covered compensation that otherwise would have been received by such\n",
      "\n",
      "2018 ceo performance award in march 2018, our stockholders approved the\n",
      "board of directors ’ grant of 304. 0 million stock option awards, as\n",
      "adjusted to give effect to the 2020 stock split and the 2022 stock\n",
      "split, to our ceo ( the “ 2018 ceo performance award ” ). the 2018 ceo\n",
      "performance award consisted of 12 vesting tranches with a vesting\n",
      "schedule based entirely on the attainment of both operational\n",
      "milestones ( performance conditions ) and market conditions, assuming\n",
      "continued employment either as the ceo or as both executive chairman\n",
      "and chief product officer and service through each vesting date. each\n",
      "of the 12 vesting tranches of the 2018 ceo performance award vested\n",
      "upon certification by the board of directors that both ( i ) the market\n",
      "capitalization milestone for such tranche, which began at $ 100. 0\n",
      "billion for the first tranche and increases by increments of $ 50. 0\n",
      "billion thereafter ( based on both a six\n",
      "\n",
      "----------------------------------------------------------------------------------------------------\n",
      "Query: What were the company's total revenue and net income for the fiscal year?  \n",
      "\n",
      "Results:\n",
      "our ( benefit from ) provision for income taxes changed by $ 6. 13\n",
      "billion in the year ended december 31, 2023 as compared to the year\n",
      "ended december 31, 2022, primarily due to the release of $ 6. 54\n",
      "billion of our valuation allowance associated with the u. s. federal\n",
      "and certain state deferred tax assets. our effective tax rate changed\n",
      "from an expense of 8 % to a benefit of 50 % in the year ended december\n",
      "31, 2023 as compared to the year ended december 31, 2022, primarily due\n",
      "to the release of the valuation allowance regarding our u. s. federal\n",
      "and certain state deferred tax assets. see note 14, income taxes, to\n",
      "the consolidated financial statements included elsewhere in this annual\n",
      "report on form 10 - k for further details. liquidity and capital\n",
      "resources we expect to continue to generate net positive operating cash\n",
      "flow as we have done in the last five fiscal years. the cash we\n",
      "generate from our core\n",
      "\n",
      "and parts used in our manufacturing process, operating expenses,\n",
      "operating lease payments and interest payments on our financings. net\n",
      "cash provided by operating activities decreased by $ 1. 47 billion to $\n",
      "13. 26 billion during the year ended december 31, 2023 from $ 14. 72\n",
      "billion during the year ended december 31, 2022. this decrease was\n",
      "primarily due to the decrease in net income excluding non - cash\n",
      "expenses, gains and losses of $ 2. 93 billion, partially offset by\n",
      "favorable changes in net operating assets and liabilities of $ 1. 46\n",
      "billion. cash flows from investing activities cash flows from investing\n",
      "activities and their variability across each period related primarily\n",
      "to capital expenditures, which were $ 8. 90 billion for the year ended\n",
      "december 31, 2023 and $ 7. 16 billion for the year ended december 31,\n",
      "2022, mainly for global factory expansion and machinery and\n",
      "\n",
      "million and $ 106 million, respectively, in cost of revenues in the\n",
      "consolidated statements of operations. 72\n",
      "\n",
      "research and development 689 536 448 selling, general and\n",
      "administrative 382 430 1, 252 total $ 1, 812 $ 1, 560 $ 2, 121 our\n",
      "income tax benefits recognized from stock - based compensation\n",
      "arrangements were immaterial while we were under full valuation\n",
      "allowances on our u. s. deferred tax assets during the years ended\n",
      "december 31, 2022 and 2021. with the release of the valuation allowance\n",
      "associated with our federal and certain state deferred tax assets in\n",
      "2023, income tax benefits recognized from stock - based compensation\n",
      "expense were $ 326 million during the year ended december 31, 2023.\n",
      "during the years ended december 31, 2023, 2022 and 2021, stock - based\n",
      "compensation expense capitalized to our consolidated balance sheets was\n",
      "$ 199 million, $ 245 million and $ 182 million, respectively. as of\n",
      "december 31, 2023, we had $ 4. 82 billion of total\n",
      "\n",
      "unrecognized stock - based compensation expense related to non -\n",
      "performance awards, which will be recognized over a weighted - average\n",
      "period of 2. 8 years. note 14 – income taxes our income before (\n",
      "benefit from ) provision for income taxes for the years ended december\n",
      "31, 2023, 2022 and 2021 was as follows ( in millions ) : year ended\n",
      "december 31, 2023 2022 2021 domestic $ 3, 196 $ 5, 524 $ ( 130 )\n",
      "noncontrolling interest and redeemable noncontrolling interest ( 23 )\n",
      "31 125 foreign 6, 800 8, 164 6, 348 income before income taxes $ 9, 973\n",
      "$ 13, 719 $ 6, 343 83\n",
      "\n",
      "----------------------------------------------------------------------------------------------------\n",
      "Query: Can you provide details on the company's major business segments or divisions?  \n",
      "\n",
      "Results:\n",
      "recent accounting pronouncements recently issued accounting\n",
      "pronouncements not yet adopted in november 2023, the financial\n",
      "accounting standards board ( “ fasb ” ) issued asu no. 2023 - 07,\n",
      "improvements to reportable segment disclosures ( topic 280 ). this asu\n",
      "updates reportable segment disclosure requirements by requiring\n",
      "disclosures of significant reportable segment expenses that are\n",
      "regularly provided to the chief operating decision maker ( “ codm ” )\n",
      "and included within each reported measure of a segment's profit or\n",
      "loss. this asu also requires disclosure of the title and position of\n",
      "the individual identified as the codm and an explanation of how the\n",
      "codm uses the reported measures of a segment ’ s profit or loss in\n",
      "assessing segment performance and deciding how to allocate resources.\n",
      "the asu is effective for annual periods beginning after december 15,\n",
      "2023, and interim periods within fiscal years beginning after december\n",
      "15, 2024. adoption of the asu should be applied retrospectively to\n",
      "\n",
      "from the vie that could potentially be significant to the vie. we do\n",
      "not consolidate a vie in which we have a majority ownership interest\n",
      "when we are not considered the primary beneficiary. we have determined\n",
      "that we are the primary beneficiary of all the vies ( see note 16,\n",
      "variable interest entity arrangements ). we evaluate our relationships\n",
      "with all the vies on an ongoing basis to ensure that we continue to be\n",
      "the primary beneficiary. all intercompany transactions and balances\n",
      "have been eliminated upon consolidation. use of estimates the\n",
      "preparation of financial statements in conformity with gaap requires\n",
      "management to make estimates and assumptions that affect the reported\n",
      "amounts of assets, liabilities, revenues, costs and expenses and\n",
      "related disclosures in the accompanying notes. the estimates used for,\n",
      "but not limited to, determining significant economic incentive for\n",
      "resale value guarantee arrangements, sales return reserves, income\n",
      "taxes, the collectability of accounts\n",
      "\n",
      "table of contents part i item 1. business overview we design, develop,\n",
      "manufacture, sell and lease high - performance fully electric vehicles\n",
      "and energy generation and storage systems, and offer services related\n",
      "to our products. we generally sell our products directly to customers,\n",
      "and continue to grow our customer - facing infrastructure through a\n",
      "global network of vehicle showrooms and service centers, mobile\n",
      "service, body shops, supercharger stations and destination chargers to\n",
      "accelerate the widespread adoption of our products. we emphasize\n",
      "performance, attractive styling and the safety of our users and\n",
      "workforce in the design and manufacture of our products and are\n",
      "continuing to develop full self - driving technology for improved\n",
      "safety. we also strive to lower the cost of ownership for our customers\n",
      "through continuous efforts to reduce manufacturing costs and by\n",
      "offering financial and other services tailored to our products.\n",
      "\n",
      "report of independent registered public accounting firm to the board of\n",
      "directors and stockholders of tesla, inc. opinions on the financial\n",
      "statements and internal control over financial reporting we have\n",
      "audited the accompanying consolidated balance sheets of tesla, inc. and\n",
      "its subsidiaries ( the “ company ” ) as of december 31, 2023 and 2022,\n",
      "and the related consolidated statements of operations, of comprehensive\n",
      "income, of redeemable noncontrolling interests and equity and of cash\n",
      "flows for each of the three years in the period ended december 31,\n",
      "2023, including the related notes ( collectively referred to as the “\n",
      "consolidated financial statements ” ). we also have audited the\n",
      "company's internal control over financial reporting as of december 31,\n",
      "2023, based on criteria established in internal control - integrated\n",
      "framework ( 2013 ) issued by the committee of sponsoring organizations\n",
      "of the treadway commission ( coso ).\n",
      "\n",
      "the accompanying notes are an integral part of these consolidated\n",
      "financial statements. 49\n",
      "\n",
      "----------------------------------------------------------------------------------------------------\n",
      "Query: What were the key factors that influenced the company's financial performance during the year?  \n",
      "\n",
      "Results:\n",
      "table of contents our financial results may vary significantly from\n",
      "period to period due to fluctuations in our operating costs and other\n",
      "factors. we expect our period - to - period financial results to vary\n",
      "based on our operating costs, which we anticipate will fluctuate as the\n",
      "pace at which we continue to design, develop and manufacture new\n",
      "products and increase production capacity by expanding our current\n",
      "manufacturing facilities and adding future facilities, may not be\n",
      "consistent or linear between periods. additionally, our revenues from\n",
      "period to period may fluctuate as we introduce existing products to new\n",
      "markets for the first time and as we develop and introduce new\n",
      "products. as a result of these factors, we believe that quarter - to -\n",
      "quarter comparisons of our financial results, especially in the short\n",
      "term, are not necessarily meaningful and that these comparisons cannot\n",
      "be relied\n",
      "\n",
      "depending on the specific pace of our capital - intensive projects and\n",
      "other potential variables such as rising material prices and increases\n",
      "in supply chain and labor expenses resulting from changes in global\n",
      "trade conditions and labor availability. overall, we expect our ability\n",
      "to be self - funding to continue as long as macroeconomic factors\n",
      "support current trends in our sales. critical accounting policies and\n",
      "estimates the consolidated financial statements are prepared in\n",
      "accordance with accounting principles generally accepted in the u. s. (\n",
      "“ gaap ” ). the preparation of the consolidated financial statements\n",
      "requires us to make estimates and assumptions that affect the reported\n",
      "amounts of assets, liabilities, revenues, costs and expenses and\n",
      "related disclosures. we base our estimates on historical experience, as\n",
      "appropriate, and on various other assumptions\n",
      "\n",
      "summary of significant accounting policies, to the consolidated\n",
      "financial statements included elsewhere in this annual report on form\n",
      "10 - k. 44\n",
      "\n",
      "in our opinion, the consolidated financial statements referred to above\n",
      "present fairly, in all material respects, the financial position of the\n",
      "company as of december 31, 2023 and 2022, and the results of its\n",
      "operations and its cash flows for each of the three years in the period\n",
      "ended december 31, 2023 in conformity with accounting principles\n",
      "generally accepted in the united states of america. also in our\n",
      "opinion, the company maintained, in all material respects, effective\n",
      "internal control over financial reporting as of december 31, 2023,\n",
      "based on criteria established in internal control - integrated\n",
      "framework ( 2013 ) issued by the coso. changes in accounting principles\n",
      "as discussed in note 2 to the consolidated financial statements, the\n",
      "company changed the manner in which it accounts for convertible debt in\n",
      "2021. basis for opinions the company's management is responsible for\n",
      "these consolidated financial statements, for maintaining effective\n",
      "internal control over financial reporting,\n",
      "\n",
      "that we believe to be reasonable under the circumstances. changes in\n",
      "the accounting estimates are reasonably likely to occur from period to\n",
      "period. accordingly, actual results could differ significantly from the\n",
      "estimates made by our management. we evaluate our estimates and\n",
      "assumptions on an ongoing basis. to the extent that there are material\n",
      "differences between these estimates and actual results, our future\n",
      "financial statement presentation, financial condition, results of\n",
      "operations and cash flows may be affected. 35\n",
      "\n",
      "----------------------------------------------------------------------------------------------------\n",
      "Query: Did the company make any significant investments or acquisitions during the reporting period?  \n",
      "\n",
      "Results:\n",
      "weisshorn solar manager i, llc delaware zep solar llc california\n",
      "exhibit 23. 1 consent of independent registered public accounting firm\n",
      "we hereby consent to the incorporation by reference in the registration\n",
      "statements on form s - 8 ( nos. 333 - 232079, 333 - 223169, 333 -\n",
      "216376, 333 - 209696, 333 - 198002, 333 - 187113, 333 - 183033, and 333\n",
      "- 167874 ) of tesla, inc. of our report dated january 26, 2024 relating\n",
      "to the financial statements and the effectiveness of internal control\n",
      "over financial reporting, which appears in this form 10 - k. / s /\n",
      "pricewaterhousecoopers llp san jose, california january 26, 2024\n",
      "exhibit 31. 1 certifications i, elon musk, certify that : 1. i have\n",
      "reviewed this annual report on form 10 - k of tesla, inc. ; 2. based on\n",
      "my knowledge, this report does not contain any untrue statement of a\n",
      "material fact or omit to state a material fact necessary to make the\n",
      "\n",
      "report of independent registered public accounting firm to the board of\n",
      "directors and stockholders of tesla, inc. opinions on the financial\n",
      "statements and internal control over financial reporting we have\n",
      "audited the accompanying consolidated balance sheets of tesla, inc. and\n",
      "its subsidiaries ( the “ company ” ) as of december 31, 2023 and 2022,\n",
      "and the related consolidated statements of operations, of comprehensive\n",
      "income, of redeemable noncontrolling interests and equity and of cash\n",
      "flows for each of the three years in the period ended december 31,\n",
      "2023, including the related notes ( collectively referred to as the “\n",
      "consolidated financial statements ” ). we also have audited the\n",
      "company's internal control over financial reporting as of december 31,\n",
      "2023, based on criteria established in internal control - integrated\n",
      "framework ( 2013 ) issued by the committee of sponsoring organizations\n",
      "of the treadway commission ( coso ).\n",
      "\n",
      "internal control over financial reporting. date : january 26, 2024 / s\n",
      "/ elon musk elon musk chief executive officer ( principal executive\n",
      "officer ) exhibit 31. 2 certifications i, vaibhav taneja, certify that\n",
      ": 1. i have reviewed this annual report on form 10 - k of tesla, inc. ;\n",
      "2. based on my knowledge, this report does not contain any untrue\n",
      "statement of a material fact or omit to state a material fact necessary\n",
      "to make the statements made, in light of the circumstances under which\n",
      "such statements were made, not misleading with respect to the period\n",
      "covered by this report ; 3. based on my knowledge, the financial\n",
      "statements, and other financial information included in this report,\n",
      "fairly present in all material respects the financial condition,\n",
      "results of operations and cash flows of the registrant as of, and for,\n",
      "the periods presented in this report ; 4.\n",
      "\n",
      "the estimates used for, but not limited to, determining significant\n",
      "economic incentive for resale value guarantee arrangements, sales\n",
      "return reserves, the collectability of accounts and financing\n",
      "receivables, inventory valuation, warranties, fair value of long -\n",
      "lived assets, goodwill, fair value of financial instruments, fair value\n",
      "and residual value of operating lease vehicles and solar energy systems\n",
      "subject to leases could be impacted. we have assessed the impact and\n",
      "are not aware of any specific events or circumstances that required an\n",
      "update to our estimates and assumptions or materially affected the\n",
      "carrying value of our assets or liabilities as of the date of issuance\n",
      "of this annual report on form 10 - k. these estimates may change as new\n",
      "events occur and additional information is obtained. actual results\n",
      "could differ materially from these estimates under different\n",
      "assumptions or conditions. revenue recognition automotive sales\n",
      "\n",
      "of unauthorized acquisition, use or disposition of our assets that\n",
      "could have a material effect on the financial statements. under the\n",
      "supervision and with the participation of our management, including our\n",
      "chief executive officer and chief financial officer, we conducted an\n",
      "evaluation of the effectiveness of our internal control over financial\n",
      "reporting based on criteria established in internal control –\n",
      "integrated framework ( 2013 ) issued by the committee of sponsoring\n",
      "organizations of the treadway commission ( “ coso ” ). our management\n",
      "concluded that our internal control over financial reporting was\n",
      "effective as of december 31, 2023. our independent registered public\n",
      "accounting firm, pricewaterhousecoopers llp, has audited the\n",
      "effectiveness of our internal control over financial reporting as of\n",
      "december 31, 2023, as stated in their report which is included herein.\n",
      "limitations on the effectiveness of controls\n",
      "\n",
      "----------------------------------------------------------------------------------------------------\n",
      "Query: What is the outlook or guidance provided by the company for the next fiscal year?\n",
      "\n",
      "Results:\n",
      "prior year. this included a one - time non - cash tax benefit of $ 5.\n",
      "93 billion for the release of valuation allowance on certain deferred\n",
      "tax assets. we continue to focus on further cost reductions and\n",
      "operational efficiencies while maximizing delivery volumes. we ended\n",
      "2023 with $ 29. 09 billion in cash and cash equivalents and\n",
      "investments, representing an increase of $ 6. 91 billion from the end\n",
      "of 2022. our cash flows provided by operating activities in 2023 and\n",
      "2022 were $ 13. 26 billion and $ 14. 72 billion, respectively,\n",
      "representing a decrease of $ 1. 47 billion. capital expenditures\n",
      "amounted to $ 8. 90 billion in 2023, compared to $ 7. 16 billion in\n",
      "2022, representing an increase of $ 1. 74 billion. sustained growth has\n",
      "allowed our business to generally fund itself, and we will continue\n",
      "investing in a number of capital - intensive projects and research and\n",
      "development in upcoming periods. 33\n",
      "\n",
      "upon as indicators of future performance. moreover, our financial\n",
      "results may not meet expectations of equity research analysts, ratings\n",
      "agencies or investors, who may be focused only on short - term\n",
      "quarterly financial results. if any of this occurs, the trading price\n",
      "of our stock could fall substantially, either suddenly or over time. we\n",
      "may fail to meet our publicly announced guidance or other expectations\n",
      "about our business, which could cause our stock price to decline. we\n",
      "provide from time to time guidance regarding our expected financial and\n",
      "business performance. correctly identifying key factors affecting\n",
      "business conditions and predicting future events is inherently an\n",
      "uncertain process, and our guidance may not ultimately be accurate and\n",
      "has in the past been inaccurate in certain respects, such as the timing\n",
      "of new product manufacturing ramps. our guidance is based on certain\n",
      "assumptions such as those\n",
      "\n",
      "table of contents forward - looking statements the discussions in this\n",
      "annual report on form 10 - k contain forward - looking statements\n",
      "reflecting our current expectations that involve risks and\n",
      "uncertainties. these forward - looking statements include, but are not\n",
      "limited to, statements concerning supply chain constraints, our\n",
      "strategy, competition, future operations and production capacity,\n",
      "future financial position, future revenues, projected costs,\n",
      "profitability, expected cost reductions, capital adequacy, expectations\n",
      "regarding demand and acceptance for our technologies, growth\n",
      "opportunities and trends in the markets in which we operate, prospects\n",
      "and plans and objectives of management. the words “ anticipates, ” “\n",
      "believes, ” “ could, ” “ estimates, ” “ expects, ” “ intends, ” “ may,\n",
      "” “ plans, ” “ projects, ” “ will, ” “ would ” and similar expressions\n",
      "are intended to identify forward - looking statements, although not all\n",
      "forward - looking\n",
      "\n",
      "results of operations — management opportunities, challenges and\n",
      "uncertainties and 2023 outlook — cash flow and capital expenditure\n",
      "trends in this annual report on form 10 - k, we currently expect our\n",
      "capital expenditures to support our projects globally to exceed $ 10.\n",
      "00 billion in 2024 and be between $ 8. 00 to $ 10. 00 billion in each\n",
      "of the following two fiscal years. in connection with our operations at\n",
      "gigafactory new york, we have an agreement to spend or incur $ 5. 00\n",
      "billion in combined capital, operational expenses, costs of goods sold\n",
      "and other costs in the state of new york through december 31, 2029 (\n",
      "pursuant to a deferral of our required timelines to meet such\n",
      "obligations that was granted in april 2021, and which was memorialized\n",
      "in an amendment to our agreement with the suny foundation in august\n",
      "2021 ). for details regarding these obligations, refer to note 15,\n",
      "commitments and contingencies\n",
      "\n",
      "in addition, because a large portion of our future expenditures will be\n",
      "to fund our growth, we expect that if needed we will be able to adjust\n",
      "our capital and operating expenditures by operating segment. for\n",
      "example, if our near - term manufacturing operations decrease in scale\n",
      "or ramp more slowly than expected, including due to global economic or\n",
      "business conditions, we may choose to correspondingly slow the pace of\n",
      "our capital expenditures. finally, we continually evaluate our cash\n",
      "needs and may decide it is best to raise additional capital or seek\n",
      "alternative financing sources to fund the rapid growth of our business,\n",
      "including through drawdowns on existing or new debt facilities or\n",
      "financing funds. conversely, we may also from time to time determine\n",
      "that it is in our best interests to voluntarily repay certain\n",
      "indebtedness early. accordingly, we believe that our current sources of\n",
      "funds will provide us with adequate liquidity during the 12 - month\n",
      "period following december 31,\n",
      "\n",
      "----------------------------------------------------------------------------------------------------\n"
     ]
    }
   ],
   "source": [
    "queries = [original_query] + augmented_queries\n",
    "results = chroma_collection.query(query_texts=queries, n_results=5, include=['documents', 'embeddings'])\n",
    "\n",
    "retrieved_documents = results['documents']\n",
    "\n",
    "# Deduplicate the retrieved documents\n",
    "unique_documents = set()\n",
    "for documents in retrieved_documents:\n",
    "    for document in documents:\n",
    "        unique_documents.add(document)\n",
    "\n",
    "for i, documents in enumerate(retrieved_documents):\n",
    "    print(f\"Query: {queries[i]}\")\n",
    "    print('')\n",
    "    print(\"Results:\")\n",
    "    for doc in documents:\n",
    "        print(word_wrap(doc))\n",
    "        print('')\n",
    "    print('-'*100)"
   ]
  },
  {
   "cell_type": "code",
   "execution_count": 97,
   "metadata": {},
   "outputs": [
    {
     "name": "stderr",
     "output_type": "stream",
     "text": [
      "100%|██████████| 1/1 [00:00<00:00,  3.25it/s]\n",
      "100%|██████████| 5/5 [00:01<00:00,  2.98it/s]\n"
     ]
    }
   ],
   "source": [
    "original_query_embedding = embedding_function([original_query])\n",
    "augmented_query_embeddings = embedding_function(augmented_queries)\n",
    "\n",
    "project_original_query = project_embeddings(original_query_embedding, umap_transform)\n",
    "project_augmented_queries = project_embeddings(augmented_query_embeddings, umap_transform)\n"
   ]
  },
  {
   "cell_type": "code",
   "execution_count": 98,
   "metadata": {},
   "outputs": [
    {
     "name": "stderr",
     "output_type": "stream",
     "text": [
      "100%|██████████| 30/30 [00:10<00:00,  2.94it/s]\n"
     ]
    }
   ],
   "source": [
    "result_embeddings = results['embeddings']\n",
    "result_embeddings = [item for sublist in result_embeddings for item in sublist]\n",
    "projected_result_embeddings = project_embeddings(result_embeddings, umap_transform)\n",
    "\n",
    "# after deduplication, 30 results are used"
   ]
  },
  {
   "cell_type": "code",
   "execution_count": 100,
   "metadata": {},
   "outputs": [
    {
     "data": {
      "text/plain": [
       "(-5.642355990409851, 6.435305190086365, 3.954787564277649, 12.974955725669862)"
      ]
     },
     "execution_count": 100,
     "metadata": {},
     "output_type": "execute_result"
    },
    {
     "data": {
      "image/png": "[encoded data removed]",
      "text/plain": [
       "<Figure size 640x480 with 1 Axes>"
      ]
     },
     "metadata": {},
     "output_type": "display_data"
    }
   ],
   "source": [
    "import matplotlib.pyplot as plt\n",
    "\n",
    "plt.figure()\n",
    "plt.scatter(projected_dataset_embeddings[:, 0], projected_dataset_embeddings[:, 1], s=10, color='gray')\n",
    "plt.scatter(project_augmented_queries[:, 0], project_augmented_queries[:, 1], s=150, marker='X', color='orange')\n",
    "plt.scatter(projected_result_embeddings[:, 0], projected_result_embeddings[:, 1], s=100, facecolors='none', edgecolors='g')\n",
    "plt.scatter(project_original_query[:, 0], project_original_query[:, 1], s=150, marker='X', color='r')\n",
    "\n",
    "plt.gca().set_aspect('equal', 'datalim')\n",
    "plt.title(f'{original_query}')\n",
    "plt.axis('off')"
   ]
  },
  {
   "cell_type": "markdown",
   "metadata": {},
   "source": []
  },
  {
   "cell_type": "markdown",
   "metadata": {},
   "source": [
    "* we covered lot of area with the augmented questions, which help to minimize false negative "
   ]
  },
  {
   "cell_type": "markdown",
   "metadata": {},
   "source": [
    "# Re-ranking the long tail"
   ]
  },
  {
   "cell_type": "markdown",
   "metadata": {},
   "source": [
    "* We need to evaluate all retrieved documents before we send to LLM for final answer "
   ]
  },
  {
   "cell_type": "code",
   "execution_count": 131,
   "metadata": {},
   "outputs": [],
   "source": [
    "queries = [original_query] + augmented_queries\n",
    "\n",
    "results = chroma_collection.query(query_texts=queries, n_results=10, include=['documents', 'embeddings'])\n",
    "retrieved_documents = results['documents']"
   ]
  },
  {
   "cell_type": "code",
   "execution_count": 132,
   "metadata": {},
   "outputs": [],
   "source": [
    "# Deduplicate the retrieved documents\n",
    "unique_documents = set()\n",
    "for documents in retrieved_documents:\n",
    "    for document in documents:\n",
    "        unique_documents.add(document)\n",
    "\n",
    "unique_documents = list(unique_documents)"
   ]
  },
  {
   "cell_type": "code",
   "execution_count": 133,
   "metadata": {},
   "outputs": [],
   "source": [
    "pairs = []\n",
    "for doc in unique_documents:\n",
    "    pairs.append([original_query, doc])"
   ]
  },
  {
   "cell_type": "markdown",
   "metadata": {},
   "source": [
    "* cross encoder to classify the answer and provide the ranking scores"
   ]
  },
  {
   "cell_type": "code",
   "execution_count": 134,
   "metadata": {},
   "outputs": [],
   "source": [
    "cross_encoder = CrossEncoder('cross-encoder/ms-marco-MiniLM-L-6-v2')\n",
    "scores = cross_encoder.predict(pairs)\n"
   ]
  },
  {
   "cell_type": "code",
   "execution_count": null,
   "id": "d8144a4a-85f6-4800-87f9-36a1b6ceda1f",
   "metadata": {
    "height": 30
   },
   "outputs": [],
   "source": []
  },
  {
   "cell_type": "code",
   "execution_count": null,
   "id": "8ff0b18e-12a0-4ac0-97dd-8618b22e7dbf",
   "metadata": {
    "height": 30
   },
   "outputs": [],
   "source": []
  },
  {
   "cell_type": "code",
   "execution_count": null,
   "id": "03ca7e7c-4b47-4652-9b46-a40b3dffa5e6",
   "metadata": {
    "height": 30
   },
   "outputs": [],
   "source": []
  },
  {
   "cell_type": "code",
   "execution_count": null,
   "id": "f74e7d67-7f51-41c4-8e25-edbaa02d0bd8",
   "metadata": {
    "height": 30
   },
   "outputs": [],
   "source": []
  },
  {
   "cell_type": "code",
   "execution_count": null,
   "id": "9188e886-d406-406f-b234-f5c3353a77a2",
   "metadata": {
    "height": 30
   },
   "outputs": [],
   "source": []
  },
  {
   "cell_type": "code",
   "execution_count": null,
   "id": "3d3bb286-2694-4ed4-8466-46865e997ced",
   "metadata": {
    "height": 30
   },
   "outputs": [],
   "source": []
  },
  {
   "cell_type": "code",
   "execution_count": null,
   "id": "2876084b-4038-4b0c-8ec8-8294a86adfc1",
   "metadata": {
    "height": 30
   },
   "outputs": [],
   "source": []
  },
  {
   "cell_type": "code",
   "execution_count": null,
   "id": "3ac542e1-b094-431f-9611-cf7e36d3f0de",
   "metadata": {
    "height": 30
   },
   "outputs": [],
   "source": []
  },
  {
   "cell_type": "code",
   "execution_count": null,
   "id": "bcd6114b-c09d-4173-a623-9a08aaf63e4b",
   "metadata": {
    "height": 30
   },
   "outputs": [],
   "source": []
  },
  {
   "cell_type": "code",
   "execution_count": null,
   "id": "ad10ab65-b351-4f4b-b7d2-63474acfb9f9",
   "metadata": {
    "height": 30
   },
   "outputs": [],
   "source": []
  },
  {
   "cell_type": "code",
   "execution_count": null,
   "id": "800f3d81-cbdb-4ba4-8d49-85747fdfded8",
   "metadata": {
    "height": 30
   },
   "outputs": [],
   "source": []
  },
  {
   "cell_type": "code",
   "execution_count": null,
   "id": "37847448-c9f6-4f51-bf06-f7809964a8b2",
   "metadata": {
    "height": 30
   },
   "outputs": [],
   "source": []
  },
  {
   "cell_type": "code",
   "execution_count": null,
   "id": "2dcefc87-0964-4b94-946b-2145781ad606",
   "metadata": {
    "height": 30
   },
   "outputs": [],
   "source": []
  },
  {
   "cell_type": "code",
   "execution_count": null,
   "id": "5fc994bc-7b1e-476a-9df9-300a3e374882",
   "metadata": {
    "height": 30
   },
   "outputs": [],
   "source": []
  },
  {
   "cell_type": "code",
   "execution_count": null,
   "id": "9ef5f5d5-acb7-4b0a-93ef-e61306708e69",
   "metadata": {
    "height": 30
   },
   "outputs": [],
   "source": []
  },
  {
   "cell_type": "code",
   "execution_count": null,
   "id": "44e4b33f-d8fb-4f3a-b884-8b43a3766583",
   "metadata": {
    "height": 30
   },
   "outputs": [],
   "source": []
  },
  {
   "cell_type": "code",
   "execution_count": null,
   "id": "c2a480a2-2c29-4a01-80dd-ee41934b7901",
   "metadata": {
    "height": 30
   },
   "outputs": [],
   "source": []
  },
  {
   "cell_type": "code",
   "execution_count": null,
   "id": "8127c2bf-0d15-4b62-b46a-f7a17ad2ec92",
   "metadata": {
    "height": 30
   },
   "outputs": [],
   "source": []
  },
  {
   "cell_type": "code",
   "execution_count": null,
   "id": "18ded129-a637-4269-a116-550fe9a90570",
   "metadata": {
    "height": 30
   },
   "outputs": [],
   "source": []
  },
  {
   "cell_type": "code",
   "execution_count": null,
   "id": "c1d7ee44-7b29-483f-a3f2-cc9d8e18880e",
   "metadata": {
    "height": 30
   },
   "outputs": [],
   "source": []
  },
  {
   "cell_type": "code",
   "execution_count": null,
   "id": "8e450dd8-9719-42c6-8c3c-33cac910e0a5",
   "metadata": {
    "height": 30
   },
   "outputs": [],
   "source": []
  }
 ],
 "metadata": {
  "kernelspec": {
   "display_name": "RAGenv",
   "language": "python",
   "name": "ragenv"
  },
  "language_info": {
   "codemirror_mode": {
    "name": "ipython",
    "version": 3
   },
   "file_extension": ".py",
   "mimetype": "text/x-python",
   "name": "python",
   "nbconvert_exporter": "python",
   "pygments_lexer": "ipython3",
   "version": "3.9.6"
  }
 },
 "nbformat": 4,
 "nbformat_minor": 5
}
