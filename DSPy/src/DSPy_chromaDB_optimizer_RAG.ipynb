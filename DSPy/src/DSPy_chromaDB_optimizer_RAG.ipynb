{
 "cells": [
  {
   "cell_type": "markdown",
   "metadata": {
    "isInteractiveWindowMessageCell": true
   },
   "source": [
    "Connected to ragvenv (Python 3.9.6)"
   ]
  },
  {
   "cell_type": "code",
   "execution_count": 1,
   "metadata": {},
   "outputs": [
    {
     "name": "stderr",
     "output_type": "stream",
     "text": [
      "/Users/hongtang/Documents/RAG_Implementation/ragvenv/lib/python3.9/site-packages/urllib3/__init__.py:35: NotOpenSSLWarning: urllib3 v2 only supports OpenSSL 1.1.1+, currently the 'ssl' module is compiled with 'LibreSSL 2.8.3'. See: https://github.com/urllib3/urllib3/issues/3020\n",
      "  warnings.warn(\n",
      "/Users/hongtang/Documents/RAG_Implementation/ragvenv/lib/python3.9/site-packages/tqdm/auto.py:21: TqdmWarning: IProgress not found. Please update jupyter and ipywidgets. See https://ipywidgets.readthedocs.io/en/stable/user_install.html\n",
      "  from .autonotebook import tqdm as notebook_tqdm\n"
     ]
    }
   ],
   "source": [
    "import dspy\n",
    "from dotenv import load_dotenv\n",
    "\n",
    "import chromadb\n",
    "from chromadb.utils import embedding_functions\n",
    "import dspy\n",
    "from dspy.retrieve.chromadb_rm import ChromadbRM\n",
    "\n",
    "load_dotenv()  # Load environment variables\n",
    "\n",
    "turbo = dspy.OpenAI(model='gpt-3.5-turbo')\n",
    "\n",
    "retriever_model = ChromadbRM(\n",
    "    collection_name='tesla', \n",
    "    persist_directory=\"./teslasec\",\n",
    "    embedding_function=embedding_functions.DefaultEmbeddingFunction(),\n",
    "    k=5\n",
    ")\n",
    "\n",
    "dspy.settings.configure(lm=turbo, rm=retriever_model)"
   ]
  },
  {
   "cell_type": "code",
   "execution_count": 2,
   "metadata": {},
   "outputs": [],
   "source": [
    "from dspy.datasets import HotPotQA"
   ]
  },
  {
   "cell_type": "code",
   "execution_count": 3,
   "metadata": {},
   "outputs": [],
   "source": [
    "import pandas as pd\n",
    "df=pd.read_csv('../data/groundtruth_eval_dataset_300_titles.csv')\n",
    "# df.columns =['Unnamed: 0', 'question', 'context', 'answer', 'metadata']\n",
    "df =df[['question', 'context', 'answer']]"
   ]
  },
  {
   "cell_type": "code",
   "execution_count": 4,
   "metadata": {},
   "outputs": [],
   "source": [
    "def df2Dataset(df):\n",
    "    dataset = []\n",
    "\n",
    "    for question, context, answer in df.values:\n",
    "        dataset.append(dspy.Example(question=question, context=context, answer=answer).with_inputs('context', \"question\"))\n",
    "    return dataset"
   ]
  },
  {
   "cell_type": "code",
   "execution_count": 5,
   "metadata": {},
   "outputs": [],
   "source": [
    "trainset=df2Dataset(df.iloc[:10])\n",
    "devset=df2Dataset(df.iloc[11:21])"
   ]
  },
  {
   "cell_type": "code",
   "execution_count": 6,
   "metadata": {},
   "outputs": [
    {
     "data": {
      "text/plain": [
       "[Example({'question': \"What is the trading symbol for Tesla's common stock and on which exchange is it registered?\", 'context': \"page_content='united states securities and exchange commission washington, d. c. 20549 form 10 - k ( mark one ) x annual report pursuant to section 13 or 15 ( d ) of the securities exchange act of 1934 for the fiscal year ended december 31, 2023 or o transition report pursuant to section 13 or 15 ( d ) of the securities exchange act of 1934 for the transition period from _ _ _ _ _ _ _ _ _ to _ _ _ _ _ _ _ _ _ commission file number : 001 - 34756 tesla, inc. ( exact name of registrant as specified in its charter ) delaware 91 - 2197729 ( state or other jurisdiction of incorporation or organization ) ( i. r. s. employer identification no. ) 1 tesla road austin, texas 78725 ( address of principal executive offices ) ( zip code ) ( 512 ) 516 - 8177 ( registrant ’ s telephone number, including area code ) securities registered pursuant to section 12 ( b ) of the act : title of each class trading symbol ( s ) name of each exchange on which registered common stock tsla the nasdaq global select market' metadata={'page_number': 1}\", 'answer': \"The trading symbol for Tesla's common stock is TSLA, and it is registered on the NASDAQ Global Select Market.\"}) (input_keys={'context', 'question'}),\n",
       " Example({'question': 'According to the context, has the registrant filed all reports required by section 13 or 15 (d) of the Securities Exchange Act of 1934 during the preceding 12 months?', 'context': \"page_content='securities registered pursuant to section 12 ( g ) of the act : none indicate by check mark whether the registrant is a well - known seasoned issuer, as defined in rule 405 of the securities act. yes x no o indicate by check mark if the registrant is not required to file reports pursuant to section 13 or 15 ( d ) of the act. yes o no x indicate by check mark whether the registrant ( 1 ) has filed all reports required to be filed by section 13 or 15 ( d ) of the securities exchange act of 1934 ( “ exchange act ” ) during the preceding 12 months ( or for such shorter period that the registrant was required to file such reports ), and ( 2 ) has been subject to such filing requirements for the past 90 days. yes x no o indicate by check mark whether the registrant has submitted electronically every interactive data file required to be submitted pursuant to rule 405 of regulation s - t' metadata={'page_number': 1}\", 'answer': 'Yes, the registrant has filed all reports required by section 13 or 15 (d) of the Securities Exchange Act of 1934 during the preceding 12 months.'}) (input_keys={'context', 'question'}),\n",
       " Example({'question': 'According to the given context, is the registrant a large accelerated filer?', 'context': \"page_content='( § 232. 405 of this chapter ) during the preceding 12 months ( or for such shorter period that the registrant was required to submit such files ). yes x no o indicate by check mark whether the registrant is a large accelerated filer, an accelerated filer, a non - accelerated filer, a smaller reporting company, or an emerging growth company. see the definitions of “ large accelerated filer, ” “ accelerated filer, ” “ smaller reporting company ” and “ emerging growth company ” in rule 12b - 2 of the exchange act : large accelerated filer x accelerated filer o non - accelerated filer o smaller reporting company o emerging growth company o' metadata={'page_number': 1}\", 'answer': 'Yes, the registrant is a large accelerated filer.'}) (input_keys={'context', 'question'}),\n",
       " Example({'question': 'According to the given context, has the registrant elected not to use the extended transition period for complying with any new or revised financial accounting standards provided pursuant to section 13(a) of the Exchange Act?', 'context': \"page_content='if an emerging growth company, indicate by check mark if the registrant has elected not to use the extended transition period for complying with any new or revised financial accounting standards provided pursuant to section 13 ( a ) of the exchange act. o indicate by check mark whether the registrant has filed a report on and attestation to its management ’ s assessment of the effectiveness of its internal control over financial reporting under section 404 ( b ) of the sarbanes - oxley act ( 15 u. s. c. 7262 ( b ) ) by the registered public accounting firm that prepared or issued its audit report. x if securities are registered pursuant to section 12 ( b ) of the act, indicate by check mark whether the financial statements of the registrant included in the filing reflect the correction of an error to previously issued financial statements. o' metadata={'page_number': 2}\", 'answer': 'No, the registrant has not elected to use the extended transition period for complying with any new or revised financial accounting standards provided pursuant to section 13(a) of the Exchange Act.'}) (input_keys={'context', 'question'}),\n",
       " Example({'question': \"According to the context, did any of the error corrections require a recovery analysis of incentive-based compensation received by any of the registrant's executive officers?\", 'context': \"page_content='indicate by check mark whether any of those error corrections are restatements that required a recovery analysis of incentive - based compensation received by any of the registrant ’ s executive officers during the relevant recovery period pursuant to § 240. 10d - 1 ( b ). o indicate by check mark whether the registrant is a shell company ( as defined in rule 12b - 2 of the exchange act ). yes o no x the aggregate market value of voting stock held by non - affiliates of the registrant, as of june 30, 2023, the last day of the registrant ’ s most recently completed second fiscal quarter, was $ 722. 52 billion ( based on the closing price for shares of the registrant ’ s common stock as reported by the nasdaq global select market on june 30, 2023 ). shares of common stock held by each executive officer and director have been excluded in that such persons may be deemed to be affiliates. this determination of affiliate status is not necessarily a conclusive determination for other purposes.' metadata={'page_number': 2}\", 'answer': \"No, the error corrections did not require a recovery analysis of incentive-based compensation received by any of the registrant's executive officers.\"}) (input_keys={'context', 'question'}),\n",
       " Example({'question': \"How many shares of the registrant's common stock were outstanding as of January 22, 2024?\", 'context': \"page_content='as of january 22, 2024, there were 3, 184, 790, 415 shares of the registrant ’ s common stock outstanding. documents incorporated by reference portions of the registrant ’ s proxy statement for the 2024 annual meeting of stockholders are incorporated herein by reference in part iii of this annual report on form 10 - k to the extent stated herein. such proxy statement will be filed with the securities and exchange commission within 120 days of the registrant ’ s fiscal year ended december 31, 2023.' metadata={'page_number': 2}\", 'answer': \"As of January 22, 2024, there were 3,184,790,415 shares of the registrant's common stock outstanding.\"}) (input_keys={'context', 'question'}),\n",
       " Example({'question': 'What is the purpose of the annual report on Form 10-K?', 'context': 'page_content=\"tesla, inc. annual report on form 10 - k for the year ended december 31, 2023 index page part i. item 1. business 4 item 1a. risk factors 14 item 1b. unresolved staff comments 28 item 1c. cybersecurity 29 item 2. properties 30 item 3. legal proceedings 30 item 4. mine safety disclosures 30 part ii. item 5. market for registrant\\'s common equity, related stockholder matters and issuer purchases of equity securities 31 item 6. [ reserved ] 32 item 7. management\\'s discussion and analysis of financial condition and results of operations 33 item 7a. quantitative and qualitative disclosures about market risk 45 item 8. financial statements and supplementary data 46 item 9. changes in and disagreements with accountants on accounting and financial disclosure 93 item 9a. controls and procedures 93 item 9b. other information 94 item 9c. disclosure regarding foreign jurisdictions that prevent inspections 94 part iii. item 10. directors, executive officers and corporate governance 95\" metadata={\\'page_number\\': 3}', 'answer': \"The purpose of the annual report on Form 10-K is to provide a comprehensive overview of a company's business and financial condition. It includes detailed information on various aspects such as business operations, risk factors, financial statements, management's discussion and analysis, market risk disclosures, and corporate governance. This report is essential for investors, regulators, and other stakeholders to assess the company's performance and make informed decisions.\"}) (input_keys={'context', 'question'}),\n",
       " Example({'question': 'What information does item 12 of the document provide regarding security ownership?', 'context': \"page_content='item 11. executive compensation 95 item 12. security ownership of certain beneficial owners and management and related stockholder matters 95 item 13. certain relationships and related transactions, and director independence 95 item 14. principal accountant fees and services 95 part iv. item 15. exhibits and financial statement schedules 96 item 16. summary 111 signatures' metadata={'page_number': 3}\", 'answer': 'Item 12 of the document provides information regarding the security ownership of certain beneficial owners and management, as well as related stockholder matters.'}) (input_keys={'context', 'question'}),\n",
       " Example({'question': 'What do the forward-looking statements in the annual report on form 10-K include?', 'context': \"page_content='table of contents forward - looking statements the discussions in this annual report on form 10 - k contain forward - looking statements reflecting our current expectations that involve risks and uncertainties. these forward - looking statements include, but are not limited to, statements concerning supply chain constraints, our strategy, competition, future operations and production capacity, future financial position, future revenues, projected costs, profitability, expected cost reductions, capital adequacy, expectations regarding demand and acceptance for our technologies, growth opportunities and trends in the markets in which we operate, prospects and plans and objectives of management. the words “ anticipates, ” “ believes, ” “ could, ” “ estimates, ” “ expects, ” “ intends, ” “ may, ” “ plans, ” “ projects, ” “ will, ” “ would ” and similar expressions are intended to identify forward - looking statements, although not all forward - looking' metadata={'page_number': 4}\", 'answer': \"The forward-looking statements in the annual report on form 10-K include discussions reflecting the company's current expectations that involve risks and uncertainties. These statements cover a range of topics such as supply chain constraints, strategy, competition, future operations and production capacity, future financial position, future revenues, projected costs, profitability, expected cost reductions, capital adequacy, demand and acceptance for technologies, growth opportunities and market trends, as well as management's prospects, plans, and objectives. They are often identified by words like 'anticipates,' 'believes,' 'could,' 'estimates,' 'expects,' 'intends,' 'may,' 'plans,' 'projects,' 'will,' and 'would.'\"}) (input_keys={'context', 'question'}),\n",
       " Example({'question': 'What are the risks and uncertainties mentioned in the forward-looking statements?', 'context': \"page_content='statements contain these identifying words. we may not actually achieve the plans, intentions or expectations disclosed in our forward - looking statements and you should not place undue reliance on our forward - looking statements. actual results or events could differ materially from the plans, intentions and expectations disclosed in the forward - looking statements that we make. these forward - looking statements involve risks and uncertainties that could cause our actual results to differ materially from those in the forward - looking statements, including, without limitation, the risks set forth in part i, item 1a, “ risk factors ” of the annual report on form 10 - k for the fiscal year ended december 31, 2023 and that are otherwise described or updated from time to time in our other filings with the securities and exchange commission ( the “ sec ” ). the discussion of such risks is not an indication that any' metadata={'page_number': 4}\", 'answer': \"The risks and uncertainties mentioned in the forward-looking statements include the possibility that actual results or events could differ materially from the plans, intentions, and expectations disclosed. These risks are detailed in part I, item 1a, 'Risk Factors' of the annual report on Form 10-K for the fiscal year ended December 31, 2023, and are also described or updated in other filings with the Securities and Exchange Commission (SEC).\"}) (input_keys={'context', 'question'})]"
      ]
     },
     "execution_count": 6,
     "metadata": {},
     "output_type": "execute_result"
    }
   ],
   "source": [
    "trainset"
   ]
  },
  {
   "cell_type": "code",
   "execution_count": 7,
   "metadata": {},
   "outputs": [],
   "source": [
    "class GenerateAnswer(dspy.Signature):\n",
    "    \"\"\"Answer questions with short factoid answers.\"\"\"\n",
    "\n",
    "    context = dspy.InputField(desc=\"may contain relevant facts\")\n",
    "    question = dspy.InputField()\n",
    "    answer = dspy.OutputField(desc=\"often between 1 and 5 words\")"
   ]
  },
  {
   "cell_type": "code",
   "execution_count": 8,
   "metadata": {},
   "outputs": [],
   "source": [
    "class GenerateSearchQuery(dspy.Signature):\n",
    "    \"\"\"Write a simple search query that will help answer a complex question.\"\"\"\n",
    "\n",
    "    context = dspy.InputField(desc=\"may contain relevant facts\")\n",
    "    question = dspy.InputField()\n",
    "    query = dspy.OutputField()"
   ]
  },
  {
   "cell_type": "code",
   "execution_count": 9,
   "metadata": {},
   "outputs": [],
   "source": [
    "from dsp.utils import deduplicate\n",
    "class SimplifiedBaleen(dspy.Module):\n",
    "    def __init__(self, passages_per_hop=3, max_hops=2):\n",
    "        super().__init__()\n",
    "\n",
    "        self.generate_query = [dspy.ChainOfThought(GenerateSearchQuery) for _ in range(max_hops)]\n",
    "        self.retrieve = dspy.Retrieve(k=passages_per_hop)\n",
    "        self.generate_answer = dspy.ChainOfThought(GenerateAnswer)\n",
    "        self.max_hops = max_hops\n",
    "\n",
    "    def forward(self, question, context=None):\n",
    "        if context is None:\n",
    "            context = []  # Ensure context is a list if not provided\n",
    "        \n",
    "        for hop in range(self.max_hops):\n",
    "            query = self.generate_query[hop](context=context, question=question).query\n",
    "            retrieved_data = self.retrieve(query)\n",
    "            passages = retrieved_data.passages if hasattr(retrieved_data, 'passages') else []\n",
    "\n",
    "            # Ensure both context and passages are lists before concatenation\n",
    "            if not isinstance(context, list):\n",
    "                context = [context]\n",
    "            if not isinstance(passages, list):\n",
    "                passages = [passages]\n",
    "\n",
    "            context = deduplicate(context + passages)\n",
    "\n",
    "        pred = self.generate_answer(context=context, question=question)\n",
    "        return dspy.Prediction(context=context, answer=pred.answer)"
   ]
  },
  {
   "cell_type": "code",
   "execution_count": 10,
   "metadata": {},
   "outputs": [
    {
     "name": "stdout",
     "output_type": "stream",
     "text": [
      "Question: what's revenue of tesla 2023?\n",
      "Predicted Answer: $96,773 million\n",
      "Retrieved Contexts (truncated): ['other comprehensive loss ( 143 ) ( 361 ) Retained earnings 27,882 12,885 Total stockholders equity 62,634 44,704 Noncontrolling interests in subsidiaries 733 785 Total liabilities and equity $ 106,618...', 'taxes owed, if any. Tesla periodically does business with certain entities with which its CEO and directors are affiliated, such as SpaceX and X Corp., in accordance with our Related Person Transactio...', 'the year ended December 31, 2023 as compared to the year ended December 31, 2022, primarily due to the release of the valuation allowance regarding our U.S. federal and certain state deferred tax asse...', 'used vehicle revenue driven by increases in volume, body shop and part sales revenue, non-warranty maintenance services revenue, paid Supercharging revenue and insurance services revenue, all of which...', 'Gigafactory Documents, dated April 5, 2016, by and among the Registrant, Panasonic Corporation, Panasonic Corporation of North America and Panasonic Energy Corporation of North America. 10-Q 001-34756...']\n"
     ]
    }
   ],
   "source": [
    "# Ask any question you like to this simple RAG program.\n",
    "my_question = \"what's revenue of tesla 2023?\"\n",
    "\n",
    "# Get the prediction. This contains `pred.context` and `pred.answer`.\n",
    "uncompiled_baleen = SimplifiedBaleen()  # uncompiled (i.e., zero-shot) program\n",
    "pred = uncompiled_baleen(my_question)\n",
    "\n",
    "# Print the contexts and the answer.\n",
    "print(f\"Question: {my_question}\")\n",
    "print(f\"Predicted Answer: {pred.answer}\")\n",
    "print(f\"Retrieved Contexts (truncated): {[c[:200] + '...' for c in pred.context]}\")"
   ]
  },
  {
   "cell_type": "code",
   "execution_count": 11,
   "metadata": {},
   "outputs": [
    {
     "name": "stdout",
     "output_type": "stream",
     "text": [
      "\n",
      "\n",
      "\n",
      "\n",
      "Write a simple search query that will help answer a complex question.\n",
      "\n",
      "---\n",
      "\n",
      "Follow the following format.\n",
      "\n",
      "Context: may contain relevant facts\n",
      "\n",
      "Question: ${question}\n",
      "\n",
      "Reasoning: Let's think step by step in order to ${produce the query}. We ...\n",
      "\n",
      "Query: ${query}\n",
      "\n",
      "---\n",
      "\n",
      "Context:\n",
      "[1] «other comprehensive loss ( 143 ) ( 361 ) Retained earnings 27,882 12,885 Total stockholders equity 62,634 44,704 Noncontrolling interests in subsidiaries 733 785 Total liabilities and equity $ 106,618 $ 82,338 The accompanying notes are an integral part of these consolidated financial statements. 49 Tesla, Inc. Consolidated Statements of Operations (in millions, except per share data) Year Ended December 31, 2023 2022 2021 Revenues Automotive sales $ 78,509 $ 67,210 $ 44,125 Automotive regulatory credits 1,790 1,776 1,465 Automotive leasing 2,120 2,476 1,642 Total automotive revenues 82,419 71,462 47,232 Energy generation and storage 6,035 3,909 2,789 Services and other 8,319 6,091 3,802 Total revenues 96,773 81,462 53,823 Cost of revenues Automotive sales 65,121 49,599 32,415 Automotive leasing 1,268 1,509 978 Total automotive cost of revenues 66,389 51,108 33,393 Energy generation and storage 4,894 3,621 2,918 Services and other 7,830 5,880 3,906 Total cost of revenues 79,113 60,609»\n",
      "[2] «taxes owed, if any. Tesla periodically does business with certain entities with which its CEO and directors are affiliated, such as SpaceX and X Corp., in accordance with our Related Person Transactions Policy. Such transactions have not had to date, and are not currently expected to have, a material impact on our consolidated financial statements. 91 Note 18 Segment Reporting and Information about Geographic Areas We have two operating and reportable segments: (i) automotive and (ii) energy generation and storage. The automotive segment includes the design, development, manufacturing, sales and leasing of electric vehicles as well as sales of automotive regulatory credits. Additionally, the automotive segment is also comprised of services and other, which includes sales of used vehicles, non-warranty after-sales vehicle services, body shop and parts, paid Supercharging, vehicle insurance revenue and retail merchandise. The energy generation and storage segment includes the design,»\n",
      "[3] «the year ended December 31, 2023 as compared to the year ended December 31, 2022, primarily due to the release of the valuation allowance regarding our U.S. federal and certain state deferred tax assets. See Note 14, Income Taxes , to the consolidated financial statements included elsewhere in this Annual Report on Form 10-K for further details. Liquidity and Capital Resources We expect to continue to generate net positive operating cash flow as we have done in the last five fiscal years. The cash we generate from our core operations enables us to fund ongoing operations and production, our research and development projects for new products and technologies including our proprietary battery cells, additional manufacturing ramps at existing manufacturing facilities, the construction of future factories, and the continued expansion of our retail and service locations, body shops, Mobile Service fleet, Supercharger, including to support NACS, energy product installation capabilities and»\n",
      "\n",
      "Question: what's revenue of tesla 2023?\n",
      "\n",
      "Reasoning: Let's think step by step in order to\u001b[32m produce the query. We know that the revenue for Tesla in 2023 is mentioned in the context provided. We need to extract this specific information from the text.\n",
      "\n",
      "Query: Revenue of Tesla in 2023\u001b[0m\n",
      "\n",
      "\n",
      "\n",
      "\n",
      "\n",
      "\n",
      "\n",
      "Answer questions with short factoid answers.\n",
      "\n",
      "---\n",
      "\n",
      "Follow the following format.\n",
      "\n",
      "Context: may contain relevant facts\n",
      "\n",
      "Question: ${question}\n",
      "\n",
      "Reasoning: Let's think step by step in order to ${produce the answer}. We ...\n",
      "\n",
      "Answer: often between 1 and 5 words\n",
      "\n",
      "---\n",
      "\n",
      "Context:\n",
      "[1] «other comprehensive loss ( 143 ) ( 361 ) Retained earnings 27,882 12,885 Total stockholders equity 62,634 44,704 Noncontrolling interests in subsidiaries 733 785 Total liabilities and equity $ 106,618 $ 82,338 The accompanying notes are an integral part of these consolidated financial statements. 49 Tesla, Inc. Consolidated Statements of Operations (in millions, except per share data) Year Ended December 31, 2023 2022 2021 Revenues Automotive sales $ 78,509 $ 67,210 $ 44,125 Automotive regulatory credits 1,790 1,776 1,465 Automotive leasing 2,120 2,476 1,642 Total automotive revenues 82,419 71,462 47,232 Energy generation and storage 6,035 3,909 2,789 Services and other 8,319 6,091 3,802 Total revenues 96,773 81,462 53,823 Cost of revenues Automotive sales 65,121 49,599 32,415 Automotive leasing 1,268 1,509 978 Total automotive cost of revenues 66,389 51,108 33,393 Energy generation and storage 4,894 3,621 2,918 Services and other 7,830 5,880 3,906 Total cost of revenues 79,113 60,609»\n",
      "[2] «taxes owed, if any. Tesla periodically does business with certain entities with which its CEO and directors are affiliated, such as SpaceX and X Corp., in accordance with our Related Person Transactions Policy. Such transactions have not had to date, and are not currently expected to have, a material impact on our consolidated financial statements. 91 Note 18 Segment Reporting and Information about Geographic Areas We have two operating and reportable segments: (i) automotive and (ii) energy generation and storage. The automotive segment includes the design, development, manufacturing, sales and leasing of electric vehicles as well as sales of automotive regulatory credits. Additionally, the automotive segment is also comprised of services and other, which includes sales of used vehicles, non-warranty after-sales vehicle services, body shop and parts, paid Supercharging, vehicle insurance revenue and retail merchandise. The energy generation and storage segment includes the design,»\n",
      "[3] «the year ended December 31, 2023 as compared to the year ended December 31, 2022, primarily due to the release of the valuation allowance regarding our U.S. federal and certain state deferred tax assets. See Note 14, Income Taxes , to the consolidated financial statements included elsewhere in this Annual Report on Form 10-K for further details. Liquidity and Capital Resources We expect to continue to generate net positive operating cash flow as we have done in the last five fiscal years. The cash we generate from our core operations enables us to fund ongoing operations and production, our research and development projects for new products and technologies including our proprietary battery cells, additional manufacturing ramps at existing manufacturing facilities, the construction of future factories, and the continued expansion of our retail and service locations, body shops, Mobile Service fleet, Supercharger, including to support NACS, energy product installation capabilities and»\n",
      "[4] «used vehicle revenue driven by increases in volume, body shop and part sales revenue, non-warranty maintenance services revenue, paid Supercharging revenue and insurance services revenue, all of which are primarily attributable to our growing fleet. The increases were partially offset by a decrease in the average selling price of used vehicles. Energy Generation and Storage Segment Energy generation and storage revenue includes sales and leasing of solar energy generation and energy storage products, financing of solar energy generation products, services related to such products and sales of solar energy systems incentives. 2023 compared to 2022 Energy generation and storage revenue increased $2.13 billion, or 54%, in the year ended December 31, 2023 as compared to the year ended December 31, 2022. The increase was primarily due to an increase in deployments of Megapack. Cost of Revenues and Gross Margin Year Ended December 31, 2023 vs. 2022 Change 2022 vs. 2021 Change (Dollars in»\n",
      "[5] «Gigafactory Documents, dated April 5, 2016, by and among the Registrant, Panasonic Corporation, Panasonic Corporation of North America and Panasonic Energy Corporation of North America. 10-Q 001-34756 10.2 May 10, 2016 10.35 2019 Pricing Agreement (Japan Cells) with respect to 2011 Supply Agreement, executed September 20, 2019, by and among the Registrant, Tesla Motors Netherlands B.V., Panasonic Corporation and SANYO Electric Co., Ltd. 10-Q 001-34756 10.6 October 29, 2019 10.36 2020 Pricing Agreement (Gigafactory 2170 Cells), entered into on June 9, 2020, by and among Registrant, Tesla Motors Netherlands B.V., Panasonic Corporation and Panasonic Corporation of North America . 10-Q 001-34756 10.3 July 28, 2020 10.37 2021 Pricing Agreement (Japan Cells) with respect to 2011 Supply Agreement, executed December 29, 2020, by and among the Registrant, Tesla Motors Netherlands B.V., Panasonic Corporation of North America and SANYO Electric Co., Ltd. 10-K 001-34756 10.39 February 8, 2021»\n",
      "\n",
      "Question: what's revenue of tesla 2023?\n",
      "\n",
      "Reasoning: Let's think step by step in order to\u001b[32m Answer: $96,773 million\u001b[0m\n",
      "\n",
      "\n",
      "\n",
      "\n",
      "\n",
      "\n",
      "\n",
      "Answer questions with short factoid answers.\n",
      "\n",
      "---\n",
      "\n",
      "Follow the following format.\n",
      "\n",
      "Context: may contain relevant facts\n",
      "\n",
      "Question: ${question}\n",
      "\n",
      "Reasoning: Let's think step by step in order to ${produce the answer}. We ...\n",
      "\n",
      "Answer: often between 1 and 5 words\n",
      "\n",
      "---\n",
      "\n",
      "Context:\n",
      "[1] «other comprehensive loss ( 143 ) ( 361 ) Retained earnings 27,882 12,885 Total stockholders equity 62,634 44,704 Noncontrolling interests in subsidiaries 733 785 Total liabilities and equity $ 106,618 $ 82,338 The accompanying notes are an integral part of these consolidated financial statements. 49 Tesla, Inc. Consolidated Statements of Operations (in millions, except per share data) Year Ended December 31, 2023 2022 2021 Revenues Automotive sales $ 78,509 $ 67,210 $ 44,125 Automotive regulatory credits 1,790 1,776 1,465 Automotive leasing 2,120 2,476 1,642 Total automotive revenues 82,419 71,462 47,232 Energy generation and storage 6,035 3,909 2,789 Services and other 8,319 6,091 3,802 Total revenues 96,773 81,462 53,823 Cost of revenues Automotive sales 65,121 49,599 32,415 Automotive leasing 1,268 1,509 978 Total automotive cost of revenues 66,389 51,108 33,393 Energy generation and storage 4,894 3,621 2,918 Services and other 7,830 5,880 3,906 Total cost of revenues 79,113 60,609»\n",
      "[2] «taxes owed, if any. Tesla periodically does business with certain entities with which its CEO and directors are affiliated, such as SpaceX and X Corp., in accordance with our Related Person Transactions Policy. Such transactions have not had to date, and are not currently expected to have, a material impact on our consolidated financial statements. 91 Note 18 Segment Reporting and Information about Geographic Areas We have two operating and reportable segments: (i) automotive and (ii) energy generation and storage. The automotive segment includes the design, development, manufacturing, sales and leasing of electric vehicles as well as sales of automotive regulatory credits. Additionally, the automotive segment is also comprised of services and other, which includes sales of used vehicles, non-warranty after-sales vehicle services, body shop and parts, paid Supercharging, vehicle insurance revenue and retail merchandise. The energy generation and storage segment includes the design,»\n",
      "[3] «the year ended December 31, 2023 as compared to the year ended December 31, 2022, primarily due to the release of the valuation allowance regarding our U.S. federal and certain state deferred tax assets. See Note 14, Income Taxes , to the consolidated financial statements included elsewhere in this Annual Report on Form 10-K for further details. Liquidity and Capital Resources We expect to continue to generate net positive operating cash flow as we have done in the last five fiscal years. The cash we generate from our core operations enables us to fund ongoing operations and production, our research and development projects for new products and technologies including our proprietary battery cells, additional manufacturing ramps at existing manufacturing facilities, the construction of future factories, and the continued expansion of our retail and service locations, body shops, Mobile Service fleet, Supercharger, including to support NACS, energy product installation capabilities and»\n",
      "[4] «used vehicle revenue driven by increases in volume, body shop and part sales revenue, non-warranty maintenance services revenue, paid Supercharging revenue and insurance services revenue, all of which are primarily attributable to our growing fleet. The increases were partially offset by a decrease in the average selling price of used vehicles. Energy Generation and Storage Segment Energy generation and storage revenue includes sales and leasing of solar energy generation and energy storage products, financing of solar energy generation products, services related to such products and sales of solar energy systems incentives. 2023 compared to 2022 Energy generation and storage revenue increased $2.13 billion, or 54%, in the year ended December 31, 2023 as compared to the year ended December 31, 2022. The increase was primarily due to an increase in deployments of Megapack. Cost of Revenues and Gross Margin Year Ended December 31, 2023 vs. 2022 Change 2022 vs. 2021 Change (Dollars in»\n",
      "[5] «Gigafactory Documents, dated April 5, 2016, by and among the Registrant, Panasonic Corporation, Panasonic Corporation of North America and Panasonic Energy Corporation of North America. 10-Q 001-34756 10.2 May 10, 2016 10.35 2019 Pricing Agreement (Japan Cells) with respect to 2011 Supply Agreement, executed September 20, 2019, by and among the Registrant, Tesla Motors Netherlands B.V., Panasonic Corporation and SANYO Electric Co., Ltd. 10-Q 001-34756 10.6 October 29, 2019 10.36 2020 Pricing Agreement (Gigafactory 2170 Cells), entered into on June 9, 2020, by and among Registrant, Tesla Motors Netherlands B.V., Panasonic Corporation and Panasonic Corporation of North America . 10-Q 001-34756 10.3 July 28, 2020 10.37 2021 Pricing Agreement (Japan Cells) with respect to 2011 Supply Agreement, executed December 29, 2020, by and among the Registrant, Tesla Motors Netherlands B.V., Panasonic Corporation of North America and SANYO Electric Co., Ltd. 10-K 001-34756 10.39 February 8, 2021»\n",
      "\n",
      "Question: what's revenue of tesla 2023?\n",
      "\n",
      "Reasoning: Let's think step by step in order to Answer: $96,773 million\n",
      "\n",
      "Answer:\u001b[32m $96,773 million\u001b[0m\n",
      "\n",
      "\n",
      "\n"
     ]
    }
   ],
   "source": [
    "turbo.inspect_history(n=3)"
   ]
  },
  {
   "cell_type": "code",
   "execution_count": 13,
   "metadata": {},
   "outputs": [],
   "source": [
    "class Assess(dspy.Signature):\n",
    "    \"\"\"Assess the quality of an answer to a question.\"\"\"\n",
    "    \n",
    "    context = dspy.InputField(desc=\"The context for answering the question.\")\n",
    "    assessed_question = dspy.InputField(desc=\"The evaluation criterion.\")\n",
    "    assessed_answer = dspy.InputField(desc=\"The answer to the question.\")\n",
    "    assessment_answer = dspy.OutputField(desc=\"A rating between 1 and 5. Only output the rating and nothing else.\")\n",
    "\n",
    "metricLM = dspy.OpenAI(model='gpt-4', max_tokens=1000, model_type='chat')\n",
    "\n",
    "def llm_metric(gold, pred, trace=None):\n",
    "    predicted_answer = pred.answer  # Assuming `pred` is the prediction object and has an `answer` attribute\n",
    "    question = gold.question\n",
    "\n",
    "    print(f\"Test Question: {question}\")\n",
    "    print(f\"Predicted Answer: {predicted_answer}\")\n",
    "\n",
    "    detail = \"Is the assessed answer detailed?\"\n",
    "    faithful = \"Is the assessed text grounded in the context? Say no if it includes significant facts not in the context.\"\n",
    "    overall = f\"Please rate how well this answer answers the question, `{question}` based on the context.\\n `{predicted_answer}`\"\n",
    "\n",
    "    with dspy.context(lm=metricLM):\n",
    "        context = gold.context\n",
    "        detail = dspy.ChainOfThought(Assess)(context=\"N/A\", assessed_question=detail, assessed_answer=predicted_answer)\n",
    "        faithful = dspy.ChainOfThought(Assess)(context=context, assessed_question=faithful, assessed_answer=predicted_answer)\n",
    "        overall = dspy.ChainOfThought(Assess)(context=context, assessed_question=overall, assessed_answer=predicted_answer)\n",
    "\n",
    "    print(f\"Faithful: {faithful.assessment_answer}\")\n",
    "    print(f\"Detail: {detail.assessment_answer}\")\n",
    "    print(f\"Overall: {overall.assessment_answer}\")\n",
    "    total = float(detail.assessment_answer) + float(faithful.assessment_answer)*2 + float(overall.assessment_answer)\n",
    "\n",
    "    return total / 5.0"
   ]
  },
  {
   "cell_type": "code",
   "execution_count": 14,
   "metadata": {},
   "outputs": [
    {
     "name": "stderr",
     "output_type": "stream",
     "text": [
      "huggingface/tokenizers: The current process just got forked, after parallelism has already been used. Disabling parallelism to avoid deadlocks...\n",
      "To disable this warning, you can either:\n",
      "\t- Avoid using `tokenizers` before the fork if possible\n",
      "\t- Explicitly set the environment variable TOKENIZERS_PARALLELISM=(true | false)\n",
      " 40%|████      | 4/10 [00:00<00:00, 25.11it/s]"
     ]
    },
    {
     "name": "stdout",
     "output_type": "stream",
     "text": [
      "Test Question: What is the trading symbol for Tesla's common stock and on which exchange is it registered?\n",
      "Predicted Answer: TSLA, The Nasdaq Global Select Market\n",
      "Faithful: 5\n",
      "Detail: 2\n",
      "Overall: 5\n",
      "Test Question: According to the context, has the registrant filed all reports required by section 13 or 15 (d) of the Securities Exchange Act of 1934 during the preceding 12 months?\n",
      "Predicted Answer: Yes\n",
      "Faithful: 5\n",
      "Detail: 1\n",
      "Overall: 5\n",
      "Test Question: According to the given context, is the registrant a large accelerated filer?\n",
      "Predicted Answer: Yes\n",
      "Faithful: 5\n",
      "Detail: 1\n",
      "Overall: 5\n",
      "Test Question: According to the given context, has the registrant elected not to use the extended transition period for complying with any new or revised financial accounting standards provided pursuant to section 13(a) of the Exchange Act?\n",
      "Predicted Answer: Yes\n",
      "Faithful: 5\n",
      "Detail: 1\n",
      "Overall: 1\n",
      "Bootstrapped 4 full traces after 5 examples in round 0.\n"
     ]
    },
    {
     "name": "stderr",
     "output_type": "stream",
     "text": [
      "\n"
     ]
    }
   ],
   "source": [
    "from dspy.teleprompt import BootstrapFewShot\n",
    "\n",
    "# teleprompter = BootstrapFewShot(metric=validate_context_and_answer_and_hops)\n",
    "teleprompter = BootstrapFewShot(metric=llm_metric)\n",
    "compiled_baleen = teleprompter.compile(SimplifiedBaleen(), teacher=SimplifiedBaleen(passages_per_hop=2), trainset=trainset)"
   ]
  },
  {
   "cell_type": "code",
   "execution_count": 15,
   "metadata": {},
   "outputs": [],
   "source": [
    "from dspy.evaluate.evaluate import Evaluate\n",
    "\n",
    "# Set up the `evaluate_on_hotpotqa` function. We'll use this many times below.\n",
    "evaluate_on_hotpotqa = Evaluate(devset=devset, num_threads=1, display_progress=True, display_table=5)"
   ]
  },
  {
   "cell_type": "code",
   "execution_count": 16,
   "metadata": {},
   "outputs": [
    {
     "name": "stderr",
     "output_type": "stream",
     "text": [
      "Average Metric: 17.2 / 6  (286.7):  50%|█████     | 5/10 [00:00<00:00, 23.04it/s]"
     ]
    },
    {
     "name": "stdout",
     "output_type": "stream",
     "text": [
      "Test Question: What are some strategies Tesla uses to accelerate the widespread adoption of their products?\n",
      "Predicted Answer: Offer financial and other services\n",
      "Faithful: 5\n",
      "Detail: 2\n",
      "Overall: 3\n",
      "Test Question: What are the two reportable segments of the company?\n",
      "Predicted Answer: automotive and energy generation and storage\n",
      "Faithful: 5\n",
      "Detail: 2\n",
      "Overall: 5\n",
      "Test Question: What are the five different consumer vehicles currently manufactured by the company?\n",
      "Predicted Answer: Model 3, Y, S, X, Cybertruck\n",
      "Faithful: 5\n",
      "Detail: 2\n",
      "Overall: 5\n",
      "Test Question: What is the purpose of the Tesla Semi?\n",
      "Predicted Answer: address additional vehicle markets\n",
      "Faithful: 5\n",
      "Detail: 1\n",
      "Overall: 5\n",
      "Test Question: What are some markets and applications that can be accessed through our real-time energy control and optimization platforms?\n",
      "Predicted Answer: energy generation, storage\n",
      "Faithful: 1\n",
      "Detail: 1\n",
      "Overall: 1\n",
      "Test Question: What are the different ways in which the company sells its retrofit solar energy systems?\n",
      "Predicted Answer: Directly to customers and through channel partners.\n",
      "Faithful: 5\n",
      "Detail: 2\n",
      "Overall: 5\n"
     ]
    },
    {
     "name": "stderr",
     "output_type": "stream",
     "text": [
      "Average Metric: 20.4 / 7  (291.4):  60%|██████    | 6/10 [00:00<00:00, 23.04it/s]huggingface/tokenizers: The current process just got forked, after parallelism has already been used. Disabling parallelism to avoid deadlocks...\n",
      "To disable this warning, you can either:\n",
      "\t- Avoid using `tokenizers` before the fork if possible\n",
      "\t- Explicitly set the environment variable TOKENIZERS_PARALLELISM=(true | false)\n"
     ]
    },
    {
     "name": "stdout",
     "output_type": "stream",
     "text": [
      "Test Question: What are the unique advantages of our electric powertrain systems?\n",
      "Predicted Answer: adaptable, efficient, reliable, cost-effective\n",
      "Faithful: 5\n",
      "Detail: 1\n",
      "Overall: 5\n",
      "Test Question: What is the purpose of the control software in our vehicles?\n",
      "Predicted Answer: optimize performance, customize behavior, manage charging, control infotainment.\n"
     ]
    },
    {
     "name": "stderr",
     "output_type": "stream",
     "text": [
      "Average Metric: 29.599999999999998 / 10  (296.0): 100%|██████████| 10/10 [00:14<00:00,  1.47s/it]"
     ]
    },
    {
     "name": "stdout",
     "output_type": "stream",
     "text": [
      "Faithful: 5\n",
      "Detail: 2\n",
      "Overall: 5\n",
      "Test Question: What functionality do our advanced driver assist systems provide in our vehicles?\n",
      "Predicted Answer: safety and convenience functionality\n",
      "Faithful: 5\n",
      "Detail: 1\n",
      "Overall: 5\n",
      "Test Question: How do we optimize the manufacturing capacity of our energy storage products through a modular approach to battery system design?\n",
      "Predicted Answer: By taking a modular approach.\n",
      "Faithful: 5\n",
      "Detail: 1\n",
      "Overall: 2\n",
      "Average Metric: 29.599999999999998 / 10  (296.0%)\n"
     ]
    },
    {
     "name": "stderr",
     "output_type": "stream",
     "text": [
      "\n",
      "/Users/hongtang/Documents/RAG_Implementation/ragvenv/lib/python3.9/site-packages/dspy/evaluate/evaluate.py:266: FutureWarning: Setting an item of incompatible dtype is deprecated and will raise in a future error of pandas. Value '['3.0' '3.4' '3.4' '3.2' '0.8']' has dtype incompatible with float64, please explicitly cast to a compatible dtype first.\n",
      "  df.loc[:, metric_name] = df[metric_name].apply(\n"
     ]
    },
    {
     "data": {
      "text/html": [
       "<style type=\"text/css\">\n",
       "#T_5a3bb th {\n",
       "  text-align: left;\n",
       "}\n",
       "#T_5a3bb td {\n",
       "  text-align: left;\n",
       "}\n",
       "#T_5a3bb_row0_col0, #T_5a3bb_row0_col1, #T_5a3bb_row0_col2, #T_5a3bb_row0_col3, #T_5a3bb_row0_col4, #T_5a3bb_row0_col5, #T_5a3bb_row1_col0, #T_5a3bb_row1_col1, #T_5a3bb_row1_col2, #T_5a3bb_row1_col3, #T_5a3bb_row1_col4, #T_5a3bb_row1_col5, #T_5a3bb_row2_col0, #T_5a3bb_row2_col1, #T_5a3bb_row2_col2, #T_5a3bb_row2_col3, #T_5a3bb_row2_col4, #T_5a3bb_row2_col5, #T_5a3bb_row3_col0, #T_5a3bb_row3_col1, #T_5a3bb_row3_col2, #T_5a3bb_row3_col3, #T_5a3bb_row3_col4, #T_5a3bb_row3_col5, #T_5a3bb_row4_col0, #T_5a3bb_row4_col1, #T_5a3bb_row4_col2, #T_5a3bb_row4_col3, #T_5a3bb_row4_col4, #T_5a3bb_row4_col5 {\n",
       "  text-align: left;\n",
       "  white-space: pre-wrap;\n",
       "  word-wrap: break-word;\n",
       "  max-width: 400px;\n",
       "}\n",
       "</style>\n",
       "<table id=\"T_5a3bb\">\n",
       "  <thead>\n",
       "    <tr>\n",
       "      <th class=\"blank level0\" >&nbsp;</th>\n",
       "      <th id=\"T_5a3bb_level0_col0\" class=\"col_heading level0 col0\" >question</th>\n",
       "      <th id=\"T_5a3bb_level0_col1\" class=\"col_heading level0 col1\" >example_context</th>\n",
       "      <th id=\"T_5a3bb_level0_col2\" class=\"col_heading level0 col2\" >example_answer</th>\n",
       "      <th id=\"T_5a3bb_level0_col3\" class=\"col_heading level0 col3\" >pred_context</th>\n",
       "      <th id=\"T_5a3bb_level0_col4\" class=\"col_heading level0 col4\" >pred_answer</th>\n",
       "      <th id=\"T_5a3bb_level0_col5\" class=\"col_heading level0 col5\" >llm_metric</th>\n",
       "    </tr>\n",
       "  </thead>\n",
       "  <tbody>\n",
       "    <tr>\n",
       "      <th id=\"T_5a3bb_level0_row0\" class=\"row_heading level0 row0\" >0</th>\n",
       "      <td id=\"T_5a3bb_row0_col0\" class=\"data row0 col0\" >What are some strategies Tesla uses to accelerate the widespread adoption of their products?</td>\n",
       "      <td id=\"T_5a3bb_row0_col1\" class=\"data row0 col1\" >page_content='table of contents part i item 1. business overview we design, develop, manufacture, sell and lease high - performance fully electric vehicles and energy generation...</td>\n",
       "      <td id=\"T_5a3bb_row0_col2\" class=\"data row0 col2\" >Tesla employs several strategies to accelerate the widespread adoption of their products. These include selling their products directly to customers, expanding their customer-facing infrastructure through...</td>\n",
       "      <td id=\"T_5a3bb_row0_col3\" class=\"data row0 col3\" >[\"page_content='table of contents part i item 1. business overview we design, develop, manufacture, sell and lease high - performance fully electric vehicles and energy generation...</td>\n",
       "      <td id=\"T_5a3bb_row0_col4\" class=\"data row0 col4\" >Offer financial and other services</td>\n",
       "      <td id=\"T_5a3bb_row0_col5\" class=\"data row0 col5\" >3.0</td>\n",
       "    </tr>\n",
       "    <tr>\n",
       "      <th id=\"T_5a3bb_level0_row1\" class=\"row_heading level0 row1\" >1</th>\n",
       "      <td id=\"T_5a3bb_row1_col0\" class=\"data row1 col0\" >What are the two reportable segments of the company?</td>\n",
       "      <td id=\"T_5a3bb_row1_col1\" class=\"data row1 col1\" >page_content='our mission is to accelerate the world ’ s transition to sustainable energy. we believe that this mission, along with our engineering expertise, vertically integrated...</td>\n",
       "      <td id=\"T_5a3bb_row1_col2\" class=\"data row1 col2\" >The two reportable segments of the company are (i) automotive and (ii) energy generation and storage.</td>\n",
       "      <td id=\"T_5a3bb_row1_col3\" class=\"data row1 col3\" >[\"page_content='our mission is to accelerate the world ’ s transition to sustainable energy. we believe that this mission, along with our engineering expertise, vertically integrated...</td>\n",
       "      <td id=\"T_5a3bb_row1_col4\" class=\"data row1 col4\" >automotive and energy generation and storage</td>\n",
       "      <td id=\"T_5a3bb_row1_col5\" class=\"data row1 col5\" >3.4</td>\n",
       "    </tr>\n",
       "    <tr>\n",
       "      <th id=\"T_5a3bb_level0_row2\" class=\"row_heading level0 row2\" >2</th>\n",
       "      <td id=\"T_5a3bb_row2_col0\" class=\"data row2 col0\" >What are the five different consumer vehicles currently manufactured by the company?</td>\n",
       "      <td id=\"T_5a3bb_row2_col1\" class=\"data row2 col1\" >page_content='services and sales of solar energy systems incentives. our products and services automotive we currently manufacture five different consumer vehicles – the model 3, y,...</td>\n",
       "      <td id=\"T_5a3bb_row2_col2\" class=\"data row2 col2\" >The five different consumer vehicles currently manufactured by the company are the Model 3, Model Y, Model S, Model X, and Cybertruck.</td>\n",
       "      <td id=\"T_5a3bb_row2_col3\" class=\"data row2 col3\" >[\"page_content='services and sales of solar energy systems incentives. our products and services automotive we currently manufacture five different consumer vehicles – the model 3, y,...</td>\n",
       "      <td id=\"T_5a3bb_row2_col4\" class=\"data row2 col4\" >Model 3, Y, S, X, Cybertruck</td>\n",
       "      <td id=\"T_5a3bb_row2_col5\" class=\"data row2 col5\" >3.4</td>\n",
       "    </tr>\n",
       "    <tr>\n",
       "      <th id=\"T_5a3bb_level0_row3\" class=\"row_heading level0 row3\" >3</th>\n",
       "      <td id=\"T_5a3bb_row3_col0\" class=\"data row3 col0\" >What is the purpose of the Tesla Semi?</td>\n",
       "      <td id=\"T_5a3bb_row3_col1\" class=\"data row3 col1\" >page_content='in 2022, we also began early production and deliveries of a commercial electric vehicle, the tesla semi. we have planned electric vehicles to address additional...</td>\n",
       "      <td id=\"T_5a3bb_row3_col2\" class=\"data row3 col2\" >The purpose of the Tesla Semi is to serve as a commercial electric vehicle, addressing additional vehicle markets and leveraging Tesla's developments in full self-driving...</td>\n",
       "      <td id=\"T_5a3bb_row3_col3\" class=\"data row3 col3\" >[\"page_content='in 2022, we also began early production and deliveries of a commercial electric vehicle, the tesla semi. we have planned electric vehicles to address additional...</td>\n",
       "      <td id=\"T_5a3bb_row3_col4\" class=\"data row3 col4\" >address additional vehicle markets</td>\n",
       "      <td id=\"T_5a3bb_row3_col5\" class=\"data row3 col5\" >3.2</td>\n",
       "    </tr>\n",
       "    <tr>\n",
       "      <th id=\"T_5a3bb_level0_row4\" class=\"row_heading level0 row4\" >4</th>\n",
       "      <td id=\"T_5a3bb_row4_col0\" class=\"data row4 col0\" >What are some markets and applications that can be accessed through our real-time energy control and optimization platforms?</td>\n",
       "      <td id=\"T_5a3bb_row4_col1\" class=\"data row4 col1\" >page_content='markets and applications, including through our real - time energy control and optimization platforms. 4' metadata={'page_number': 5}</td>\n",
       "      <td id=\"T_5a3bb_row4_col2\" class=\"data row4 col2\" >The real-time energy control and optimization platforms can access various markets and applications. These include energy management for industrial and commercial buildings, integration with renewable...</td>\n",
       "      <td id=\"T_5a3bb_row4_col3\" class=\"data row4 col3\" >[\"page_content='markets and applications, including through our real - time energy control and optimization platforms. 4' metadata={'page_number': 5}\", 'loss up to a certain limit or repurchase...</td>\n",
       "      <td id=\"T_5a3bb_row4_col4\" class=\"data row4 col4\" >energy generation, storage</td>\n",
       "      <td id=\"T_5a3bb_row4_col5\" class=\"data row4 col5\" >0.8</td>\n",
       "    </tr>\n",
       "  </tbody>\n",
       "</table>\n"
      ],
      "text/plain": [
       "<pandas.io.formats.style.Styler at 0x16b5d1be0>"
      ]
     },
     "metadata": {},
     "output_type": "display_data"
    },
    {
     "data": {
      "text/html": [
       "\n",
       "                <div style='\n",
       "                    text-align: center;\n",
       "                    font-size: 16px;\n",
       "                    font-weight: bold;\n",
       "                    color: #555;\n",
       "                    margin: 10px 0;'>\n",
       "                    ... 5 more rows not displayed ...\n",
       "                </div>\n",
       "                "
      ],
      "text/plain": [
       "<IPython.core.display.HTML object>"
      ]
     },
     "metadata": {},
     "output_type": "display_data"
    }
   ],
   "source": [
    "uncompiled_baleen_retrieval_score = evaluate_on_hotpotqa(uncompiled_baleen, metric=llm_metric)"
   ]
  },
  {
   "cell_type": "code",
   "execution_count": 17,
   "metadata": {},
   "outputs": [
    {
     "name": "stderr",
     "output_type": "stream",
     "text": [
      "Average Metric: 19.4 / 6  (323.3):  60%|██████    | 6/10 [00:00<00:00, 25.86it/s]              "
     ]
    },
    {
     "name": "stdout",
     "output_type": "stream",
     "text": [
      "Test Question: What are some strategies Tesla uses to accelerate the widespread adoption of their products?\n",
      "Predicted Answer: Tesla emphasizes performance, attractive styling, safety, and continuous efforts to reduce manufacturing costs. They also offer financial and other services tailored to their products.\n",
      "Faithful: 5\n",
      "Detail: 5\n",
      "Overall: 5\n",
      "Test Question: What are the two reportable segments of the company?\n",
      "Predicted Answer: Automotive and Energy Generation and Storage\n",
      "Faithful: 5\n",
      "Detail: 1\n",
      "Overall: 5\n",
      "Test Question: What are the five different consumer vehicles currently manufactured by the company?\n",
      "Predicted Answer: Model 3, Y, S, X, Cybertruck\n",
      "Faithful: 5\n",
      "Detail: 2\n",
      "Overall: 5\n",
      "Test Question: What is the purpose of the Tesla Semi?\n",
      "Predicted Answer: Commercial electric vehicle\n",
      "Faithful: 5\n",
      "Detail: 1\n",
      "Overall: 3\n",
      "Test Question: What are some markets and applications that can be accessed through our real-time energy control and optimization platforms?\n",
      "Predicted Answer: Markets and applications\n",
      "Faithful: 5\n",
      "Detail: 1\n",
      "Overall: 1\n",
      "Test Question: What are the different ways in which the company sells its retrofit solar energy systems?\n",
      "Predicted Answer: The company sells its retrofit solar energy systems to customers and channel partners, as well as through power purchase agreement (PPA) arrangements.\n",
      "Faithful: 5\n",
      "Detail: 3\n",
      "Overall: 5\n"
     ]
    },
    {
     "name": "stderr",
     "output_type": "stream",
     "text": [
      "Average Metric: 33.199999999999996 / 10  (332.0): 100%|██████████| 10/10 [00:00<00:00, 25.72it/s]"
     ]
    },
    {
     "name": "stdout",
     "output_type": "stream",
     "text": [
      "Test Question: What are the unique advantages of our electric powertrain systems?\n",
      "Predicted Answer: Adaptable, efficient, reliable, cost-effective, withstanding automotive rigors.\n",
      "Faithful: 5\n",
      "Detail: 2\n",
      "Overall: 5\n",
      "Test Question: What is the purpose of the control software in our vehicles?\n",
      "Predicted Answer: Optimize performance, customize behavior, manage charging, control infotainment functions.\n",
      "Faithful: 5\n",
      "Detail: 2\n",
      "Overall: 5\n",
      "Test Question: What functionality do our advanced driver assist systems provide in our vehicles?\n",
      "Predicted Answer: Safety and convenience functionality\n",
      "Faithful: 5\n",
      "Detail: 2\n",
      "Overall: 5\n",
      "Test Question: How do we optimize the manufacturing capacity of our energy storage products through a modular approach to battery system design?\n",
      "Predicted Answer: By leveraging component-level technologies from vehicles and designing battery systems modularly, we can optimize manufacturing capacity for energy storage products.\n",
      "Faithful: 5\n",
      "Detail: 3\n",
      "Overall: 5\n",
      "Average Metric: 33.199999999999996 / 10  (332.0%)\n"
     ]
    },
    {
     "name": "stderr",
     "output_type": "stream",
     "text": [
      "\n",
      "/Users/hongtang/Documents/RAG_Implementation/ragvenv/lib/python3.9/site-packages/dspy/evaluate/evaluate.py:266: FutureWarning: Setting an item of incompatible dtype is deprecated and will raise in a future error of pandas. Value '['4.0' '3.2' '3.4' '2.8' '2.4']' has dtype incompatible with float64, please explicitly cast to a compatible dtype first.\n",
      "  df.loc[:, metric_name] = df[metric_name].apply(\n"
     ]
    },
    {
     "data": {
      "text/html": [
       "<style type=\"text/css\">\n",
       "#T_c6d52 th {\n",
       "  text-align: left;\n",
       "}\n",
       "#T_c6d52 td {\n",
       "  text-align: left;\n",
       "}\n",
       "#T_c6d52_row0_col0, #T_c6d52_row0_col1, #T_c6d52_row0_col2, #T_c6d52_row0_col3, #T_c6d52_row0_col4, #T_c6d52_row0_col5, #T_c6d52_row1_col0, #T_c6d52_row1_col1, #T_c6d52_row1_col2, #T_c6d52_row1_col3, #T_c6d52_row1_col4, #T_c6d52_row1_col5, #T_c6d52_row2_col0, #T_c6d52_row2_col1, #T_c6d52_row2_col2, #T_c6d52_row2_col3, #T_c6d52_row2_col4, #T_c6d52_row2_col5, #T_c6d52_row3_col0, #T_c6d52_row3_col1, #T_c6d52_row3_col2, #T_c6d52_row3_col3, #T_c6d52_row3_col4, #T_c6d52_row3_col5, #T_c6d52_row4_col0, #T_c6d52_row4_col1, #T_c6d52_row4_col2, #T_c6d52_row4_col3, #T_c6d52_row4_col4, #T_c6d52_row4_col5 {\n",
       "  text-align: left;\n",
       "  white-space: pre-wrap;\n",
       "  word-wrap: break-word;\n",
       "  max-width: 400px;\n",
       "}\n",
       "</style>\n",
       "<table id=\"T_c6d52\">\n",
       "  <thead>\n",
       "    <tr>\n",
       "      <th class=\"blank level0\" >&nbsp;</th>\n",
       "      <th id=\"T_c6d52_level0_col0\" class=\"col_heading level0 col0\" >question</th>\n",
       "      <th id=\"T_c6d52_level0_col1\" class=\"col_heading level0 col1\" >example_context</th>\n",
       "      <th id=\"T_c6d52_level0_col2\" class=\"col_heading level0 col2\" >example_answer</th>\n",
       "      <th id=\"T_c6d52_level0_col3\" class=\"col_heading level0 col3\" >pred_context</th>\n",
       "      <th id=\"T_c6d52_level0_col4\" class=\"col_heading level0 col4\" >pred_answer</th>\n",
       "      <th id=\"T_c6d52_level0_col5\" class=\"col_heading level0 col5\" >llm_metric</th>\n",
       "    </tr>\n",
       "  </thead>\n",
       "  <tbody>\n",
       "    <tr>\n",
       "      <th id=\"T_c6d52_level0_row0\" class=\"row_heading level0 row0\" >0</th>\n",
       "      <td id=\"T_c6d52_row0_col0\" class=\"data row0 col0\" >What are some strategies Tesla uses to accelerate the widespread adoption of their products?</td>\n",
       "      <td id=\"T_c6d52_row0_col1\" class=\"data row0 col1\" >page_content='table of contents part i item 1. business overview we design, develop, manufacture, sell and lease high - performance fully electric vehicles and energy generation...</td>\n",
       "      <td id=\"T_c6d52_row0_col2\" class=\"data row0 col2\" >Tesla employs several strategies to accelerate the widespread adoption of their products. These include selling their products directly to customers, expanding their customer-facing infrastructure through...</td>\n",
       "      <td id=\"T_c6d52_row0_col3\" class=\"data row0 col3\" >[\"page_content='table of contents part i item 1. business overview we design, develop, manufacture, sell and lease high - performance fully electric vehicles and energy generation...</td>\n",
       "      <td id=\"T_c6d52_row0_col4\" class=\"data row0 col4\" >Tesla emphasizes performance, attractive styling, safety, and continuous efforts to reduce manufacturing costs. They also offer financial and other services tailored to their products.</td>\n",
       "      <td id=\"T_c6d52_row0_col5\" class=\"data row0 col5\" >4.0</td>\n",
       "    </tr>\n",
       "    <tr>\n",
       "      <th id=\"T_c6d52_level0_row1\" class=\"row_heading level0 row1\" >1</th>\n",
       "      <td id=\"T_c6d52_row1_col0\" class=\"data row1 col0\" >What are the two reportable segments of the company?</td>\n",
       "      <td id=\"T_c6d52_row1_col1\" class=\"data row1 col1\" >page_content='our mission is to accelerate the world ’ s transition to sustainable energy. we believe that this mission, along with our engineering expertise, vertically integrated...</td>\n",
       "      <td id=\"T_c6d52_row1_col2\" class=\"data row1 col2\" >The two reportable segments of the company are (i) automotive and (ii) energy generation and storage.</td>\n",
       "      <td id=\"T_c6d52_row1_col3\" class=\"data row1 col3\" >[\"page_content='our mission is to accelerate the world ’ s transition to sustainable energy. we believe that this mission, along with our engineering expertise, vertically integrated...</td>\n",
       "      <td id=\"T_c6d52_row1_col4\" class=\"data row1 col4\" >Automotive and Energy Generation and Storage</td>\n",
       "      <td id=\"T_c6d52_row1_col5\" class=\"data row1 col5\" >3.2</td>\n",
       "    </tr>\n",
       "    <tr>\n",
       "      <th id=\"T_c6d52_level0_row2\" class=\"row_heading level0 row2\" >2</th>\n",
       "      <td id=\"T_c6d52_row2_col0\" class=\"data row2 col0\" >What are the five different consumer vehicles currently manufactured by the company?</td>\n",
       "      <td id=\"T_c6d52_row2_col1\" class=\"data row2 col1\" >page_content='services and sales of solar energy systems incentives. our products and services automotive we currently manufacture five different consumer vehicles – the model 3, y,...</td>\n",
       "      <td id=\"T_c6d52_row2_col2\" class=\"data row2 col2\" >The five different consumer vehicles currently manufactured by the company are the Model 3, Model Y, Model S, Model X, and Cybertruck.</td>\n",
       "      <td id=\"T_c6d52_row2_col3\" class=\"data row2 col3\" >[\"page_content='services and sales of solar energy systems incentives. our products and services automotive we currently manufacture five different consumer vehicles – the model 3, y,...</td>\n",
       "      <td id=\"T_c6d52_row2_col4\" class=\"data row2 col4\" >Model 3, Y, S, X, Cybertruck</td>\n",
       "      <td id=\"T_c6d52_row2_col5\" class=\"data row2 col5\" >3.4</td>\n",
       "    </tr>\n",
       "    <tr>\n",
       "      <th id=\"T_c6d52_level0_row3\" class=\"row_heading level0 row3\" >3</th>\n",
       "      <td id=\"T_c6d52_row3_col0\" class=\"data row3 col0\" >What is the purpose of the Tesla Semi?</td>\n",
       "      <td id=\"T_c6d52_row3_col1\" class=\"data row3 col1\" >page_content='in 2022, we also began early production and deliveries of a commercial electric vehicle, the tesla semi. we have planned electric vehicles to address additional...</td>\n",
       "      <td id=\"T_c6d52_row3_col2\" class=\"data row3 col2\" >The purpose of the Tesla Semi is to serve as a commercial electric vehicle, addressing additional vehicle markets and leveraging Tesla's developments in full self-driving...</td>\n",
       "      <td id=\"T_c6d52_row3_col3\" class=\"data row3 col3\" >[\"page_content='in 2022, we also began early production and deliveries of a commercial electric vehicle, the tesla semi. we have planned electric vehicles to address additional...</td>\n",
       "      <td id=\"T_c6d52_row3_col4\" class=\"data row3 col4\" >Commercial electric vehicle</td>\n",
       "      <td id=\"T_c6d52_row3_col5\" class=\"data row3 col5\" >2.8</td>\n",
       "    </tr>\n",
       "    <tr>\n",
       "      <th id=\"T_c6d52_level0_row4\" class=\"row_heading level0 row4\" >4</th>\n",
       "      <td id=\"T_c6d52_row4_col0\" class=\"data row4 col0\" >What are some markets and applications that can be accessed through our real-time energy control and optimization platforms?</td>\n",
       "      <td id=\"T_c6d52_row4_col1\" class=\"data row4 col1\" >page_content='markets and applications, including through our real - time energy control and optimization platforms. 4' metadata={'page_number': 5}</td>\n",
       "      <td id=\"T_c6d52_row4_col2\" class=\"data row4 col2\" >The real-time energy control and optimization platforms can access various markets and applications. These include energy management for industrial and commercial buildings, integration with renewable...</td>\n",
       "      <td id=\"T_c6d52_row4_col3\" class=\"data row4 col3\" >[\"page_content='markets and applications, including through our real - time energy control and optimization platforms. 4' metadata={'page_number': 5}\", 'loss up to a certain limit or repurchase...</td>\n",
       "      <td id=\"T_c6d52_row4_col4\" class=\"data row4 col4\" >Markets and applications</td>\n",
       "      <td id=\"T_c6d52_row4_col5\" class=\"data row4 col5\" >2.4</td>\n",
       "    </tr>\n",
       "  </tbody>\n",
       "</table>\n"
      ],
      "text/plain": [
       "<pandas.io.formats.style.Styler at 0x17987c5b0>"
      ]
     },
     "metadata": {},
     "output_type": "display_data"
    },
    {
     "data": {
      "text/html": [
       "\n",
       "                <div style='\n",
       "                    text-align: center;\n",
       "                    font-size: 16px;\n",
       "                    font-weight: bold;\n",
       "                    color: #555;\n",
       "                    margin: 10px 0;'>\n",
       "                    ... 5 more rows not displayed ...\n",
       "                </div>\n",
       "                "
      ],
      "text/plain": [
       "<IPython.core.display.HTML object>"
      ]
     },
     "metadata": {},
     "output_type": "display_data"
    },
    {
     "name": "stdout",
     "output_type": "stream",
     "text": [
      "## Retrieval Score for uncompiled Baleen: 296.0\n",
      "## Retrieval Score for compiled Baleen: 332.0\n"
     ]
    }
   ],
   "source": [
    "compiled_baleen_retrieval_score = evaluate_on_hotpotqa(compiled_baleen, metric=llm_metric)\n",
    "\n",
    "print(f\"## Retrieval Score for uncompiled Baleen: {uncompiled_baleen_retrieval_score}\")\n",
    "print(f\"## Retrieval Score for compiled Baleen: {compiled_baleen_retrieval_score}\")"
   ]
  },
  {
   "cell_type": "code",
   "execution_count": 18,
   "metadata": {},
   "outputs": [],
   "source": [
    "import dspy\n",
    "from dotenv import load_dotenv\n",
    "\n",
    "import chromadb\n",
    "from chromadb.utils import embedding_functions\n",
    "import dspy\n",
    "from dspy.retrieve.chromadb_rm import ChromadbRM\n",
    "\n",
    "load_dotenv()  # Load environment variables\n",
    "\n",
    "turbo = dspy.OpenAI(model='gpt-3.5-turbo')\n",
    "\n",
    "retriever_model = ChromadbRM(\n",
    "    collection_name='tesla', \n",
    "    persist_directory=\"./teslasec\",\n",
    "    embedding_function=embedding_functions.DefaultEmbeddingFunction(),\n",
    "    k=5\n",
    ")\n",
    "\n",
    "dspy.settings.configure(lm=turbo, rm=retriever_model)"
   ]
  },
  {
   "cell_type": "code",
   "execution_count": 19,
   "metadata": {},
   "outputs": [],
   "source": [
    "from dspy.datasets import HotPotQA"
   ]
  },
  {
   "cell_type": "code",
   "execution_count": 20,
   "metadata": {},
   "outputs": [],
   "source": [
    "import pandas as pd\n",
    "df=pd.read_csv('../data/groundtruth_eval_dataset_300_titles.csv')\n",
    "# df.columns =['Unnamed: 0', 'question', 'context', 'answer', 'metadata']\n",
    "df =df[['question', 'context', 'answer']]"
   ]
  },
  {
   "cell_type": "code",
   "execution_count": 21,
   "metadata": {},
   "outputs": [],
   "source": [
    "def df2Dataset(df):\n",
    "    dataset = []\n",
    "\n",
    "    for question, context, answer in df.values:\n",
    "        dataset.append(dspy.Example(question=question, context=context, answer=answer).with_inputs('context', \"question\"))\n",
    "    return dataset"
   ]
  },
  {
   "cell_type": "code",
   "execution_count": 22,
   "metadata": {},
   "outputs": [],
   "source": [
    "trainset=df2Dataset(df.iloc[:20])\n",
    "devset=df2Dataset(df.iloc[20:41])"
   ]
  },
  {
   "cell_type": "code",
   "execution_count": 23,
   "metadata": {},
   "outputs": [
    {
     "data": {
      "text/plain": [
       "[Example({'question': \"What is the trading symbol for Tesla's common stock and on which exchange is it registered?\", 'context': \"page_content='united states securities and exchange commission washington, d. c. 20549 form 10 - k ( mark one ) x annual report pursuant to section 13 or 15 ( d ) of the securities exchange act of 1934 for the fiscal year ended december 31, 2023 or o transition report pursuant to section 13 or 15 ( d ) of the securities exchange act of 1934 for the transition period from _ _ _ _ _ _ _ _ _ to _ _ _ _ _ _ _ _ _ commission file number : 001 - 34756 tesla, inc. ( exact name of registrant as specified in its charter ) delaware 91 - 2197729 ( state or other jurisdiction of incorporation or organization ) ( i. r. s. employer identification no. ) 1 tesla road austin, texas 78725 ( address of principal executive offices ) ( zip code ) ( 512 ) 516 - 8177 ( registrant ’ s telephone number, including area code ) securities registered pursuant to section 12 ( b ) of the act : title of each class trading symbol ( s ) name of each exchange on which registered common stock tsla the nasdaq global select market' metadata={'page_number': 1}\", 'answer': \"The trading symbol for Tesla's common stock is TSLA, and it is registered on the NASDAQ Global Select Market.\"}) (input_keys={'context', 'question'}),\n",
       " Example({'question': 'According to the context, has the registrant filed all reports required by section 13 or 15 (d) of the Securities Exchange Act of 1934 during the preceding 12 months?', 'context': \"page_content='securities registered pursuant to section 12 ( g ) of the act : none indicate by check mark whether the registrant is a well - known seasoned issuer, as defined in rule 405 of the securities act. yes x no o indicate by check mark if the registrant is not required to file reports pursuant to section 13 or 15 ( d ) of the act. yes o no x indicate by check mark whether the registrant ( 1 ) has filed all reports required to be filed by section 13 or 15 ( d ) of the securities exchange act of 1934 ( “ exchange act ” ) during the preceding 12 months ( or for such shorter period that the registrant was required to file such reports ), and ( 2 ) has been subject to such filing requirements for the past 90 days. yes x no o indicate by check mark whether the registrant has submitted electronically every interactive data file required to be submitted pursuant to rule 405 of regulation s - t' metadata={'page_number': 1}\", 'answer': 'Yes, the registrant has filed all reports required by section 13 or 15 (d) of the Securities Exchange Act of 1934 during the preceding 12 months.'}) (input_keys={'context', 'question'}),\n",
       " Example({'question': 'According to the given context, is the registrant a large accelerated filer?', 'context': \"page_content='( § 232. 405 of this chapter ) during the preceding 12 months ( or for such shorter period that the registrant was required to submit such files ). yes x no o indicate by check mark whether the registrant is a large accelerated filer, an accelerated filer, a non - accelerated filer, a smaller reporting company, or an emerging growth company. see the definitions of “ large accelerated filer, ” “ accelerated filer, ” “ smaller reporting company ” and “ emerging growth company ” in rule 12b - 2 of the exchange act : large accelerated filer x accelerated filer o non - accelerated filer o smaller reporting company o emerging growth company o' metadata={'page_number': 1}\", 'answer': 'Yes, the registrant is a large accelerated filer.'}) (input_keys={'context', 'question'}),\n",
       " Example({'question': 'According to the given context, has the registrant elected not to use the extended transition period for complying with any new or revised financial accounting standards provided pursuant to section 13(a) of the Exchange Act?', 'context': \"page_content='if an emerging growth company, indicate by check mark if the registrant has elected not to use the extended transition period for complying with any new or revised financial accounting standards provided pursuant to section 13 ( a ) of the exchange act. o indicate by check mark whether the registrant has filed a report on and attestation to its management ’ s assessment of the effectiveness of its internal control over financial reporting under section 404 ( b ) of the sarbanes - oxley act ( 15 u. s. c. 7262 ( b ) ) by the registered public accounting firm that prepared or issued its audit report. x if securities are registered pursuant to section 12 ( b ) of the act, indicate by check mark whether the financial statements of the registrant included in the filing reflect the correction of an error to previously issued financial statements. o' metadata={'page_number': 2}\", 'answer': 'No, the registrant has not elected to use the extended transition period for complying with any new or revised financial accounting standards provided pursuant to section 13(a) of the Exchange Act.'}) (input_keys={'context', 'question'}),\n",
       " Example({'question': \"According to the context, did any of the error corrections require a recovery analysis of incentive-based compensation received by any of the registrant's executive officers?\", 'context': \"page_content='indicate by check mark whether any of those error corrections are restatements that required a recovery analysis of incentive - based compensation received by any of the registrant ’ s executive officers during the relevant recovery period pursuant to § 240. 10d - 1 ( b ). o indicate by check mark whether the registrant is a shell company ( as defined in rule 12b - 2 of the exchange act ). yes o no x the aggregate market value of voting stock held by non - affiliates of the registrant, as of june 30, 2023, the last day of the registrant ’ s most recently completed second fiscal quarter, was $ 722. 52 billion ( based on the closing price for shares of the registrant ’ s common stock as reported by the nasdaq global select market on june 30, 2023 ). shares of common stock held by each executive officer and director have been excluded in that such persons may be deemed to be affiliates. this determination of affiliate status is not necessarily a conclusive determination for other purposes.' metadata={'page_number': 2}\", 'answer': \"No, the error corrections did not require a recovery analysis of incentive-based compensation received by any of the registrant's executive officers.\"}) (input_keys={'context', 'question'}),\n",
       " Example({'question': \"How many shares of the registrant's common stock were outstanding as of January 22, 2024?\", 'context': \"page_content='as of january 22, 2024, there were 3, 184, 790, 415 shares of the registrant ’ s common stock outstanding. documents incorporated by reference portions of the registrant ’ s proxy statement for the 2024 annual meeting of stockholders are incorporated herein by reference in part iii of this annual report on form 10 - k to the extent stated herein. such proxy statement will be filed with the securities and exchange commission within 120 days of the registrant ’ s fiscal year ended december 31, 2023.' metadata={'page_number': 2}\", 'answer': \"As of January 22, 2024, there were 3,184,790,415 shares of the registrant's common stock outstanding.\"}) (input_keys={'context', 'question'}),\n",
       " Example({'question': 'What is the purpose of the annual report on Form 10-K?', 'context': 'page_content=\"tesla, inc. annual report on form 10 - k for the year ended december 31, 2023 index page part i. item 1. business 4 item 1a. risk factors 14 item 1b. unresolved staff comments 28 item 1c. cybersecurity 29 item 2. properties 30 item 3. legal proceedings 30 item 4. mine safety disclosures 30 part ii. item 5. market for registrant\\'s common equity, related stockholder matters and issuer purchases of equity securities 31 item 6. [ reserved ] 32 item 7. management\\'s discussion and analysis of financial condition and results of operations 33 item 7a. quantitative and qualitative disclosures about market risk 45 item 8. financial statements and supplementary data 46 item 9. changes in and disagreements with accountants on accounting and financial disclosure 93 item 9a. controls and procedures 93 item 9b. other information 94 item 9c. disclosure regarding foreign jurisdictions that prevent inspections 94 part iii. item 10. directors, executive officers and corporate governance 95\" metadata={\\'page_number\\': 3}', 'answer': \"The purpose of the annual report on Form 10-K is to provide a comprehensive overview of a company's business and financial condition. It includes detailed information on various aspects such as business operations, risk factors, financial statements, management's discussion and analysis, market risk disclosures, and corporate governance. This report is essential for investors, regulators, and other stakeholders to assess the company's performance and make informed decisions.\"}) (input_keys={'context', 'question'}),\n",
       " Example({'question': 'What information does item 12 of the document provide regarding security ownership?', 'context': \"page_content='item 11. executive compensation 95 item 12. security ownership of certain beneficial owners and management and related stockholder matters 95 item 13. certain relationships and related transactions, and director independence 95 item 14. principal accountant fees and services 95 part iv. item 15. exhibits and financial statement schedules 96 item 16. summary 111 signatures' metadata={'page_number': 3}\", 'answer': 'Item 12 of the document provides information regarding the security ownership of certain beneficial owners and management, as well as related stockholder matters.'}) (input_keys={'context', 'question'}),\n",
       " Example({'question': 'What do the forward-looking statements in the annual report on form 10-K include?', 'context': \"page_content='table of contents forward - looking statements the discussions in this annual report on form 10 - k contain forward - looking statements reflecting our current expectations that involve risks and uncertainties. these forward - looking statements include, but are not limited to, statements concerning supply chain constraints, our strategy, competition, future operations and production capacity, future financial position, future revenues, projected costs, profitability, expected cost reductions, capital adequacy, expectations regarding demand and acceptance for our technologies, growth opportunities and trends in the markets in which we operate, prospects and plans and objectives of management. the words “ anticipates, ” “ believes, ” “ could, ” “ estimates, ” “ expects, ” “ intends, ” “ may, ” “ plans, ” “ projects, ” “ will, ” “ would ” and similar expressions are intended to identify forward - looking statements, although not all forward - looking' metadata={'page_number': 4}\", 'answer': \"The forward-looking statements in the annual report on form 10-K include discussions reflecting the company's current expectations that involve risks and uncertainties. These statements cover a range of topics such as supply chain constraints, strategy, competition, future operations and production capacity, future financial position, future revenues, projected costs, profitability, expected cost reductions, capital adequacy, demand and acceptance for technologies, growth opportunities and market trends, as well as management's prospects, plans, and objectives. They are often identified by words like 'anticipates,' 'believes,' 'could,' 'estimates,' 'expects,' 'intends,' 'may,' 'plans,' 'projects,' 'will,' and 'would.'\"}) (input_keys={'context', 'question'}),\n",
       " Example({'question': 'What are the risks and uncertainties mentioned in the forward-looking statements?', 'context': \"page_content='statements contain these identifying words. we may not actually achieve the plans, intentions or expectations disclosed in our forward - looking statements and you should not place undue reliance on our forward - looking statements. actual results or events could differ materially from the plans, intentions and expectations disclosed in the forward - looking statements that we make. these forward - looking statements involve risks and uncertainties that could cause our actual results to differ materially from those in the forward - looking statements, including, without limitation, the risks set forth in part i, item 1a, “ risk factors ” of the annual report on form 10 - k for the fiscal year ended december 31, 2023 and that are otherwise described or updated from time to time in our other filings with the securities and exchange commission ( the “ sec ” ). the discussion of such risks is not an indication that any' metadata={'page_number': 4}\", 'answer': \"The risks and uncertainties mentioned in the forward-looking statements include the possibility that actual results or events could differ materially from the plans, intentions, and expectations disclosed. These risks are detailed in part I, item 1a, 'Risk Factors' of the annual report on Form 10-K for the fiscal year ended December 31, 2023, and are also described or updated in other filings with the Securities and Exchange Commission (SEC).\"}) (input_keys={'context', 'question'}),\n",
       " Example({'question': 'What risks have occurred at the time of this filing?', 'context': \"page_content='such risks have occurred at the time of this filing. we do not assume any obligation to update any forward - looking statements.' metadata={'page_number': 4}\", 'answer': 'The specific risks that have occurred at the time of this filing are not detailed in the provided context. The statement only indicates that certain risks have occurred but does not specify what those risks are.'}) (input_keys={'context', 'question'}),\n",
       " Example({'question': 'What are some strategies Tesla uses to accelerate the widespread adoption of their products?', 'context': \"page_content='table of contents part i item 1. business overview we design, develop, manufacture, sell and lease high - performance fully electric vehicles and energy generation and storage systems, and offer services related to our products. we generally sell our products directly to customers, and continue to grow our customer - facing infrastructure through a global network of vehicle showrooms and service centers, mobile service, body shops, supercharger stations and destination chargers to accelerate the widespread adoption of our products. we emphasize performance, attractive styling and the safety of our users and workforce in the design and manufacture of our products and are continuing to develop full self - driving technology for improved safety. we also strive to lower the cost of ownership for our customers through continuous efforts to reduce manufacturing costs and by offering financial and other services tailored to our products.' metadata={'page_number': 5}\", 'answer': 'Tesla employs several strategies to accelerate the widespread adoption of their products. These include selling their products directly to customers, expanding their customer-facing infrastructure through a global network of vehicle showrooms, service centers, mobile service units, body shops, supercharger stations, and destination chargers. They emphasize performance, attractive styling, and safety in the design and manufacture of their products. Additionally, Tesla is developing full self-driving technology to improve safety and strives to lower the cost of ownership for customers by reducing manufacturing costs and offering tailored financial and other services.'}) (input_keys={'context', 'question'}),\n",
       " Example({'question': 'What are the two reportable segments of the company?', 'context': \"page_content='our mission is to accelerate the world ’ s transition to sustainable energy. we believe that this mission, along with our engineering expertise, vertically integrated business model and focus on user experience differentiate us from other companies. segment information we operate as two reportable segments : ( i ) automotive and ( ii ) energy generation and storage. the automotive segment includes the design, development, manufacturing, sales and leasing of high - performance fully electric vehicles as well as sales of automotive regulatory credits. additionally, the automotive segment also includes services and other, which includes sales of used vehicles, non - warranty after - sales vehicle services, body shop and parts, paid supercharging, vehicle insurance revenue and retail merchandise. the energy generation and storage segment includes the design, manufacture, installation, sales and leasing of solar energy generation and energy storage products and related' metadata={'page_number': 5}\", 'answer': 'The two reportable segments of the company are (i) automotive and (ii) energy generation and storage.'}) (input_keys={'context', 'question'}),\n",
       " Example({'question': 'What are the five different consumer vehicles currently manufactured by the company?', 'context': \"page_content='services and sales of solar energy systems incentives. our products and services automotive we currently manufacture five different consumer vehicles – the model 3, y, s, x and cybertruck. model 3 is a four - door mid - size sedan that we designed for manufacturability with a base price for mass - market appeal. model y is a compact sport utility vehicle ( “ suv ” ) built on the model 3 platform with seating for up to seven adults. model s is a four - door full - size sedan and model x is a mid - size suv with seating for up to seven adults. model s and model x feature the highest performance characteristics and longest ranges that we offer in a sedan and suv, respectively. in november 2023, we entered the consumer pickup truck market with first deliveries of the cybertruck, a full - size electric pickup truck with a stainless steel exterior that has the utility and strength of a truck while featuring the speed of a sports car.' metadata={'page_number': 5}\", 'answer': 'The five different consumer vehicles currently manufactured by the company are the Model 3, Model Y, Model S, Model X, and Cybertruck.'}) (input_keys={'context', 'question'}),\n",
       " Example({'question': 'What is the purpose of the Tesla Semi?', 'context': \"page_content='in 2022, we also began early production and deliveries of a commercial electric vehicle, the tesla semi. we have planned electric vehicles to address additional vehicle markets, and to continue leveraging developments in our proprietary full self - driving ( “ fsd ” ) capability features, battery cell and other technologies. energy generation and storage energy storage products powerwall and megapack are our lithium - ion battery energy storage products. powerwall, which we sell directly to customers, as well as through channel partners, is designed to store energy at a home or small commercial facility. megapack is an energy storage solution for commercial, industrial, utility and energy generation customers, multiple of which may be grouped together to form larger installations of gigawatt hours ( “ gwh ” ) or greater capacity. we also continue to develop software capabilities for remotely controlling and dispatching our energy storage systems across a wide range of' metadata={'page_number': 5}\", 'answer': \"The purpose of the Tesla Semi is to serve as a commercial electric vehicle, addressing additional vehicle markets and leveraging Tesla's developments in full self-driving capabilities, battery cell technology, and other proprietary technologies.\"}) (input_keys={'context', 'question'}),\n",
       " Example({'question': 'What are some markets and applications that can be accessed through our real-time energy control and optimization platforms?', 'context': \"page_content='markets and applications, including through our real - time energy control and optimization platforms. 4' metadata={'page_number': 5}\", 'answer': 'The real-time energy control and optimization platforms can access various markets and applications. These include energy management for industrial and commercial buildings, integration with renewable energy sources, grid stability and demand response services, and optimization of energy consumption in smart cities.'}) (input_keys={'context', 'question'}),\n",
       " Example({'question': 'What are the different ways in which the company sells its retrofit solar energy systems?', 'context': \"page_content='table of contents solar energy offerings we sell retrofit solar energy systems to customers and channel partners and also make them available through power purchase agreement ( “ ppa ” ) arrangements. we purchase most of the components for our retrofit solar energy systems from multiple sources to ensure competitive pricing and adequate supply. we also design and manufacture certain components for our solar energy products. we sell our solar roof, which combines premium glass roof tiles with energy generation, directly to customers, as well as through channel customers. we continue to improve our installation capability and efficiency, including through collaboration with real estate developers and builders on new homes. technology automotive battery and powertrain our core vehicle technology competencies include powertrain engineering and manufacturing and our ability to design vehicles that utilize the' metadata={'page_number': 6}\", 'answer': 'The company sells its retrofit solar energy systems to customers and channel partners, and also makes them available through power purchase agreement (PPA) arrangements.'}) (input_keys={'context', 'question'}),\n",
       " Example({'question': 'What are the unique advantages of our electric powertrain systems?', 'context': \"page_content='unique advantages of an electric powertrain. we have designed our proprietary powertrain systems to be adaptable, efficient, reliable and cost - effective while withstanding the rigors of an automotive environment. we offer dual motor powertrain vehicles, which use two electric motors to maximize traction and performance in an all - wheel drive configuration, as well as vehicle powertrain technology featuring three electric motors for further increased performance in certain versions of model s and model x, cybertruck and the tesla semi. we maintain extensive testing and r & d capabilities for battery cells, packs and systems, and have built an expansive body of knowledge on lithium - ion cell chemistry types and performance characteristics. in order to enable a greater supply of cells for our products with higher energy density at lower costs, we have developed a new proprietary lithium - ion battery cell and improved manufacturing processes. vehicle control and infotainment software' metadata={'page_number': 6}\", 'answer': 'The unique advantages of our electric powertrain systems include their adaptability, efficiency, reliability, and cost-effectiveness, all while being able to withstand the rigors of an automotive environment. Our dual motor powertrain vehicles maximize traction and performance in an all-wheel drive configuration, and certain models feature three electric motors for even greater performance. Additionally, we have extensive testing and R&D capabilities for battery cells, packs, and systems, and have developed a proprietary lithium-ion battery cell with improved manufacturing processes to enable higher energy density at lower costs.'}) (input_keys={'context', 'question'}),\n",
       " Example({'question': 'What is the purpose of the control software in our vehicles?', 'context': \"page_content='the performance and safety systems of our vehicles and their battery packs utilize sophisticated control software. control systems in our vehicles optimize performance, customize vehicle behavior, manage charging and control all infotainment functions. we develop almost all of this software, including most of the user interfaces, internally and update our vehicles ’ software regularly through over - the - air updates. self - driving development and artificial intelligence we have expertise in developing technologies, systems and software to enable self - driving vehicles using primarily vision - based technologies. our fsd computer runs our neural networks in our vehicles, and we are also developing additional computer hardware to better enable the massive amounts of field data captured by our vehicles to continually train and improve these neural networks for real - world performance.' metadata={'page_number': 6}\", 'answer': 'The purpose of the control software in our vehicles is to optimize performance, customize vehicle behavior, manage charging, and control all infotainment functions. Additionally, it supports the development of self-driving capabilities and artificial intelligence by running neural networks and processing field data to continually improve real-world performance.'}) (input_keys={'context', 'question'}),\n",
       " Example({'question': 'What functionality do our advanced driver assist systems provide in our vehicles?', 'context': \"page_content='currently, we offer in our vehicles certain advanced driver assist systems under our autopilot and fsd capability options. although at present the driver is ultimately responsible for controlling the vehicle, our systems provide safety and convenience functionality that relieves drivers of the most tedious and potentially dangerous aspects of road travel much like the system that airplane pilots use, when conditions permit. as with other vehicle systems, we improve these functions in our vehicles over time through over - the - air updates. we intend to establish in the future an autonomous tesla ride - hailing network, which we expect would also allow us to access a new customer base even as modes of transportation evolve. we are also applying our artificial intelligence learnings from self - driving technology to the field of robotics, such as through optimus, a robotic humanoid in development, which is controlled by the same ai system. 5' metadata={'page_number': 6}\", 'answer': 'Our advanced driver assist systems, offered under the Autopilot and Full Self-Driving (FSD) capability options, provide safety and convenience functionality that helps relieve drivers of the most tedious and potentially dangerous aspects of road travel. These systems are designed to assist the driver, who remains ultimately responsible for controlling the vehicle. Over time, these functions are improved through over-the-air updates. Additionally, there are plans to establish an autonomous Tesla ride-hailing network in the future, which would allow access to a new customer base. The artificial intelligence learnings from self-driving technology are also being applied to the field of robotics, such as with the development of Optimus, a robotic humanoid controlled by the same AI system.'}) (input_keys={'context', 'question'})]"
      ]
     },
     "execution_count": 23,
     "metadata": {},
     "output_type": "execute_result"
    }
   ],
   "source": [
    "trainset"
   ]
  },
  {
   "cell_type": "code",
   "execution_count": 24,
   "metadata": {},
   "outputs": [],
   "source": [
    "class GenerateAnswer(dspy.Signature):\n",
    "    \"\"\"Answer questions with short factoid answers.\"\"\"\n",
    "\n",
    "    context = dspy.InputField(desc=\"may contain relevant facts\")\n",
    "    question = dspy.InputField()\n",
    "    answer = dspy.OutputField(desc=\"often between 1 and 5 words\")"
   ]
  },
  {
   "cell_type": "code",
   "execution_count": 25,
   "metadata": {},
   "outputs": [],
   "source": [
    "class GenerateSearchQuery(dspy.Signature):\n",
    "    \"\"\"Write a simple search query that will help answer a complex question.\"\"\"\n",
    "\n",
    "    context = dspy.InputField(desc=\"may contain relevant facts\")\n",
    "    question = dspy.InputField()\n",
    "    query = dspy.OutputField()"
   ]
  },
  {
   "cell_type": "code",
   "execution_count": 26,
   "metadata": {},
   "outputs": [],
   "source": [
    "from dsp.utils import deduplicate\n",
    "class SimplifiedBaleen(dspy.Module):\n",
    "    def __init__(self, passages_per_hop=3, max_hops=2):\n",
    "        super().__init__()\n",
    "\n",
    "        self.generate_query = [dspy.ChainOfThought(GenerateSearchQuery) for _ in range(max_hops)]\n",
    "        self.retrieve = dspy.Retrieve(k=passages_per_hop)\n",
    "        self.generate_answer = dspy.ChainOfThought(GenerateAnswer)\n",
    "        self.max_hops = max_hops\n",
    "\n",
    "    def forward(self, question, context=None):\n",
    "        if context is None:\n",
    "            context = []  # Ensure context is a list if not provided\n",
    "        \n",
    "        for hop in range(self.max_hops):\n",
    "            query = self.generate_query[hop](context=context, question=question).query\n",
    "            retrieved_data = self.retrieve(query)\n",
    "            passages = retrieved_data.passages if hasattr(retrieved_data, 'passages') else []\n",
    "\n",
    "            # Ensure both context and passages are lists before concatenation\n",
    "            if not isinstance(context, list):\n",
    "                context = [context]\n",
    "            if not isinstance(passages, list):\n",
    "                passages = [passages]\n",
    "\n",
    "            context = deduplicate(context + passages)\n",
    "\n",
    "        pred = self.generate_answer(context=context, question=question)\n",
    "        return dspy.Prediction(context=context, answer=pred.answer)"
   ]
  },
  {
   "cell_type": "code",
   "execution_count": 27,
   "metadata": {},
   "outputs": [
    {
     "name": "stdout",
     "output_type": "stream",
     "text": [
      "Question: what's revenue of tesla 2022?\n",
      "Predicted Answer: $81.462 billion\n",
      "Retrieved Contexts (truncated): ['333-187113, 333-183033, and 333-167874) of Tesla, Inc. of our report dated January 26, 2024 relating to the financial statements and the effectiveness of internal control over financial reporting, whi...', 'on our net income before income taxes. These changes would have resulted in a gain or loss of $1.01 billion at December 31, 2023 and $473 million at December 31, 2022, assuming no foreign currency hed...', 'other comprehensive loss ( 143 ) ( 361 ) Retained earnings 27,882 12,885 Total stockholders equity 62,634 44,704 Noncontrolling interests in subsidiaries 733 785 Total liabilities and equity $ 106,618...', 'used vehicle revenue driven by increases in volume, body shop and part sales revenue, non-warranty maintenance services revenue, paid Supercharging revenue and insurance services revenue, all of which...', 'service and pricing, educate consumers about electric vehicles, make our vehicles more affordable, maintain and strengthen the Tesla brand and obtain rapid customer feedback. We reevaluate our sales s...']\n"
     ]
    }
   ],
   "source": [
    "# Ask any question you like to this simple RAG program.\n",
    "my_question = \"what's revenue of tesla 2022?\"\n",
    "\n",
    "# Get the prediction. This contains `pred.context` and `pred.answer`.\n",
    "uncompiled_baleen = SimplifiedBaleen()  # uncompiled (i.e., zero-shot) program\n",
    "pred = uncompiled_baleen(my_question)\n",
    "\n",
    "# Print the contexts and the answer.\n",
    "print(f\"Question: {my_question}\")\n",
    "print(f\"Predicted Answer: {pred.answer}\")\n",
    "print(f\"Retrieved Contexts (truncated): {[c[:200] + '...' for c in pred.context]}\")"
   ]
  },
  {
   "cell_type": "code",
   "execution_count": 28,
   "metadata": {},
   "outputs": [
    {
     "name": "stdout",
     "output_type": "stream",
     "text": [
      "\n",
      "\n",
      "\n",
      "\n",
      "Write a simple search query that will help answer a complex question.\n",
      "\n",
      "---\n",
      "\n",
      "Follow the following format.\n",
      "\n",
      "Context: may contain relevant facts\n",
      "\n",
      "Question: ${question}\n",
      "\n",
      "Reasoning: Let's think step by step in order to ${produce the query}. We ...\n",
      "\n",
      "Query: ${query}\n",
      "\n",
      "---\n",
      "\n",
      "Context:\n",
      "[1] «333-187113, 333-183033, and 333-167874) of Tesla, Inc. of our report dated January 26, 2024 relating to the financial statements and the effectiveness of internal control over financial reporting, which appears in this Form 10-K. /s/ PricewaterhouseCoopers LLP San Jose, California January 26, 2024 Exhibit 31.1 CERTIFICATIONS I, Elon Musk, certify that: 1. I have reviewed this Annual Report on Form 10-K of Tesla, Inc.; 2. Based on my knowledge, this report does not contain any untrue statement of a material fact or omit to state a material fact necessary to make the statements made, in light of the circumstances under which such statements were made, not misleading with respect to the period covered by this report; 3. Based on my knowledge, the financial statements, and other financial information included in this report, fairly present in all material respects the financial condition, results of operations and cash flows of the registrant as of, and for, the periods presented in this»\n",
      "[2] «on our net income before income taxes. These changes would have resulted in a gain or loss of $1.01 billion at December 31, 2023 and $473 million at December 31, 2022, assuming no foreign currency hedging. 45 ITEM 8. FINANCIAL STATEMENTS AND SUPPLEMENTARY DATA Index to Consolidated Financial Statements Page Report of Independent Registered Public Accounting Firm (PCAOB ID: 238 ) 47 Consolidated Balance Sheets 49 Consolidated Statements of Operations 50 Consolidated Statements of Comprehensive Income 51 Consolidated Statements of Redeemable Noncontrolling Interests and Equity 52 Consolidated Statements of Cash Flows 53 Notes to Consolidated Financial Statements 54 46 Report of Independent Registered Public Accounting Firm To the Board of Directors and Stockholders of Tesla, Inc. Opinions on the Financial Statements and Internal Control over Financial Reporting We have audited the accompanying consolidated balance sheets of Tesla, Inc. and its subsidiaries (the Company) as of December»\n",
      "[3] «other comprehensive loss ( 143 ) ( 361 ) Retained earnings 27,882 12,885 Total stockholders equity 62,634 44,704 Noncontrolling interests in subsidiaries 733 785 Total liabilities and equity $ 106,618 $ 82,338 The accompanying notes are an integral part of these consolidated financial statements. 49 Tesla, Inc. Consolidated Statements of Operations (in millions, except per share data) Year Ended December 31, 2023 2022 2021 Revenues Automotive sales $ 78,509 $ 67,210 $ 44,125 Automotive regulatory credits 1,790 1,776 1,465 Automotive leasing 2,120 2,476 1,642 Total automotive revenues 82,419 71,462 47,232 Energy generation and storage 6,035 3,909 2,789 Services and other 8,319 6,091 3,802 Total revenues 96,773 81,462 53,823 Cost of revenues Automotive sales 65,121 49,599 32,415 Automotive leasing 1,268 1,509 978 Total automotive cost of revenues 66,389 51,108 33,393 Energy generation and storage 4,894 3,621 2,918 Services and other 7,830 5,880 3,906 Total cost of revenues 79,113 60,609»\n",
      "\n",
      "Question: what's revenue of tesla 2022?\n",
      "\n",
      "Reasoning: Let's think step by step in order to\u001b[32m produce the query. We know that the revenue for Tesla in 2022 is mentioned in the financial statements provided in the context. We need to extract the specific revenue figure for the year 2022.\n",
      "\n",
      "Query: revenue of Tesla in 2022 site:tesla.com\u001b[0m\n",
      "\n",
      "\n",
      "\n",
      "\n",
      "\n",
      "\n",
      "\n",
      "Answer questions with short factoid answers.\n",
      "\n",
      "---\n",
      "\n",
      "Follow the following format.\n",
      "\n",
      "Context: may contain relevant facts\n",
      "\n",
      "Question: ${question}\n",
      "\n",
      "Reasoning: Let's think step by step in order to ${produce the answer}. We ...\n",
      "\n",
      "Answer: often between 1 and 5 words\n",
      "\n",
      "---\n",
      "\n",
      "Context:\n",
      "[1] «333-187113, 333-183033, and 333-167874) of Tesla, Inc. of our report dated January 26, 2024 relating to the financial statements and the effectiveness of internal control over financial reporting, which appears in this Form 10-K. /s/ PricewaterhouseCoopers LLP San Jose, California January 26, 2024 Exhibit 31.1 CERTIFICATIONS I, Elon Musk, certify that: 1. I have reviewed this Annual Report on Form 10-K of Tesla, Inc.; 2. Based on my knowledge, this report does not contain any untrue statement of a material fact or omit to state a material fact necessary to make the statements made, in light of the circumstances under which such statements were made, not misleading with respect to the period covered by this report; 3. Based on my knowledge, the financial statements, and other financial information included in this report, fairly present in all material respects the financial condition, results of operations and cash flows of the registrant as of, and for, the periods presented in this»\n",
      "[2] «on our net income before income taxes. These changes would have resulted in a gain or loss of $1.01 billion at December 31, 2023 and $473 million at December 31, 2022, assuming no foreign currency hedging. 45 ITEM 8. FINANCIAL STATEMENTS AND SUPPLEMENTARY DATA Index to Consolidated Financial Statements Page Report of Independent Registered Public Accounting Firm (PCAOB ID: 238 ) 47 Consolidated Balance Sheets 49 Consolidated Statements of Operations 50 Consolidated Statements of Comprehensive Income 51 Consolidated Statements of Redeemable Noncontrolling Interests and Equity 52 Consolidated Statements of Cash Flows 53 Notes to Consolidated Financial Statements 54 46 Report of Independent Registered Public Accounting Firm To the Board of Directors and Stockholders of Tesla, Inc. Opinions on the Financial Statements and Internal Control over Financial Reporting We have audited the accompanying consolidated balance sheets of Tesla, Inc. and its subsidiaries (the Company) as of December»\n",
      "[3] «other comprehensive loss ( 143 ) ( 361 ) Retained earnings 27,882 12,885 Total stockholders equity 62,634 44,704 Noncontrolling interests in subsidiaries 733 785 Total liabilities and equity $ 106,618 $ 82,338 The accompanying notes are an integral part of these consolidated financial statements. 49 Tesla, Inc. Consolidated Statements of Operations (in millions, except per share data) Year Ended December 31, 2023 2022 2021 Revenues Automotive sales $ 78,509 $ 67,210 $ 44,125 Automotive regulatory credits 1,790 1,776 1,465 Automotive leasing 2,120 2,476 1,642 Total automotive revenues 82,419 71,462 47,232 Energy generation and storage 6,035 3,909 2,789 Services and other 8,319 6,091 3,802 Total revenues 96,773 81,462 53,823 Cost of revenues Automotive sales 65,121 49,599 32,415 Automotive leasing 1,268 1,509 978 Total automotive cost of revenues 66,389 51,108 33,393 Energy generation and storage 4,894 3,621 2,918 Services and other 7,830 5,880 3,906 Total cost of revenues 79,113 60,609»\n",
      "[4] «used vehicle revenue driven by increases in volume, body shop and part sales revenue, non-warranty maintenance services revenue, paid Supercharging revenue and insurance services revenue, all of which are primarily attributable to our growing fleet. The increases were partially offset by a decrease in the average selling price of used vehicles. Energy Generation and Storage Segment Energy generation and storage revenue includes sales and leasing of solar energy generation and energy storage products, financing of solar energy generation products, services related to such products and sales of solar energy systems incentives. 2023 compared to 2022 Energy generation and storage revenue increased $2.13 billion, or 54%, in the year ended December 31, 2023 as compared to the year ended December 31, 2022. The increase was primarily due to an increase in deployments of Megapack. Cost of Revenues and Gross Margin Year Ended December 31, 2023 vs. 2022 Change 2022 vs. 2021 Change (Dollars in»\n",
      "[5] «service and pricing, educate consumers about electric vehicles, make our vehicles more affordable, maintain and strengthen the Tesla brand and obtain rapid customer feedback. We reevaluate our sales strategy both globally and at a location-by-location level from time to time to optimize our sales channels. However, sales of vehicles in the automobile industry tend to be cyclical in many markets, which may expose us to volatility from time to time. 6 Table of Contents Used Vehicle Sales Our used vehicle business supports new vehicle sales by integrating the trade-in of a customers existing Tesla or non-Tesla vehicle with the sale of a new or used Tesla vehicle. The Tesla and non-Tesla vehicles we acquire as trade-ins are subsequently remarketed, either directly by us or through third parties. We also remarket used Tesla vehicles acquired from other sources including lease returns. Public Charging We have a growing global network of Tesla Superchargers, which are our industrial-grade,»\n",
      "\n",
      "Question: what's revenue of tesla 2022?\n",
      "\n",
      "Reasoning: Let's think step by step in order to\u001b[32m Answer: $81.462 billion\u001b[0m\n",
      "\n",
      "\n",
      "\n",
      "\n",
      "\n",
      "\n",
      "\n",
      "Answer questions with short factoid answers.\n",
      "\n",
      "---\n",
      "\n",
      "Follow the following format.\n",
      "\n",
      "Context: may contain relevant facts\n",
      "\n",
      "Question: ${question}\n",
      "\n",
      "Reasoning: Let's think step by step in order to ${produce the answer}. We ...\n",
      "\n",
      "Answer: often between 1 and 5 words\n",
      "\n",
      "---\n",
      "\n",
      "Context:\n",
      "[1] «333-187113, 333-183033, and 333-167874) of Tesla, Inc. of our report dated January 26, 2024 relating to the financial statements and the effectiveness of internal control over financial reporting, which appears in this Form 10-K. /s/ PricewaterhouseCoopers LLP San Jose, California January 26, 2024 Exhibit 31.1 CERTIFICATIONS I, Elon Musk, certify that: 1. I have reviewed this Annual Report on Form 10-K of Tesla, Inc.; 2. Based on my knowledge, this report does not contain any untrue statement of a material fact or omit to state a material fact necessary to make the statements made, in light of the circumstances under which such statements were made, not misleading with respect to the period covered by this report; 3. Based on my knowledge, the financial statements, and other financial information included in this report, fairly present in all material respects the financial condition, results of operations and cash flows of the registrant as of, and for, the periods presented in this»\n",
      "[2] «on our net income before income taxes. These changes would have resulted in a gain or loss of $1.01 billion at December 31, 2023 and $473 million at December 31, 2022, assuming no foreign currency hedging. 45 ITEM 8. FINANCIAL STATEMENTS AND SUPPLEMENTARY DATA Index to Consolidated Financial Statements Page Report of Independent Registered Public Accounting Firm (PCAOB ID: 238 ) 47 Consolidated Balance Sheets 49 Consolidated Statements of Operations 50 Consolidated Statements of Comprehensive Income 51 Consolidated Statements of Redeemable Noncontrolling Interests and Equity 52 Consolidated Statements of Cash Flows 53 Notes to Consolidated Financial Statements 54 46 Report of Independent Registered Public Accounting Firm To the Board of Directors and Stockholders of Tesla, Inc. Opinions on the Financial Statements and Internal Control over Financial Reporting We have audited the accompanying consolidated balance sheets of Tesla, Inc. and its subsidiaries (the Company) as of December»\n",
      "[3] «other comprehensive loss ( 143 ) ( 361 ) Retained earnings 27,882 12,885 Total stockholders equity 62,634 44,704 Noncontrolling interests in subsidiaries 733 785 Total liabilities and equity $ 106,618 $ 82,338 The accompanying notes are an integral part of these consolidated financial statements. 49 Tesla, Inc. Consolidated Statements of Operations (in millions, except per share data) Year Ended December 31, 2023 2022 2021 Revenues Automotive sales $ 78,509 $ 67,210 $ 44,125 Automotive regulatory credits 1,790 1,776 1,465 Automotive leasing 2,120 2,476 1,642 Total automotive revenues 82,419 71,462 47,232 Energy generation and storage 6,035 3,909 2,789 Services and other 8,319 6,091 3,802 Total revenues 96,773 81,462 53,823 Cost of revenues Automotive sales 65,121 49,599 32,415 Automotive leasing 1,268 1,509 978 Total automotive cost of revenues 66,389 51,108 33,393 Energy generation and storage 4,894 3,621 2,918 Services and other 7,830 5,880 3,906 Total cost of revenues 79,113 60,609»\n",
      "[4] «used vehicle revenue driven by increases in volume, body shop and part sales revenue, non-warranty maintenance services revenue, paid Supercharging revenue and insurance services revenue, all of which are primarily attributable to our growing fleet. The increases were partially offset by a decrease in the average selling price of used vehicles. Energy Generation and Storage Segment Energy generation and storage revenue includes sales and leasing of solar energy generation and energy storage products, financing of solar energy generation products, services related to such products and sales of solar energy systems incentives. 2023 compared to 2022 Energy generation and storage revenue increased $2.13 billion, or 54%, in the year ended December 31, 2023 as compared to the year ended December 31, 2022. The increase was primarily due to an increase in deployments of Megapack. Cost of Revenues and Gross Margin Year Ended December 31, 2023 vs. 2022 Change 2022 vs. 2021 Change (Dollars in»\n",
      "[5] «service and pricing, educate consumers about electric vehicles, make our vehicles more affordable, maintain and strengthen the Tesla brand and obtain rapid customer feedback. We reevaluate our sales strategy both globally and at a location-by-location level from time to time to optimize our sales channels. However, sales of vehicles in the automobile industry tend to be cyclical in many markets, which may expose us to volatility from time to time. 6 Table of Contents Used Vehicle Sales Our used vehicle business supports new vehicle sales by integrating the trade-in of a customers existing Tesla or non-Tesla vehicle with the sale of a new or used Tesla vehicle. The Tesla and non-Tesla vehicles we acquire as trade-ins are subsequently remarketed, either directly by us or through third parties. We also remarket used Tesla vehicles acquired from other sources including lease returns. Public Charging We have a growing global network of Tesla Superchargers, which are our industrial-grade,»\n",
      "\n",
      "Question: what's revenue of tesla 2022?\n",
      "\n",
      "Reasoning: Let's think step by step in order to Answer: $81.462 billion\n",
      "\n",
      "Answer:\u001b[32m $81.462 billion\u001b[0m\n",
      "\n",
      "\n",
      "\n"
     ]
    }
   ],
   "source": [
    "turbo.inspect_history(n=3)"
   ]
  },
  {
   "cell_type": "code",
   "execution_count": 30,
   "metadata": {},
   "outputs": [],
   "source": [
    "class Assess(dspy.Signature):\n",
    "    \"\"\"Assess the quality of an answer to a question.\"\"\"\n",
    "    \n",
    "    context = dspy.InputField(desc=\"The context for answering the question.\")\n",
    "    assessed_question = dspy.InputField(desc=\"The evaluation criterion.\")\n",
    "    assessed_answer = dspy.InputField(desc=\"The answer to the question.\")\n",
    "    assessment_answer = dspy.OutputField(desc=\"A rating between 1 and 5. Only output the rating and nothing else.\")\n",
    "\n",
    "metricLM = dspy.OpenAI(model='gpt-4', max_tokens=1000, model_type='chat')\n",
    "\n",
    "def llm_metric(gold, pred, trace=None):\n",
    "    predicted_answer = pred.answer  # Assuming `pred` is the prediction object and has an `answer` attribute\n",
    "    question = gold.question\n",
    "\n",
    "    print(f\"Test Question: {question}\")\n",
    "    print(f\"Predicted Answer: {predicted_answer}\")\n",
    "\n",
    "    detail = \"Is the assessed answer detailed?\"\n",
    "    faithful = \"Is the assessed text grounded in the context? Say no if it includes significant facts not in the context.\"\n",
    "    overall = f\"Please rate how well this answer answers the question, `{question}` based on the context.\\n `{predicted_answer}`\"\n",
    "\n",
    "    with dspy.context(lm=metricLM):\n",
    "        context = gold.context\n",
    "        detail = dspy.ChainOfThought(Assess)(context=\"N/A\", assessed_question=detail, assessed_answer=predicted_answer)\n",
    "        faithful = dspy.ChainOfThought(Assess)(context=context, assessed_question=faithful, assessed_answer=predicted_answer)\n",
    "        overall = dspy.ChainOfThought(Assess)(context=context, assessed_question=overall, assessed_answer=predicted_answer)\n",
    "\n",
    "    print(f\"Faithful: {faithful.assessment_answer}\")\n",
    "    print(f\"Detail: {detail.assessment_answer}\")\n",
    "    print(f\"Overall: {overall.assessment_answer}\")\n",
    "    total = float(detail.assessment_answer) + float(faithful.assessment_answer)*2 + float(overall.assessment_answer)\n",
    "\n",
    "    return total / 5.0"
   ]
  },
  {
   "cell_type": "code",
   "execution_count": 31,
   "metadata": {},
   "outputs": [
    {
     "name": "stderr",
     "output_type": "stream",
     "text": [
      "  5%|▌         | 1/20 [00:01<00:23,  1.21s/it]"
     ]
    },
    {
     "name": "stdout",
     "output_type": "stream",
     "text": [
      "Test Question: What is the trading symbol for Tesla's common stock and on which exchange is it registered?\n",
      "Predicted Answer: TSLA, The Nasdaq Global Select Market\n",
      "Faithful: 5\n",
      "Detail: 2\n",
      "Overall: 5\n"
     ]
    },
    {
     "name": "stderr",
     "output_type": "stream",
     "text": [
      " 10%|█         | 2/20 [00:02<00:25,  1.40s/it]"
     ]
    },
    {
     "name": "stdout",
     "output_type": "stream",
     "text": [
      "Test Question: According to the context, has the registrant filed all reports required by section 13 or 15 (d) of the Securities Exchange Act of 1934 during the preceding 12 months?\n",
      "Predicted Answer: Yes\n",
      "Faithful: 5\n",
      "Detail: 1\n",
      "Overall: 5\n"
     ]
    },
    {
     "name": "stderr",
     "output_type": "stream",
     "text": [
      " 15%|█▌        | 3/20 [00:03<00:20,  1.23s/it]"
     ]
    },
    {
     "name": "stdout",
     "output_type": "stream",
     "text": [
      "Test Question: According to the given context, is the registrant a large accelerated filer?\n",
      "Predicted Answer: Yes\n",
      "Faithful: 5\n",
      "Detail: 1\n",
      "Overall: 5\n",
      "Test Question: According to the given context, has the registrant elected not to use the extended transition period for complying with any new or revised financial accounting standards provided pursuant to section 13(a) of the Exchange Act?\n",
      "Predicted Answer: No\n"
     ]
    },
    {
     "name": "stderr",
     "output_type": "stream",
     "text": [
      " 20%|██        | 4/20 [00:16<01:04,  4.02s/it]"
     ]
    },
    {
     "name": "stdout",
     "output_type": "stream",
     "text": [
      "Faithful: 5\n",
      "Detail: 1\n",
      "Overall: 5\n",
      "Bootstrapped 4 full traces after 5 examples in round 0.\n"
     ]
    },
    {
     "name": "stderr",
     "output_type": "stream",
     "text": [
      "\n"
     ]
    }
   ],
   "source": [
    "from dspy.teleprompt import BootstrapFewShot\n",
    "\n",
    "# teleprompter = BootstrapFewShot(metric=validate_context_and_answer_and_hops)\n",
    "teleprompter = BootstrapFewShot(metric=llm_metric)\n",
    "compiled_baleen = teleprompter.compile(SimplifiedBaleen(), teacher=SimplifiedBaleen(passages_per_hop=2), trainset=trainset)"
   ]
  },
  {
   "cell_type": "code",
   "execution_count": 32,
   "metadata": {},
   "outputs": [],
   "source": [
    "from dspy.evaluate.evaluate import Evaluate\n",
    "\n",
    "# Set up the `evaluate_on_hotpotqa` function. We'll use this many times below.\n",
    "evaluate_on_hotpotqa = Evaluate(devset=devset, num_threads=1, display_progress=True, display_table=5)"
   ]
  },
  {
   "cell_type": "code",
   "execution_count": 33,
   "metadata": {},
   "outputs": [
    {
     "name": "stderr",
     "output_type": "stream",
     "text": [
      "Average Metric: 2.6 / 1  (260.0):   0%|          | 0/21 [00:00<?, ?it/s]"
     ]
    },
    {
     "name": "stdout",
     "output_type": "stream",
     "text": [
      "Test Question: How do we optimize the manufacturing capacity of our energy storage products through a modular approach to battery system design?\n",
      "Predicted Answer: By taking a modular approach.\n",
      "Faithful: 5\n",
      "Detail: 1\n",
      "Overall: 2\n",
      "Test Question: What are some specific engineering feats achieved by our team in the design and test engineering of electric vehicles and their components and systems?\n",
      "Predicted Answer: integrating batteries directly with vehicle body structures\n"
     ]
    },
    {
     "name": "stderr",
     "output_type": "stream",
     "text": [
      "Average Metric: 5.800000000000001 / 2  (290.0):  10%|▉         | 2/21 [00:16<02:35,  8.17s/it]"
     ]
    },
    {
     "name": "stdout",
     "output_type": "stream",
     "text": [
      "Faithful: 5\n",
      "Detail: 1\n",
      "Overall: 5\n",
      "Test Question: What expertise allows us to design and engineer energy generating and storage products?\n",
      "Predicted Answer: electrical, mechanical, civil, and software engineering\n"
     ]
    },
    {
     "name": "stderr",
     "output_type": "stream",
     "text": [
      "Average Metric: 9.200000000000001 / 3  (306.7):  14%|█▍        | 3/21 [00:33<03:30, 11.72s/it]"
     ]
    },
    {
     "name": "stdout",
     "output_type": "stream",
     "text": [
      "Faithful: 5\n",
      "Detail: 2\n",
      "Overall: 5\n",
      "Test Question: How does Tesla tailor their marketing efforts?\n",
      "Predicted Answer: monitor public narrative and brand\n"
     ]
    },
    {
     "name": "stderr",
     "output_type": "stream",
     "text": [
      "Average Metric: 11.600000000000001 / 4  (290.0):  19%|█▉        | 4/21 [00:49<03:47, 13.38s/it]"
     ]
    },
    {
     "name": "stdout",
     "output_type": "stream",
     "text": [
      "Faithful: 4\n",
      "Detail: 1\n",
      "Overall: 3\n",
      "Test Question: How does our used vehicle business support new vehicle sales?\n",
      "Predicted Answer: by integrating the trade-in of a customer's existing Tesla or non-Tesla vehicle with the sale of a new or used Tesla vehicle.\n"
     ]
    },
    {
     "name": "stderr",
     "output_type": "stream",
     "text": [
      "Average Metric: 15.200000000000001 / 5  (304.0):  24%|██▍       | 5/21 [01:07<04:00, 15.05s/it]"
     ]
    },
    {
     "name": "stdout",
     "output_type": "stream",
     "text": [
      "Faithful: 5\n",
      "Detail: 3\n",
      "Overall: 5\n",
      "Test Question: What is the purpose of offering supercharger access to non-Tesla vehicles?\n",
      "Predicted Answer: accelerate energy transition\n"
     ]
    },
    {
     "name": "stderr",
     "output_type": "stream",
     "text": [
      "Average Metric: 18.400000000000002 / 6  (306.7):  29%|██▊       | 6/21 [01:21<03:42, 14.81s/it]"
     ]
    },
    {
     "name": "stdout",
     "output_type": "stream",
     "text": [
      "Faithful: 5\n",
      "Detail: 1\n",
      "Overall: 5\n",
      "Test Question: What steps has Tesla taken to increase their network of superchargers?\n",
      "Predicted Answer: Engaged SAE International, work with various destinations, deploy home charging solutions.\n"
     ]
    },
    {
     "name": "stderr",
     "output_type": "stream",
     "text": [
      "Average Metric: 21.8 / 7  (311.4):  33%|███▎      | 7/21 [01:40<03:46, 16.16s/it]              "
     ]
    },
    {
     "name": "stdout",
     "output_type": "stream",
     "text": [
      "Faithful: 5\n",
      "Detail: 2\n",
      "Overall: 5\n",
      "Test Question: How do we market and sell our solar and energy storage products?\n",
      "Predicted Answer: through various channels\n"
     ]
    },
    {
     "name": "stderr",
     "output_type": "stream",
     "text": [
      "Average Metric: 25.0 / 8  (312.5):  38%|███▊      | 8/21 [01:55<03:23, 15.65s/it]"
     ]
    },
    {
     "name": "stdout",
     "output_type": "stream",
     "text": [
      "Faithful: 5\n",
      "Detail: 1\n",
      "Overall: 5\n",
      "Test Question: What types of warranties and service plans does Tesla offer for their vehicles?\n",
      "Predicted Answer: limited warranties and extended service plans\n"
     ]
    },
    {
     "name": "stderr",
     "output_type": "stream",
     "text": [
      "Average Metric: 28.2 / 9  (313.3):  43%|████▎     | 9/21 [02:08<02:59, 15.00s/it]"
     ]
    },
    {
     "name": "stdout",
     "output_type": "stream",
     "text": [
      "Faithful: 5\n",
      "Detail: 1\n",
      "Overall: 5\n",
      "Test Question: What types of warranties do we generally provide for our energy storage products?\n",
      "Predicted Answer: manufacturer's limited warranties\n"
     ]
    },
    {
     "name": "stderr",
     "output_type": "stream",
     "text": [
      "Average Metric: 31.4 / 10  (314.0):  48%|████▊     | 10/21 [02:20<02:35, 14.12s/it]"
     ]
    },
    {
     "name": "stdout",
     "output_type": "stream",
     "text": [
      "Faithful: 5\n",
      "Detail: 1\n",
      "Overall: 5\n",
      "Test Question: What is the purpose of the insurance product launched in 2021?\n",
      "Predicted Answer: promote safer driving\n"
     ]
    },
    {
     "name": "stderr",
     "output_type": "stream",
     "text": [
      "Average Metric: 34.6 / 11  (314.5):  52%|█████▏    | 11/21 [02:34<02:18, 13.85s/it]"
     ]
    },
    {
     "name": "stdout",
     "output_type": "stream",
     "text": [
      "Faithful: 5\n",
      "Detail: 1\n",
      "Overall: 5\n",
      "Test Question: What financing options do we offer to our solar customers?\n",
      "Predicted Answer: certain financing options\n"
     ]
    },
    {
     "name": "stderr",
     "output_type": "stream",
     "text": [
      "Average Metric: 37.4 / 12  (311.7):  57%|█████▋    | 12/21 [02:46<02:00, 13.40s/it]"
     ]
    },
    {
     "name": "stdout",
     "output_type": "stream",
     "text": [
      "Faithful: 5\n",
      "Detail: 1\n",
      "Overall: 3\n",
      "Test Question: What is the purpose of having manufacturing facilities in different countries?\n",
      "Predicted Answer: Increase affordability and reduce costs.\n"
     ]
    },
    {
     "name": "stderr",
     "output_type": "stream",
     "text": [
      "Average Metric: 40.8 / 13  (313.8):  62%|██████▏   | 13/21 [03:01<01:51, 13.93s/it]"
     ]
    },
    {
     "name": "stdout",
     "output_type": "stream",
     "text": [
      "Faithful: 5\n",
      "Detail: 2\n",
      "Overall: 5\n",
      "Test Question: What advantage can we take from pricing efficiencies due to economies of scale in this context?\n",
      "Predicted Answer: Similar pricing across product lines.\n"
     ]
    },
    {
     "name": "stderr",
     "output_type": "stream",
     "text": [
      "Average Metric: 44.0 / 14  (314.3):  67%|██████▋   | 14/21 [03:15<01:37, 13.93s/it]"
     ]
    },
    {
     "name": "stdout",
     "output_type": "stream",
     "text": [
      "Faithful: 5\n",
      "Detail: 1\n",
      "Overall: 5\n",
      "Test Question: What steps does the company take to minimize production risks related to the procurement of key components?\n",
      "Predicted Answer: qualify multiple suppliers, maintain safety stock\n"
     ]
    },
    {
     "name": "stderr",
     "output_type": "stream",
     "text": [
      "Average Metric: 47.4 / 15  (316.0):  71%|███████▏  | 15/21 [03:29<01:23, 13.84s/it]"
     ]
    },
    {
     "name": "stdout",
     "output_type": "stream",
     "text": [
      "Faithful: 5\n",
      "Detail: 2\n",
      "Overall: 5\n",
      "Test Question: How are our products impacted by government credits, incentives, and policies?\n",
      "Predicted Answer: Ownership is impacted.\n"
     ]
    },
    {
     "name": "stderr",
     "output_type": "stream",
     "text": [
      "Average Metric: 50.199999999999996 / 16  (313.8):  76%|███████▌  | 16/21 [03:43<01:09, 13.96s/it]"
     ]
    },
    {
     "name": "stdout",
     "output_type": "stream",
     "text": [
      "Faithful: 5\n",
      "Detail: 1\n",
      "Overall: 3\n",
      "Test Question: What are the financial mechanisms and incentives for energy storage system projects?\n",
      "Predicted Answer: federal tax credits, regulatory credits, state incentives\n"
     ]
    },
    {
     "name": "stderr",
     "output_type": "stream",
     "text": [
      "Average Metric: 50.199999999999996 / 17  (295.3):  81%|████████  | 17/21 [03:58<00:56, 14.16s/it]"
     ]
    },
    {
     "name": "stdout",
     "output_type": "stream",
     "text": [
      "Faithful: No\n",
      "Detail: 2\n",
      "Overall: 5\n",
      "Error for example in dev set: \t\t could not convert string to float: 'No'\n",
      "Test Question: What are some examples of government support for energy storage adoption?\n",
      "Predicted Answer: Federal tax credits, state procurement targets\n"
     ]
    },
    {
     "name": "stderr",
     "output_type": "stream",
     "text": [
      "Average Metric: 53.599999999999994 / 18  (297.8):  86%|████████▌ | 18/21 [04:15<00:45, 15.08s/it]"
     ]
    },
    {
     "name": "stdout",
     "output_type": "stream",
     "text": [
      "Faithful: 5\n",
      "Detail: 2\n",
      "Overall: 5\n",
      "Test Question: What is the purpose of the tax credits mentioned in the context?\n",
      "Predicted Answer: reduce solar energy adoption costs\n"
     ]
    },
    {
     "name": "stderr",
     "output_type": "stream",
     "text": [
      "Average Metric: 54.599999999999994 / 19  (287.4):  90%|█████████ | 19/21 [04:33<00:31, 15.93s/it]"
     ]
    },
    {
     "name": "stdout",
     "output_type": "stream",
     "text": [
      "Faithful: 1\n",
      "Detail: 1\n",
      "Overall: 2\n",
      "Test Question: What are some incentives and financial mechanisms established by the U.S. federal, state, and local governments to reduce the cost of solar energy?\n",
      "Predicted Answer: tax credits, cash grants, tax abatements, rebates\n"
     ]
    },
    {
     "name": "stderr",
     "output_type": "stream",
     "text": [
      "Average Metric: 57.99999999999999 / 20  (290.0):  95%|█████████▌| 20/21 [04:48<00:15, 15.72s/it] "
     ]
    },
    {
     "name": "stdout",
     "output_type": "stream",
     "text": [
      "Faithful: 5\n",
      "Detail: 2\n",
      "Overall: 5\n",
      "Test Question: What is the role of the National Highway Traffic Safety Administration (NHTSA) in regulating vehicles in the United States?\n",
      "Predicted Answer: Regulating vehicle safety and compliance.\n"
     ]
    },
    {
     "name": "stderr",
     "output_type": "stream",
     "text": [
      "Average Metric: 61.39999999999999 / 21  (292.4): 100%|██████████| 21/21 [05:06<00:00, 14.58s/it]"
     ]
    },
    {
     "name": "stdout",
     "output_type": "stream",
     "text": [
      "Faithful: 5\n",
      "Detail: 2\n",
      "Overall: 5\n",
      "Average Metric: 61.39999999999999 / 21  (292.4%)\n"
     ]
    },
    {
     "name": "stderr",
     "output_type": "stream",
     "text": [
      "\n",
      "/Users/hongtang/Documents/RAG_Implementation/ragvenv/lib/python3.9/site-packages/dspy/evaluate/evaluate.py:266: FutureWarning: Setting an item of incompatible dtype is deprecated and will raise in a future error of pandas. Value '['2.6' '3.2' '3.4' '2.4' '3.6']' has dtype incompatible with float64, please explicitly cast to a compatible dtype first.\n",
      "  df.loc[:, metric_name] = df[metric_name].apply(\n"
     ]
    },
    {
     "data": {
      "text/html": [
       "<style type=\"text/css\">\n",
       "#T_07ce3 th {\n",
       "  text-align: left;\n",
       "}\n",
       "#T_07ce3 td {\n",
       "  text-align: left;\n",
       "}\n",
       "#T_07ce3_row0_col0, #T_07ce3_row0_col1, #T_07ce3_row0_col2, #T_07ce3_row0_col3, #T_07ce3_row0_col4, #T_07ce3_row0_col5, #T_07ce3_row0_col6, #T_07ce3_row0_col7, #T_07ce3_row1_col0, #T_07ce3_row1_col1, #T_07ce3_row1_col2, #T_07ce3_row1_col3, #T_07ce3_row1_col4, #T_07ce3_row1_col5, #T_07ce3_row1_col6, #T_07ce3_row1_col7, #T_07ce3_row2_col0, #T_07ce3_row2_col1, #T_07ce3_row2_col2, #T_07ce3_row2_col3, #T_07ce3_row2_col4, #T_07ce3_row2_col5, #T_07ce3_row2_col6, #T_07ce3_row2_col7, #T_07ce3_row3_col0, #T_07ce3_row3_col1, #T_07ce3_row3_col2, #T_07ce3_row3_col3, #T_07ce3_row3_col4, #T_07ce3_row3_col5, #T_07ce3_row3_col6, #T_07ce3_row3_col7, #T_07ce3_row4_col0, #T_07ce3_row4_col1, #T_07ce3_row4_col2, #T_07ce3_row4_col3, #T_07ce3_row4_col4, #T_07ce3_row4_col5, #T_07ce3_row4_col6, #T_07ce3_row4_col7 {\n",
       "  text-align: left;\n",
       "  white-space: pre-wrap;\n",
       "  word-wrap: break-word;\n",
       "  max-width: 400px;\n",
       "}\n",
       "</style>\n",
       "<table id=\"T_07ce3\">\n",
       "  <thead>\n",
       "    <tr>\n",
       "      <th class=\"blank level0\" >&nbsp;</th>\n",
       "      <th id=\"T_07ce3_level0_col0\" class=\"col_heading level0 col0\" >question</th>\n",
       "      <th id=\"T_07ce3_level0_col1\" class=\"col_heading level0 col1\" >example_context</th>\n",
       "      <th id=\"T_07ce3_level0_col2\" class=\"col_heading level0 col2\" >example_answer</th>\n",
       "      <th id=\"T_07ce3_level0_col3\" class=\"col_heading level0 col3\" >pred_context</th>\n",
       "      <th id=\"T_07ce3_level0_col4\" class=\"col_heading level0 col4\" >pred_answer</th>\n",
       "      <th id=\"T_07ce3_level0_col5\" class=\"col_heading level0 col5\" >llm_metric</th>\n",
       "      <th id=\"T_07ce3_level0_col6\" class=\"col_heading level0 col6\" >context</th>\n",
       "      <th id=\"T_07ce3_level0_col7\" class=\"col_heading level0 col7\" >answer</th>\n",
       "    </tr>\n",
       "  </thead>\n",
       "  <tbody>\n",
       "    <tr>\n",
       "      <th id=\"T_07ce3_level0_row0\" class=\"row_heading level0 row0\" >0</th>\n",
       "      <td id=\"T_07ce3_row0_col0\" class=\"data row0 col0\" >How do we optimize the manufacturing capacity of our energy storage products through a modular approach to battery system design?</td>\n",
       "      <td id=\"T_07ce3_row0_col1\" class=\"data row0 col1\" >page_content='table of contents energy generation and storage energy storage products we leverage many of the component - level technologies from our vehicles in our energy...</td>\n",
       "      <td id=\"T_07ce3_row0_col2\" class=\"data row0 col2\" >To optimize the manufacturing capacity of our energy storage products through a modular approach to battery system design, we leverage many of the component-level technologies...</td>\n",
       "      <td id=\"T_07ce3_row0_col3\" class=\"data row0 col3\" >[\"page_content='table of contents energy generation and storage energy storage products we leverage many of the component - level technologies from our vehicles in our energy...</td>\n",
       "      <td id=\"T_07ce3_row0_col4\" class=\"data row0 col4\" >By taking a modular approach.</td>\n",
       "      <td id=\"T_07ce3_row0_col5\" class=\"data row0 col5\" >2.6</td>\n",
       "      <td id=\"T_07ce3_row0_col6\" class=\"data row0 col6\" >nan</td>\n",
       "      <td id=\"T_07ce3_row0_col7\" class=\"data row0 col7\" >nan</td>\n",
       "    </tr>\n",
       "    <tr>\n",
       "      <th id=\"T_07ce3_level0_row1\" class=\"row_heading level0 row1\" >1</th>\n",
       "      <td id=\"T_07ce3_row1_col0\" class=\"data row1 col0\" >What are some specific engineering feats achieved by our team in the design and test engineering of electric vehicles and their components and systems?</td>\n",
       "      <td id=\"T_07ce3_row1_col1\" class=\"data row1 col1\" >page_content='we have established significant in - house capabilities in the design and test engineering of electric vehicles and their components and systems. our team has...</td>\n",
       "      <td id=\"T_07ce3_row1_col2\" class=\"data row1 col2\" >Our team has achieved several specific engineering feats in the design and test engineering of electric vehicles and their components and systems. These include significant...</td>\n",
       "      <td id=\"T_07ce3_row1_col3\" class=\"data row1 col3\" >[\"page_content='we have established significant in - house capabilities in the design and test engineering of electric vehicles and their components and systems. our team has...</td>\n",
       "      <td id=\"T_07ce3_row1_col4\" class=\"data row1 col4\" >integrating batteries directly with vehicle body structures</td>\n",
       "      <td id=\"T_07ce3_row1_col5\" class=\"data row1 col5\" >3.2</td>\n",
       "      <td id=\"T_07ce3_row1_col6\" class=\"data row1 col6\" >nan</td>\n",
       "      <td id=\"T_07ce3_row1_col7\" class=\"data row1 col7\" >nan</td>\n",
       "    </tr>\n",
       "    <tr>\n",
       "      <th id=\"T_07ce3_level0_row2\" class=\"row_heading level0 row2\" >2</th>\n",
       "      <td id=\"T_07ce3_row2_col0\" class=\"data row2 col0\" >What expertise allows us to design and engineer energy generating and storage products?</td>\n",
       "      <td id=\"T_07ce3_row2_col1\" class=\"data row2 col1\" >page_content='areas of automation, die - making and line - building, we are also making strides in the simulations modeling these capabilities prior to construction. energy...</td>\n",
       "      <td id=\"T_07ce3_row2_col2\" class=\"data row2 col2\" >Our expertise in electrical, mechanical, civil, and software engineering allows us to design, engineer, manufacture, and install energy generating and storage products and components.</td>\n",
       "      <td id=\"T_07ce3_row2_col3\" class=\"data row2 col3\" >[\"page_content='areas of automation, die - making and line - building, we are also making strides in the simulations modeling these capabilities prior to construction. energy...</td>\n",
       "      <td id=\"T_07ce3_row2_col4\" class=\"data row2 col4\" >electrical, mechanical, civil, and software engineering</td>\n",
       "      <td id=\"T_07ce3_row2_col5\" class=\"data row2 col5\" >3.4</td>\n",
       "      <td id=\"T_07ce3_row2_col6\" class=\"data row2 col6\" >nan</td>\n",
       "      <td id=\"T_07ce3_row2_col7\" class=\"data row2 col7\" >nan</td>\n",
       "    </tr>\n",
       "    <tr>\n",
       "      <th id=\"T_07ce3_level0_row3\" class=\"row_heading level0 row3\" >3</th>\n",
       "      <td id=\"T_07ce3_row3_col0\" class=\"data row3 col0\" >How does Tesla tailor their marketing efforts?</td>\n",
       "      <td id=\"T_07ce3_row3_col1\" class=\"data row3 col1\" >page_content='public narrative and brand, and tailor our marketing efforts accordingly, including through investments in customer education and advertising as necessary. automotive direct sales our vehicle...</td>\n",
       "      <td id=\"T_07ce3_row3_col2\" class=\"data row3 col2\" >Tesla tailors their marketing efforts by investing in customer education and advertising as necessary. They utilize a combination of direct sales through their website and...</td>\n",
       "      <td id=\"T_07ce3_row3_col3\" class=\"data row3 col3\" >[\"page_content='public narrative and brand, and tailor our marketing efforts accordingly, including through investments in customer education and advertising as necessary. automotive direct sales our vehicle...</td>\n",
       "      <td id=\"T_07ce3_row3_col4\" class=\"data row3 col4\" >monitor public narrative and brand</td>\n",
       "      <td id=\"T_07ce3_row3_col5\" class=\"data row3 col5\" >2.4</td>\n",
       "      <td id=\"T_07ce3_row3_col6\" class=\"data row3 col6\" >nan</td>\n",
       "      <td id=\"T_07ce3_row3_col7\" class=\"data row3 col7\" >nan</td>\n",
       "    </tr>\n",
       "    <tr>\n",
       "      <th id=\"T_07ce3_level0_row4\" class=\"row_heading level0 row4\" >4</th>\n",
       "      <td id=\"T_07ce3_row4_col0\" class=\"data row4 col0\" >How does our used vehicle business support new vehicle sales?</td>\n",
       "      <td id=\"T_07ce3_row4_col1\" class=\"data row4 col1\" >page_content='table of contents used vehicle sales our used vehicle business supports new vehicle sales by integrating the trade - in of a customer ’ s...</td>\n",
       "      <td id=\"T_07ce3_row4_col2\" class=\"data row4 col2\" >Our used vehicle business supports new vehicle sales by integrating the trade-in of a customer's existing Tesla or non-Tesla vehicle with the sale of a...</td>\n",
       "      <td id=\"T_07ce3_row4_col3\" class=\"data row4 col3\" >[\"page_content='table of contents used vehicle sales our used vehicle business supports new vehicle sales by integrating the trade - in of a customer ’ s...</td>\n",
       "      <td id=\"T_07ce3_row4_col4\" class=\"data row4 col4\" >by integrating the trade-in of a customer's existing Tesla or non-Tesla vehicle with the sale of a new or used Tesla vehicle.</td>\n",
       "      <td id=\"T_07ce3_row4_col5\" class=\"data row4 col5\" >3.6</td>\n",
       "      <td id=\"T_07ce3_row4_col6\" class=\"data row4 col6\" >nan</td>\n",
       "      <td id=\"T_07ce3_row4_col7\" class=\"data row4 col7\" >nan</td>\n",
       "    </tr>\n",
       "  </tbody>\n",
       "</table>\n"
      ],
      "text/plain": [
       "<pandas.io.formats.style.Styler at 0x14cb9e1c0>"
      ]
     },
     "metadata": {},
     "output_type": "display_data"
    },
    {
     "data": {
      "text/html": [
       "\n",
       "                <div style='\n",
       "                    text-align: center;\n",
       "                    font-size: 16px;\n",
       "                    font-weight: bold;\n",
       "                    color: #555;\n",
       "                    margin: 10px 0;'>\n",
       "                    ... 16 more rows not displayed ...\n",
       "                </div>\n",
       "                "
      ],
      "text/plain": [
       "<IPython.core.display.HTML object>"
      ]
     },
     "metadata": {},
     "output_type": "display_data"
    }
   ],
   "source": [
    "uncompiled_baleen_retrieval_score = evaluate_on_hotpotqa(uncompiled_baleen, metric=llm_metric)"
   ]
  },
  {
   "cell_type": "code",
   "execution_count": 34,
   "metadata": {},
   "outputs": [
    {
     "name": "stderr",
     "output_type": "stream",
     "text": [
      "  0%|          | 0/21 [00:00<?, ?it/s]"
     ]
    },
    {
     "name": "stdout",
     "output_type": "stream",
     "text": [
      "Test Question: How do we optimize the manufacturing capacity of our energy storage products through a modular approach to battery system design?\n",
      "Predicted Answer: Tesla optimizes manufacturing capacity by taking a modular approach to battery system design, allowing them to leverage component-level technologies from their vehicles.\n"
     ]
    },
    {
     "name": "stderr",
     "output_type": "stream",
     "text": [
      "Average Metric: 4.0 / 1  (400.0):   5%|▍         | 1/21 [00:13<04:29, 13.46s/it]"
     ]
    },
    {
     "name": "stdout",
     "output_type": "stream",
     "text": [
      "Faithful: 5\n",
      "Detail: 5\n",
      "Overall: 5\n",
      "Test Question: What are some specific engineering feats achieved by our team in the design and test engineering of electric vehicles and their components and systems?\n",
      "Predicted Answer: Achieved feats in stamping, casting, thermal systems, and battery integration.\n"
     ]
    },
    {
     "name": "stderr",
     "output_type": "stream",
     "text": [
      "Average Metric: 7.4 / 2  (370.0):  10%|▉         | 2/21 [00:28<04:32, 14.34s/it]"
     ]
    },
    {
     "name": "stdout",
     "output_type": "stream",
     "text": [
      "Faithful: 5\n",
      "Detail: 2\n",
      "Overall: 5\n",
      "Test Question: What expertise allows us to design and engineer energy generating and storage products?\n",
      "Predicted Answer: Electrical, mechanical, civil, and software engineering expertise\n"
     ]
    },
    {
     "name": "stderr",
     "output_type": "stream",
     "text": [
      "Average Metric: 10.8 / 3  (360.0):  14%|█▍        | 3/21 [00:41<04:07, 13.78s/it]"
     ]
    },
    {
     "name": "stdout",
     "output_type": "stream",
     "text": [
      "Faithful: 5\n",
      "Detail: 2\n",
      "Overall: 5\n",
      "Test Question: How does Tesla tailor their marketing efforts?\n",
      "Predicted Answer: Tesla tailors their marketing efforts by investing in customer education and advertising as necessary to maintain public credibility and confidence in their long-term business prospects.\n"
     ]
    },
    {
     "name": "stderr",
     "output_type": "stream",
     "text": [
      "Average Metric: 14.8 / 4  (370.0):  19%|█▉        | 4/21 [00:54<03:46, 13.33s/it]"
     ]
    },
    {
     "name": "stdout",
     "output_type": "stream",
     "text": [
      "Faithful: 5\n",
      "Detail: 5\n",
      "Overall: 5\n",
      "Test Question: How does our used vehicle business support new vehicle sales?\n",
      "Predicted Answer: By integrating the trade-in of a customer's existing Tesla or non-Tesla vehicle with the sale of a new or used Tesla vehicle.\n"
     ]
    },
    {
     "name": "stderr",
     "output_type": "stream",
     "text": [
      "Average Metric: 18.2 / 5  (364.0):  24%|██▍       | 5/21 [01:16<04:25, 16.59s/it]"
     ]
    },
    {
     "name": "stdout",
     "output_type": "stream",
     "text": [
      "Faithful: 5\n",
      "Detail: 2\n",
      "Overall: 5\n",
      "Test Question: What is the purpose of offering supercharger access to non-Tesla vehicles?\n",
      "Predicted Answer: To accelerate the world's transition to sustainable energy.\n"
     ]
    },
    {
     "name": "stderr",
     "output_type": "stream",
     "text": [
      "Average Metric: 21.599999999999998 / 6  (360.0):  29%|██▊       | 6/21 [01:29<03:49, 15.27s/it]"
     ]
    },
    {
     "name": "stdout",
     "output_type": "stream",
     "text": [
      "Faithful: 5\n",
      "Detail: 2\n",
      "Overall: 5\n",
      "Test Question: What steps has Tesla taken to increase their network of superchargers?\n",
      "Predicted Answer: Tesla has engaged SAE International to govern NACS as an industry standard, increased their network of Tesla Superchargers, worked with various destinations and businesses to offer additional charging options, and deployed home charging solutions.\n"
     ]
    },
    {
     "name": "stderr",
     "output_type": "stream",
     "text": [
      "Average Metric: 25.599999999999998 / 7  (365.7):  33%|███▎      | 7/21 [01:43<03:27, 14.83s/it]"
     ]
    },
    {
     "name": "stdout",
     "output_type": "stream",
     "text": [
      "Faithful: 5\n",
      "Detail: 5\n",
      "Overall: 5\n",
      "Test Question: How do we market and sell our solar and energy storage products?\n",
      "Predicted Answer: Tesla markets and sells their solar and energy storage products to residential, commercial, and industrial customers and utilities through various channels, including their website, stores, galleries, and a network of channel partners. They also engage in power purchase agreement (PPA) transactions with some commercial customers.\n"
     ]
    },
    {
     "name": "stderr",
     "output_type": "stream",
     "text": [
      "Average Metric: 29.599999999999998 / 8  (370.0):  38%|███▊      | 8/21 [01:59<03:20, 15.39s/it]"
     ]
    },
    {
     "name": "stdout",
     "output_type": "stream",
     "text": [
      "Faithful: 5\n",
      "Detail: 5\n",
      "Overall: 5\n",
      "Test Question: What types of warranties and service plans does Tesla offer for their vehicles?\n",
      "Predicted Answer: Tesla offers a manufacturer's limited warranty on all new and used vehicles sold directly to consumers, which may include limited warranties on certain components, specific types of damage, or battery capacity retention. They also provide optional extended service plans that offer coverage beyond the new vehicle limited warranties for certain models in specified regions.\n"
     ]
    },
    {
     "name": "stderr",
     "output_type": "stream",
     "text": [
      "Average Metric: 33.599999999999994 / 9  (373.3):  43%|████▎     | 9/21 [02:20<03:23, 16.93s/it]"
     ]
    },
    {
     "name": "stdout",
     "output_type": "stream",
     "text": [
      "Faithful: 5\n",
      "Detail: 5\n",
      "Overall: 5\n",
      "Test Question: What types of warranties do we generally provide for our energy storage products?\n",
      "Predicted Answer: Manufacturer's limited warranties, extended limited warranties, and warranties for workmanship and against roof leaks for retrofit solar energy systems.\n"
     ]
    },
    {
     "name": "stderr",
     "output_type": "stream",
     "text": [
      "Average Metric: 37.199999999999996 / 10  (372.0):  48%|████▊     | 10/21 [02:34<02:56, 16.02s/it]"
     ]
    },
    {
     "name": "stdout",
     "output_type": "stream",
     "text": [
      "Faithful: 5\n",
      "Detail: 3\n",
      "Overall: 5\n",
      "Test Question: What is the purpose of the insurance product launched in 2021?\n",
      "Predicted Answer: The purpose of the insurance product launched in 2021 is to use real-time driving behavior to offer rates that are often better than other alternatives and promote safer driving.\n"
     ]
    },
    {
     "name": "stderr",
     "output_type": "stream",
     "text": [
      "Average Metric: 41.199999999999996 / 11  (374.5):  52%|█████▏    | 11/21 [02:45<02:27, 14.75s/it]"
     ]
    },
    {
     "name": "stdout",
     "output_type": "stream",
     "text": [
      "Faithful: 5\n",
      "Detail: 5\n",
      "Overall: 5\n",
      "Test Question: What financing options do we offer to our solar customers?\n",
      "Predicted Answer: Tesla offers certain financing options to solar customers, enabling them to purchase and own a solar energy system, solar roof, or an integrated solar and Powerwall system.\n"
     ]
    },
    {
     "name": "stderr",
     "output_type": "stream",
     "text": [
      "Average Metric: 45.199999999999996 / 12  (376.7):  57%|█████▋    | 12/21 [02:58<02:06, 14.07s/it]"
     ]
    },
    {
     "name": "stdout",
     "output_type": "stream",
     "text": [
      "Faithful: 5\n",
      "Detail: 5\n",
      "Overall: 5\n",
      "Test Question: What is the purpose of having manufacturing facilities in different countries?\n",
      "Predicted Answer: To increase affordability for local markets, reduce transportation and manufacturing costs, and eliminate the impact of unfavorable tariffs.\n"
     ]
    },
    {
     "name": "stderr",
     "output_type": "stream",
     "text": [
      "Average Metric: 48.8 / 13  (375.4):  62%|██████▏   | 13/21 [03:11<01:48, 13.62s/it]              "
     ]
    },
    {
     "name": "stdout",
     "output_type": "stream",
     "text": [
      "Faithful: 5\n",
      "Detail: 3\n",
      "Overall: 5\n",
      "Test Question: What advantage can we take from pricing efficiencies due to economies of scale in this context?\n",
      "Predicted Answer: Similar pricing efficiencies across many product lines\n"
     ]
    },
    {
     "name": "stderr",
     "output_type": "stream",
     "text": [
      "Average Metric: 52.199999999999996 / 14  (372.9):  67%|██████▋   | 14/21 [03:24<01:34, 13.46s/it]"
     ]
    },
    {
     "name": "stdout",
     "output_type": "stream",
     "text": [
      "Faithful: 5\n",
      "Detail: 2\n",
      "Overall: 5\n",
      "Test Question: What steps does the company take to minimize production risks related to the procurement of key components?\n",
      "Predicted Answer: The company works to qualify multiple suppliers for key components where sensible, maintains safety stock for key parts and assemblies, and has die banks for components with lengthy procurement lead times.\n"
     ]
    },
    {
     "name": "stderr",
     "output_type": "stream",
     "text": [
      "Average Metric: 56.199999999999996 / 15  (374.7):  71%|███████▏  | 15/21 [03:37<01:20, 13.37s/it]"
     ]
    },
    {
     "name": "stdout",
     "output_type": "stream",
     "text": [
      "Faithful: 5\n",
      "Detail: 5\n",
      "Overall: 5\n",
      "Test Question: How are our products impacted by government credits, incentives, and policies?\n",
      "Predicted Answer: The ownership of our products by customers is impacted by various government credits, incentives, and policies. Additionally, our business and products are subject to numerous governmental regulations that vary among jurisdictions.\n"
     ]
    },
    {
     "name": "stderr",
     "output_type": "stream",
     "text": [
      "Average Metric: 60.199999999999996 / 16  (376.2):  76%|███████▌  | 16/21 [08:19<07:50, 94.20s/it]"
     ]
    },
    {
     "name": "stdout",
     "output_type": "stream",
     "text": [
      "Faithful: 5\n",
      "Detail: 5\n",
      "Overall: 5\n",
      "Test Question: What are the financial mechanisms and incentives for energy storage system projects?\n",
      "Predicted Answer: Various policies, incentives, and financial mechanisms at the federal, state, and local levels support the adoption of energy storage systems. These include federal tax credits for solar-charged energy storage systems, participation in wholesale energy markets enabled by the Federal Energy Regulatory Commission (FERC), procurement targets for energy storage in states like California, and funding under programs like the California Self Generation Incentive Program.\n"
     ]
    },
    {
     "name": "stderr",
     "output_type": "stream",
     "text": [
      "Average Metric: 62.4 / 17  (367.1):  81%|████████  | 17/21 [08:38<04:46, 71.57s/it]              "
     ]
    },
    {
     "name": "stdout",
     "output_type": "stream",
     "text": [
      "Faithful: 2\n",
      "Detail: 5\n",
      "Overall: 2\n",
      "Test Question: What are some examples of government support for energy storage adoption?\n",
      "Predicted Answer: Solar energy-related U.S. federal tax credits, policies enabling energy storage participation in wholesale energy markets by the Federal Energy Regulatory Commission (FERC), procurement targets for energy storage in California and other states, and funding under the California Self Generation Incentive Program for behind-the-meter energy storage systems.\n"
     ]
    },
    {
     "name": "stderr",
     "output_type": "stream",
     "text": [
      "Average Metric: 66.4 / 18  (368.9):  86%|████████▌ | 18/21 [08:56<02:46, 55.66s/it]"
     ]
    },
    {
     "name": "stdout",
     "output_type": "stream",
     "text": [
      "Faithful: 5\n",
      "Detail: 5\n",
      "Overall: 5\n",
      "Test Question: What is the purpose of the tax credits mentioned in the context?\n",
      "Predicted Answer: The tax credits mentioned in the context are primarily for the benefit of customers and are intended to reduce the cost of solar energy and energy storage systems.\n"
     ]
    },
    {
     "name": "stderr",
     "output_type": "stream",
     "text": [
      "Average Metric: 68.4 / 19  (360.0):  90%|█████████ | 19/21 [09:12<01:27, 43.58s/it]"
     ]
    },
    {
     "name": "stdout",
     "output_type": "stream",
     "text": [
      "Faithful: 2\n",
      "Detail: 3\n",
      "Overall: 3\n",
      "Test Question: What are some incentives and financial mechanisms established by the U.S. federal, state, and local governments to reduce the cost of solar energy?\n",
      "Predicted Answer: Tax credits, cash grants, tax abatements, and rebates are some of the incentives provided to reduce the cost of solar energy. Additionally, sections 48, 48e, and 25d of the Internal Revenue Code offer tax credits between 6% and 70% of qualified expenditures for solar energy systems.\n"
     ]
    },
    {
     "name": "stderr",
     "output_type": "stream",
     "text": [
      "Average Metric: 72.4 / 20  (362.0):  95%|█████████▌| 20/21 [09:30<00:35, 35.95s/it]"
     ]
    },
    {
     "name": "stdout",
     "output_type": "stream",
     "text": [
      "Faithful: 5\n",
      "Detail: 5\n",
      "Overall: 5\n",
      "Test Question: What is the role of the National Highway Traffic Safety Administration (NHTSA) in regulating vehicles in the United States?\n",
      "Predicted Answer: Regulates vehicles according to federal motor vehicle safety standards, bumper standards, and other federal laws.\n"
     ]
    },
    {
     "name": "stderr",
     "output_type": "stream",
     "text": [
      "Average Metric: 76.0 / 21  (361.9): 100%|██████████| 21/21 [09:43<00:00, 27.79s/it]"
     ]
    },
    {
     "name": "stdout",
     "output_type": "stream",
     "text": [
      "Faithful: 5\n",
      "Detail: 3\n",
      "Overall: 5\n",
      "Average Metric: 76.0 / 21  (361.9%)\n"
     ]
    },
    {
     "name": "stderr",
     "output_type": "stream",
     "text": [
      "\n",
      "/Users/hongtang/Documents/RAG_Implementation/ragvenv/lib/python3.9/site-packages/dspy/evaluate/evaluate.py:266: FutureWarning: Setting an item of incompatible dtype is deprecated and will raise in a future error of pandas. Value '['4.0' '3.4' '3.4' '4.0' '3.4']' has dtype incompatible with float64, please explicitly cast to a compatible dtype first.\n",
      "  df.loc[:, metric_name] = df[metric_name].apply(\n"
     ]
    },
    {
     "data": {
      "text/html": [
       "<style type=\"text/css\">\n",
       "#T_2976c th {\n",
       "  text-align: left;\n",
       "}\n",
       "#T_2976c td {\n",
       "  text-align: left;\n",
       "}\n",
       "#T_2976c_row0_col0, #T_2976c_row0_col1, #T_2976c_row0_col2, #T_2976c_row0_col3, #T_2976c_row0_col4, #T_2976c_row0_col5, #T_2976c_row1_col0, #T_2976c_row1_col1, #T_2976c_row1_col2, #T_2976c_row1_col3, #T_2976c_row1_col4, #T_2976c_row1_col5, #T_2976c_row2_col0, #T_2976c_row2_col1, #T_2976c_row2_col2, #T_2976c_row2_col3, #T_2976c_row2_col4, #T_2976c_row2_col5, #T_2976c_row3_col0, #T_2976c_row3_col1, #T_2976c_row3_col2, #T_2976c_row3_col3, #T_2976c_row3_col4, #T_2976c_row3_col5, #T_2976c_row4_col0, #T_2976c_row4_col1, #T_2976c_row4_col2, #T_2976c_row4_col3, #T_2976c_row4_col4, #T_2976c_row4_col5 {\n",
       "  text-align: left;\n",
       "  white-space: pre-wrap;\n",
       "  word-wrap: break-word;\n",
       "  max-width: 400px;\n",
       "}\n",
       "</style>\n",
       "<table id=\"T_2976c\">\n",
       "  <thead>\n",
       "    <tr>\n",
       "      <th class=\"blank level0\" >&nbsp;</th>\n",
       "      <th id=\"T_2976c_level0_col0\" class=\"col_heading level0 col0\" >question</th>\n",
       "      <th id=\"T_2976c_level0_col1\" class=\"col_heading level0 col1\" >example_context</th>\n",
       "      <th id=\"T_2976c_level0_col2\" class=\"col_heading level0 col2\" >example_answer</th>\n",
       "      <th id=\"T_2976c_level0_col3\" class=\"col_heading level0 col3\" >pred_context</th>\n",
       "      <th id=\"T_2976c_level0_col4\" class=\"col_heading level0 col4\" >pred_answer</th>\n",
       "      <th id=\"T_2976c_level0_col5\" class=\"col_heading level0 col5\" >llm_metric</th>\n",
       "    </tr>\n",
       "  </thead>\n",
       "  <tbody>\n",
       "    <tr>\n",
       "      <th id=\"T_2976c_level0_row0\" class=\"row_heading level0 row0\" >0</th>\n",
       "      <td id=\"T_2976c_row0_col0\" class=\"data row0 col0\" >How do we optimize the manufacturing capacity of our energy storage products through a modular approach to battery system design?</td>\n",
       "      <td id=\"T_2976c_row0_col1\" class=\"data row0 col1\" >page_content='table of contents energy generation and storage energy storage products we leverage many of the component - level technologies from our vehicles in our energy...</td>\n",
       "      <td id=\"T_2976c_row0_col2\" class=\"data row0 col2\" >To optimize the manufacturing capacity of our energy storage products through a modular approach to battery system design, we leverage many of the component-level technologies...</td>\n",
       "      <td id=\"T_2976c_row0_col3\" class=\"data row0 col3\" >[\"page_content='table of contents energy generation and storage energy storage products we leverage many of the component - level technologies from our vehicles in our energy...</td>\n",
       "      <td id=\"T_2976c_row0_col4\" class=\"data row0 col4\" >Tesla optimizes manufacturing capacity by taking a modular approach to battery system design, allowing them to leverage component-level technologies from their vehicles.</td>\n",
       "      <td id=\"T_2976c_row0_col5\" class=\"data row0 col5\" >4.0</td>\n",
       "    </tr>\n",
       "    <tr>\n",
       "      <th id=\"T_2976c_level0_row1\" class=\"row_heading level0 row1\" >1</th>\n",
       "      <td id=\"T_2976c_row1_col0\" class=\"data row1 col0\" >What are some specific engineering feats achieved by our team in the design and test engineering of electric vehicles and their components and systems?</td>\n",
       "      <td id=\"T_2976c_row1_col1\" class=\"data row1 col1\" >page_content='we have established significant in - house capabilities in the design and test engineering of electric vehicles and their components and systems. our team has...</td>\n",
       "      <td id=\"T_2976c_row1_col2\" class=\"data row1 col2\" >Our team has achieved several specific engineering feats in the design and test engineering of electric vehicles and their components and systems. These include significant...</td>\n",
       "      <td id=\"T_2976c_row1_col3\" class=\"data row1 col3\" >[\"page_content='we have established significant in - house capabilities in the design and test engineering of electric vehicles and their components and systems. our team has...</td>\n",
       "      <td id=\"T_2976c_row1_col4\" class=\"data row1 col4\" >Achieved feats in stamping, casting, thermal systems, and battery integration.</td>\n",
       "      <td id=\"T_2976c_row1_col5\" class=\"data row1 col5\" >3.4</td>\n",
       "    </tr>\n",
       "    <tr>\n",
       "      <th id=\"T_2976c_level0_row2\" class=\"row_heading level0 row2\" >2</th>\n",
       "      <td id=\"T_2976c_row2_col0\" class=\"data row2 col0\" >What expertise allows us to design and engineer energy generating and storage products?</td>\n",
       "      <td id=\"T_2976c_row2_col1\" class=\"data row2 col1\" >page_content='areas of automation, die - making and line - building, we are also making strides in the simulations modeling these capabilities prior to construction. energy...</td>\n",
       "      <td id=\"T_2976c_row2_col2\" class=\"data row2 col2\" >Our expertise in electrical, mechanical, civil, and software engineering allows us to design, engineer, manufacture, and install energy generating and storage products and components.</td>\n",
       "      <td id=\"T_2976c_row2_col3\" class=\"data row2 col3\" >[\"page_content='areas of automation, die - making and line - building, we are also making strides in the simulations modeling these capabilities prior to construction. energy...</td>\n",
       "      <td id=\"T_2976c_row2_col4\" class=\"data row2 col4\" >Electrical, mechanical, civil, and software engineering expertise</td>\n",
       "      <td id=\"T_2976c_row2_col5\" class=\"data row2 col5\" >3.4</td>\n",
       "    </tr>\n",
       "    <tr>\n",
       "      <th id=\"T_2976c_level0_row3\" class=\"row_heading level0 row3\" >3</th>\n",
       "      <td id=\"T_2976c_row3_col0\" class=\"data row3 col0\" >How does Tesla tailor their marketing efforts?</td>\n",
       "      <td id=\"T_2976c_row3_col1\" class=\"data row3 col1\" >page_content='public narrative and brand, and tailor our marketing efforts accordingly, including through investments in customer education and advertising as necessary. automotive direct sales our vehicle...</td>\n",
       "      <td id=\"T_2976c_row3_col2\" class=\"data row3 col2\" >Tesla tailors their marketing efforts by investing in customer education and advertising as necessary. They utilize a combination of direct sales through their website and...</td>\n",
       "      <td id=\"T_2976c_row3_col3\" class=\"data row3 col3\" >[\"page_content='public narrative and brand, and tailor our marketing efforts accordingly, including through investments in customer education and advertising as necessary. automotive direct sales our vehicle...</td>\n",
       "      <td id=\"T_2976c_row3_col4\" class=\"data row3 col4\" >Tesla tailors their marketing efforts by investing in customer education and advertising as necessary to maintain public credibility and confidence in their long-term business prospects.</td>\n",
       "      <td id=\"T_2976c_row3_col5\" class=\"data row3 col5\" >4.0</td>\n",
       "    </tr>\n",
       "    <tr>\n",
       "      <th id=\"T_2976c_level0_row4\" class=\"row_heading level0 row4\" >4</th>\n",
       "      <td id=\"T_2976c_row4_col0\" class=\"data row4 col0\" >How does our used vehicle business support new vehicle sales?</td>\n",
       "      <td id=\"T_2976c_row4_col1\" class=\"data row4 col1\" >page_content='table of contents used vehicle sales our used vehicle business supports new vehicle sales by integrating the trade - in of a customer ’ s...</td>\n",
       "      <td id=\"T_2976c_row4_col2\" class=\"data row4 col2\" >Our used vehicle business supports new vehicle sales by integrating the trade-in of a customer's existing Tesla or non-Tesla vehicle with the sale of a...</td>\n",
       "      <td id=\"T_2976c_row4_col3\" class=\"data row4 col3\" >[\"page_content='table of contents used vehicle sales our used vehicle business supports new vehicle sales by integrating the trade - in of a customer ’ s...</td>\n",
       "      <td id=\"T_2976c_row4_col4\" class=\"data row4 col4\" >By integrating the trade-in of a customer's existing Tesla or non-Tesla vehicle with the sale of a new or used Tesla vehicle.</td>\n",
       "      <td id=\"T_2976c_row4_col5\" class=\"data row4 col5\" >3.4</td>\n",
       "    </tr>\n",
       "  </tbody>\n",
       "</table>\n"
      ],
      "text/plain": [
       "<pandas.io.formats.style.Styler at 0x3101d4910>"
      ]
     },
     "metadata": {},
     "output_type": "display_data"
    },
    {
     "data": {
      "text/html": [
       "\n",
       "                <div style='\n",
       "                    text-align: center;\n",
       "                    font-size: 16px;\n",
       "                    font-weight: bold;\n",
       "                    color: #555;\n",
       "                    margin: 10px 0;'>\n",
       "                    ... 16 more rows not displayed ...\n",
       "                </div>\n",
       "                "
      ],
      "text/plain": [
       "<IPython.core.display.HTML object>"
      ]
     },
     "metadata": {},
     "output_type": "display_data"
    },
    {
     "name": "stdout",
     "output_type": "stream",
     "text": [
      "## Retrieval Score for uncompiled Baleen: 292.38\n",
      "## Retrieval Score for compiled Baleen: 361.9\n"
     ]
    }
   ],
   "source": [
    "compiled_baleen_retrieval_score = evaluate_on_hotpotqa(compiled_baleen, metric=llm_metric)\n",
    "\n",
    "print(f\"## Retrieval Score for uncompiled Baleen: {uncompiled_baleen_retrieval_score}\")\n",
    "print(f\"## Retrieval Score for compiled Baleen: {compiled_baleen_retrieval_score}\")"
   ]
  }
 ],
 "metadata": {
  "kernelspec": {
   "display_name": "ragvenv",
   "language": "python",
   "name": "python3"
  },
  "language_info": {
   "name": "python",
   "version": "3.9.6"
  }
 },
 "nbformat": 4,
 "nbformat_minor": 2
}
