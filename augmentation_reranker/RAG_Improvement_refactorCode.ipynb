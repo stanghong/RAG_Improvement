{
 "cells": [
  {
   "cell_type": "markdown",
   "id": "ec889d86-0d16-477f-8b7f-be03d73ad957",
   "metadata": {},
   "source": [
    "# Improecd RAG with Query Augmentation and Cross Encoding"
   ]
  },
  {
   "cell_type": "markdown",
   "id": "58ee2f53-d88b-4f00-94a2-75a66d4149e9",
   "metadata": {},
   "source": [
    "this notebook is modified from [Advanced Retrieval for AI with Chroma](https://learn.deeplearning.ai/courses/advanced-retrieval-for-ai)\n",
    "\n",
    "The project is partially funded by the [OpenAI Research Assistant Grant](https://medium.com/@Stan_DS/what-i-learned-to-successfully-apply-for-openai-research-program-78edd2f93655)."
   ]
  },
  {
   "cell_type": "code",
   "execution_count": 20,
   "id": "5a5536f0-651c-40e7-aa15-27ee0cda80b7",
   "metadata": {
    "height": 30
   },
   "outputs": [],
   "source": [
    "from helper_utils import word_wrap\n",
    "\n",
    "from pypdf import PdfReader\n",
    "from langchain.text_splitter import RecursiveCharacterTextSplitter, SentenceTransformersTokenTextSplitter\n",
    "\n",
    "import chromadb\n",
    "from chromadb.utils.embedding_functions import SentenceTransformerEmbeddingFunction\n",
    "\n",
    "import os\n",
    "import openai\n",
    "from openai import OpenAI\n",
    "\n",
    "from dotenv import load_dotenv, find_dotenv\n",
    "\n",
    "import umap.umap_ as umap\n",
    "import numpy as np\n",
    "from tqdm import tqdm\n",
    "\n",
    "from sentence_transformers import CrossEncoder\n",
    "\n",
    "_ = load_dotenv(find_dotenv()) # read local .env file\n",
    "openai.api_key = os.environ['OPENAI_API_KEY']\n",
    "\n",
    "openai_client = OpenAI()\n",
    " \n",
    "import matplotlib.pyplot as plt"
   ]
  },
  {
   "cell_type": "code",
   "execution_count": 3,
   "id": "3748b16d-d4a7-49c3-a48a-57dcfc42acd6",
   "metadata": {
    "height": 166
   },
   "outputs": [
    {
     "name": "stdout",
     "output_type": "stream",
     "text": [
      "such\trisks\thave\toccurred\tat\tthe\ttime\tof\tthis\tfiling.\tWe\tdo\tnot\tassume\tan\n",
      "\tobligation\tto\tupdate\tany\tforward-looking\tstatements.\n",
      "\n",
      "Total chunks: 528\n",
      "such risks have occurred at the time of this filing. we do not assume\n",
      "any obligation to update any forward - looking statements.\n",
      "\n",
      "Total chunks: 556\n"
     ]
    }
   ],
   "source": [
    "# load tesla 2023 10K report\n",
    "\n",
    "reader = PdfReader(\"../data/tesla10K.pdf\")\n",
    "pdf_texts = [p.extract_text().strip() for p in reader.pages]\n",
    "\n",
    "# Filter the empty strings\n",
    "pdf_texts = [text for text in pdf_texts if text]\n",
    "\n",
    "# split text by sentences\n",
    "character_splitter = RecursiveCharacterTextSplitter(\n",
    "    separators=[\"\\n\\n\", \"\\n\", \". \", \" \", \"\"],\n",
    "    chunk_size=1000,\n",
    "    chunk_overlap=0\n",
    ")\n",
    "character_split_texts = character_splitter.split_text('\\n\\n'.join(pdf_texts))\n",
    "\n",
    "print(word_wrap(character_split_texts[10]))\n",
    "print(f\"\\nTotal chunks: {len(character_split_texts)}\")\n",
    "\n",
    "# tokenize the sentence chunks\n",
    "token_splitter = SentenceTransformersTokenTextSplitter(chunk_overlap=0, tokens_per_chunk=256)\n",
    "\n",
    "token_split_texts = []\n",
    "for text in character_split_texts:\n",
    "    token_split_texts += token_splitter.split_text(text)\n",
    "\n",
    "print(word_wrap(token_split_texts[10]))\n",
    "print(f\"\\nTotal chunks: {len(token_split_texts)}\")"
   ]
  },
  {
   "cell_type": "markdown",
   "metadata": {},
   "source": [
    "### create sentence embedding "
   ]
  },
  {
   "cell_type": "code",
   "execution_count": 4,
   "id": "c2a13d14-4484-46f0-8e67-277337f9d138",
   "metadata": {
    "height": 113
   },
   "outputs": [],
   "source": [
    "# create embeddings\n",
    "\n",
    "embedding_function = SentenceTransformerEmbeddingFunction()"
   ]
  },
  {
   "cell_type": "code",
   "execution_count": 5,
   "metadata": {},
   "outputs": [],
   "source": [
    "#### create vector data base using chromaDB collection"
   ]
  },
  {
   "cell_type": "code",
   "execution_count": 6,
   "id": "8ba6c8c5-9ce4-44d0-9223-6fdd77871f87",
   "metadata": {
    "height": 147
   },
   "outputs": [
    {
     "data": {
      "text/plain": [
       "556"
      ]
     },
     "execution_count": 6,
     "metadata": {},
     "output_type": "execute_result"
    }
   ],
   "source": [
    "chroma_client = chromadb.Client()\n",
    "chroma_collection = chroma_client.create_collection(\"tesla202310k\", embedding_function=embedding_function)\n",
    "\n",
    "ids = [str(i) for i in range(len(token_split_texts))]\n",
    "\n",
    "chroma_collection.add(ids=ids, documents=token_split_texts)\n",
    "chroma_collection.count()"
   ]
  },
  {
   "cell_type": "code",
   "execution_count": 7,
   "id": "bfdb54db-a442-423c-b006-c33a257cd7d7",
   "metadata": {
    "height": 164
   },
   "outputs": [
    {
     "name": "stdout",
     "output_type": "stream",
     "text": [
      "million and $ 106 million, respectively, in cost of revenues in the\n",
      "consolidated statements of operations. 72\n",
      "\n",
      "\n",
      "participation activities. such guarantees and variable customer\n",
      "payments represent a form of variable consideration and are estimated\n",
      "at contract inception at their most likely amount and updated at the\n",
      "end of each reporting period as additional performance data becomes\n",
      "available. such estimates are included in the transaction price only to\n",
      "the extent that it is probable a significant reversal of revenue will\n",
      "not occur. we record as deferred revenue any non - refundable amounts\n",
      "that are collected from customers related to fees charged for\n",
      "prepayments, which is recognized as revenue ratably over the respective\n",
      "customer contract term. as of december 31, 2023 and 2022, deferred\n",
      "revenue related to such customer payments amounted to $ 1. 60 billion\n",
      "and $ 863 million, respectively, mainly due to contractual payment\n",
      "terms. revenue recognized from the deferred revenue balance as of\n",
      "december 31, 2022 and 2021 was $ 571 million and $ 171 million for the\n",
      "years ended december 31, 2023 and 2022,\n",
      "\n",
      "\n",
      "acquisitions of property and equipment included in liabilities $ 2, 272\n",
      "$ 2, 148 $ 2, 251 supplemental disclosures cash paid during the period\n",
      "for interest, net of amounts capitalized $ 126 $ 152 $ 266 cash paid\n",
      "during the period for income taxes, net of refunds $ 1, 119 $ 1, 203 $\n",
      "561\n",
      "\n",
      "\n",
      "revenue recognition revenue by source the following table disaggregates\n",
      "our revenue by major source ( in millions ) : year ended december 31,\n",
      "2023 2022 2021 automotive sales $ 78, 509 $ 67, 210 $ 44, 125\n",
      "automotive regulatory credits 1, 790 1, 776 1, 465 energy generation\n",
      "and storage sales 5, 515 3, 376 2, 279 services and other 8, 319 6, 091\n",
      "3, 802 total revenues from sales and services 94, 133 78, 453 51, 671\n",
      "automotive leasing 2, 120 2, 476 1, 642 energy generation and storage\n",
      "leasing 520 533 510 total revenues $ 96, 773 $ 81, 462 $ 53, 823\n",
      "automotive segment automotive sales automotive sales revenue includes\n",
      "revenues related to cash and financing deliveries of new vehicles, and\n",
      "specific other features and services that meet the definition of a\n",
      "performance obligation under asc 606, including access to our fsd\n",
      "capability features and their ongoing maintenance, internet\n",
      "\n",
      "\n",
      "the estimates used for, but not limited to, determining significant\n",
      "economic incentive for resale value guarantee arrangements, sales\n",
      "return reserves, the collectability of accounts and financing\n",
      "receivables, inventory valuation, warranties, fair value of long -\n",
      "lived assets, goodwill, fair value of financial instruments, fair value\n",
      "and residual value of operating lease vehicles and solar energy systems\n",
      "subject to leases could be impacted. we have assessed the impact and\n",
      "are not aware of any specific events or circumstances that required an\n",
      "update to our estimates and assumptions or materially affected the\n",
      "carrying value of our assets or liabilities as of the date of issuance\n",
      "of this annual report on form 10 - k. these estimates may change as new\n",
      "events occur and additional information is obtained. actual results\n",
      "could differ materially from these estimates under different\n",
      "assumptions or conditions. revenue recognition automotive sales\n",
      "\n",
      "\n"
     ]
    }
   ],
   "source": [
    "\n",
    "query = \"What was the total revenue?\"\n",
    "\n",
    "### retrieve top n similar embeddings from chroma collection\n",
    "results = chroma_collection.query(query_texts=[query], n_results=5)\n",
    "retrieved_documents = results['documents'][0]\n",
    "\n",
    "for document in retrieved_documents:\n",
    "    print(word_wrap(document))\n",
    "    print('\\n')"
   ]
  },
  {
   "cell_type": "markdown",
   "id": "377a84aa-1d93-4e97-9b2d-d59c46355338",
   "metadata": {
    "height": 166
   },
   "source": [
    "\n",
    "#### use LLM (Openai API) to answer human query"
   ]
  },
  {
   "cell_type": "code",
   "execution_count": 8,
   "id": "ba0ed8ca-6640-4c09-9cb3-9de5e7cf46dc",
   "metadata": {
    "height": 334
   },
   "outputs": [],
   "source": [
    "def rag(query, retrieved_documents, model=\"gpt-3.5-turbo\"):\n",
    "    information = \"\\n\\n\".join(retrieved_documents)\n",
    "\n",
    "    messages = [\n",
    "        {\n",
    "            \"role\": \"system\",\n",
    "            \"content\": \"You are a helpful expert financial research assistant. Your users are asking questions about information contained in an annual 10K report.\"\n",
    "            \"You will be shown the user's question, and the relevant information from the annual report. Answer the user's question using only this information.\"\n",
    "        },\n",
    "        {\"role\": \"user\", \"content\": f\"Question: {query}. \\n Information: {information}\"}\n",
    "    ]\n",
    "    \n",
    "    response = openai_client.chat.completions.create(\n",
    "        model=model,\n",
    "        messages=messages,\n",
    "    )\n",
    "    content = response.choices[0].message.content\n",
    "    return content"
   ]
  },
  {
   "cell_type": "code",
   "execution_count": 9,
   "metadata": {},
   "outputs": [
    {
     "name": "stderr",
     "output_type": "stream",
     "text": [
      "huggingface/tokenizers: The current process just got forked, after parallelism has already been used. Disabling parallelism to avoid deadlocks...\n",
      "To disable this warning, you can either:\n",
      "\t- Avoid using `tokenizers` before the fork if possible\n",
      "\t- Explicitly set the environment variable TOKENIZERS_PARALLELISM=(true | false)\n"
     ]
    },
    {
     "name": "stdout",
     "output_type": "stream",
     "text": [
      "Total revenue for the year ended December 31, 2023, was $96,773\n",
      "million.\n"
     ]
    }
   ],
   "source": [
    "query = \"What was the total revenue?\"\n",
    "\n",
    "results = chroma_collection.query(query_texts=[query], n_results=5)\n",
    "retrieved_documents = results['documents'][0]\n",
    "\n",
    "output = rag(query=query, retrieved_documents=retrieved_documents)\n",
    "\n",
    "print(word_wrap(output))"
   ]
  },
  {
   "cell_type": "markdown",
   "id": "db9f2758-0f5a-49e5-b1fa-517b91324575",
   "metadata": {
    "height": 30
   },
   "source": [
    "#### An Example of Non-relevant queries or distraction"
   ]
  },
  {
   "cell_type": "code",
   "execution_count": 10,
   "id": "aee59493-8a99-4da8-b94f-4747efcfc79d",
   "metadata": {
    "height": 30
   },
   "outputs": [
    {
     "name": "stdout",
     "output_type": "stream",
     "text": [
      "The information from the annual report does not directly provide any\n",
      "details about Lionel Messi or his involvement with the company. It\n",
      "seems that the information provided pertains to Tesla's internal\n",
      "operations, employee benefits, growth opportunities, stock-based\n",
      "compensation, operational milestones, sales and service locations,\n",
      "stock compensation for the CEO, tax rates for subsidiaries, and foreign\n",
      "earnings reinvestment strategies, but does not mention anything related\n",
      "to Lionel Messi's actions or contributions to the company.\n"
     ]
    }
   ],
   "source": [
    "query = \"What Lionel Messi did for us?\"\n",
    "\n",
    "results = chroma_collection.query(query_texts=[query], n_results=5)\n",
    "retrieved_documents = results['documents'][0]\n",
    "\n",
    "output = rag(query=query, retrieved_documents=retrieved_documents)\n",
    "\n",
    "print(word_wrap(output))"
   ]
  },
  {
   "cell_type": "markdown",
   "id": "b1183e75-4c65-422e-bc47-48010d8b29c9",
   "metadata": {
    "height": 30
   },
   "source": [
    "# Visual QC the relavancy or distraction of Document Retrieval\n"
   ]
  },
  {
   "cell_type": "code",
   "execution_count": 11,
   "id": "5fcd85cc-8898-41ed-a0aa-bd8a33fc565a",
   "metadata": {
    "height": 30
   },
   "outputs": [
    {
     "name": "stderr",
     "output_type": "stream",
     "text": [
      "/Users/hongtang/Documents/RAG_brewer/RAGenv/lib/python3.9/site-packages/umap/umap_.py:1945: UserWarning: n_jobs value 1 overridden to 1 by setting random_state. Use no seed for parallelism.\n",
      "  warn(f\"n_jobs value {self.n_jobs} overridden to 1 by setting random_state. Use no seed for parallelism.\")\n",
      "OMP: Info #276: omp_set_nested routine deprecated, please use omp_set_max_active_levels instead.\n"
     ]
    }
   ],
   "source": [
    "\n",
    "embeddings = chroma_collection.get(include=['embeddings'])['embeddings']\n",
    "umap_transform = umap.UMAP(random_state=0, transform_seed=0).fit(embeddings)"
   ]
  },
  {
   "cell_type": "code",
   "execution_count": 12,
   "id": "c65337e9-85ee-47f7-89fd-7fe77cd0e1b2",
   "metadata": {
    "height": 30
   },
   "outputs": [],
   "source": [
    "def project_embeddings(embeddings, umap_transform):\n",
    "    umap_embeddings = np.empty((len(embeddings),2))\n",
    "    for i, embedding in enumerate(tqdm(embeddings)): \n",
    "        umap_embeddings[i] = umap_transform.transform([embedding])\n",
    "    return umap_embeddings   "
   ]
  },
  {
   "cell_type": "code",
   "execution_count": 13,
   "id": "a7794092-4195-4cf3-9eab-11c9c05a26b9",
   "metadata": {
    "height": 30
   },
   "outputs": [
    {
     "name": "stderr",
     "output_type": "stream",
     "text": [
      "100%|██████████| 556/556 [03:04<00:00,  3.01it/s]\n"
     ]
    }
   ],
   "source": [
    "# project all embeddings into 2D for visualization\n",
    "projected_dataset_embeddings = project_embeddings(embeddings, umap_transform)"
   ]
  },
  {
   "cell_type": "markdown",
   "metadata": {},
   "source": [
    "#### A good query and retrieval"
   ]
  },
  {
   "cell_type": "code",
   "execution_count": 21,
   "id": "fe0343be-73c9-4aed-83b0-aba09569ac87",
   "metadata": {
    "height": 30
   },
   "outputs": [
    {
     "name": "stderr",
     "output_type": "stream",
     "text": [
      "100%|██████████| 1/1 [00:00<00:00,  3.14it/s]\n",
      "100%|██████████| 5/5 [00:01<00:00,  2.94it/s]\n"
     ]
    },
    {
     "name": "stdout",
     "output_type": "stream",
     "text": [
      "The total revenue for the year ended December 31, 2023, was $96,773\n",
      "million.\n"
     ]
    },
    {
     "data": {
      "text/plain": [
       "(-5.642355990409851, 6.435305190086365, 3.954787564277649, 12.974955725669862)"
      ]
     },
     "execution_count": 21,
     "metadata": {},
     "output_type": "execute_result"
    },
    {
     "data": {
      "image/png": "[encoded data removed]",
      "text/plain": [
       "<Figure size 640x480 with 1 Axes>"
      ]
     },
     "metadata": {},
     "output_type": "display_data"
    }
   ],
   "source": [
    "query = \"What is the total revenue?\"\n",
    "\n",
    "results = chroma_collection.query(query_texts=query, n_results=5, include=['documents', 'embeddings'])\n",
    "\n",
    "retrieved_documents = results['documents'][0]\n",
    "\n",
    "\n",
    "query_embedding = embedding_function([query])[0]\n",
    "retrieved_embeddings = results['embeddings'][0]\n",
    "\n",
    "# prep for visualizing the embeddings and queries\n",
    "projected_query_embedding = project_embeddings([query_embedding], umap_transform)\n",
    "projected_retrieved_embeddings = project_embeddings(retrieved_embeddings, umap_transform)\n",
    "\n",
    "# print outputs\n",
    "output = rag(query=query, retrieved_documents=retrieved_documents)\n",
    "\n",
    "print(word_wrap(output))\n",
    "\n",
    "# Plot the projected query and retrieved documents in the embedding space\n",
    "plt.figure()\n",
    "plt.scatter(projected_dataset_embeddings[:, 0], projected_dataset_embeddings[:, 1], s=10, color='gray')\n",
    "plt.scatter(projected_query_embedding[:, 0], projected_query_embedding[:, 1], s=150, marker='X', color='r')\n",
    "plt.scatter(projected_retrieved_embeddings[:, 0], projected_retrieved_embeddings[:, 1], s=100, facecolors='none', edgecolors='g')\n",
    "\n",
    "plt.gca().set_aspect('equal', 'datalim')\n",
    "plt.title(f'{query}')\n",
    "plt.axis('off')"
   ]
  },
  {
   "cell_type": "markdown",
   "id": "a16fdcb1-57d0-4f04-af8f-7c7fc594d947",
   "metadata": {
    "height": 30
   },
   "source": [
    "### An irrelevant query and its retrieval"
   ]
  },
  {
   "cell_type": "code",
   "execution_count": 22,
   "metadata": {},
   "outputs": [
    {
     "name": "stderr",
     "output_type": "stream",
     "text": [
      "100%|██████████| 1/1 [00:00<00:00,  3.35it/s]\n",
      "100%|██████████| 5/5 [00:01<00:00,  3.03it/s]\n"
     ]
    },
    {
     "name": "stdout",
     "output_type": "stream",
     "text": [
      "The information provided is related to Tesla's automobile sales and\n",
      "service centers across various countries and cities. There is no\n",
      "mention of Lionel Messi's favorite team in this information.\n"
     ]
    },
    {
     "data": {
      "text/plain": [
       "(-5.642355990409851, 6.435305190086365, 3.954787564277649, 12.974955725669862)"
      ]
     },
     "execution_count": 22,
     "metadata": {},
     "output_type": "execute_result"
    },
    {
     "data": {
      "image/png": "[encoded data removed]",
      "text/plain": [
       "<Figure size 640x480 with 1 Axes>"
      ]
     },
     "metadata": {},
     "output_type": "display_data"
    }
   ],
   "source": [
    "query = \"What lionel messi's favorite team?\"\n",
    "\n",
    "results = chroma_collection.query(query_texts=query, n_results=5, include=['documents', 'embeddings'])\n",
    "\n",
    "retrieved_documents = results['documents'][0]\n",
    "\n",
    "\n",
    "query_embedding = embedding_function([query])[0]\n",
    "retrieved_embeddings = results['embeddings'][0]\n",
    "\n",
    "# prep for visualizing the embeddings and queries\n",
    "projected_query_embedding = project_embeddings([query_embedding], umap_transform)\n",
    "projected_retrieved_embeddings = project_embeddings(retrieved_embeddings, umap_transform)\n",
    "\n",
    "# print outputs\n",
    "output = rag(query=query, retrieved_documents=retrieved_documents)\n",
    "\n",
    "print(word_wrap(output))\n",
    "\n",
    "# Plot the projected query and retrieved documents in the embedding space\n",
    "plt.figure()\n",
    "plt.scatter(projected_dataset_embeddings[:, 0], projected_dataset_embeddings[:, 1], s=10, color='gray')\n",
    "plt.scatter(projected_query_embedding[:, 0], projected_query_embedding[:, 1], s=150, marker='X', color='r')\n",
    "plt.scatter(projected_retrieved_embeddings[:, 0], projected_retrieved_embeddings[:, 1], s=100, facecolors='none', edgecolors='g')\n",
    "\n",
    "plt.gca().set_aspect('equal', 'datalim')\n",
    "plt.title(f'{query}')\n",
    "plt.axis('off')\n"
   ]
  },
  {
   "cell_type": "markdown",
   "metadata": {},
   "source": [
    "## Query augmentation with multiple queries\n"
   ]
  },
  {
   "cell_type": "code",
   "execution_count": 23,
   "metadata": {},
   "outputs": [],
   "source": [
    "def augment_multiple_query(query, model=\"gpt-3.5-turbo\"):\n",
    "    messages = [\n",
    "        {\n",
    "            \"role\": \"system\",\n",
    "            \"content\": \"You are a helpful expert financial research assistant. Your users are asking questions about an annual report. \"\n",
    "            \"Suggest up to five additional related questions to help them find the information they need, for the provided question. \"\n",
    "            \"Suggest only short questions without compound sentences. Suggest a variety of questions that cover different aspects of the topic.\"\n",
    "            \"Make sure they are complete questions, and that they are related to the original question.\"\n",
    "            \"Output one question per line. Do not number the questions.\"\n",
    "        },\n",
    "        {\"role\": \"user\", \"content\": query}\n",
    "    ]\n",
    "\n",
    "    response = openai_client.chat.completions.create(\n",
    "        model=model,\n",
    "        messages=messages,\n",
    "    )\n",
    "    content = response.choices[0].message.content\n",
    "    content = content.split(\"\\n\")\n",
    "    return content"
   ]
  },
  {
   "cell_type": "code",
   "execution_count": 24,
   "metadata": {},
   "outputs": [
    {
     "name": "stdout",
     "output_type": "stream",
     "text": [
      "What are the key financial highlights from the annual report?  \n",
      "What were the company's major achievements in the past fiscal year?  \n",
      "How does the company's financial performance compare to industry competitors?  \n",
      "What are the company's strategic priorities for the upcoming year?  \n",
      "Did the company face any regulatory challenges or lawsuits during the year?\n"
     ]
    }
   ],
   "source": [
    "# original_query = \"What were the most important factors that contributed to increases in revenue?\"\n",
    "original_query = \"Was there significant turnover in the executive team?\"\n",
    "augmented_queries = augment_multiple_query(original_query)\n",
    "\n",
    "for query in augmented_queries:\n",
    "    print(query)"
   ]
  },
  {
   "cell_type": "code",
   "execution_count": 25,
   "metadata": {},
   "outputs": [
    {
     "name": "stdout",
     "output_type": "stream",
     "text": [
      "Query: Was there significant turnover in the executive team?\n",
      "\n",
      "Results:\n",
      "item 11. executive compensation 95 item 12. security ownership of\n",
      "certain beneficial owners and management and related stockholder\n",
      "matters 95 item 13. certain relationships and related transactions, and\n",
      "director independence 95 item 14. principal accountant fees and\n",
      "services 95 part iv. item 15. exhibits and financial statement\n",
      "schedules 96 item 16. summary 111 signatures\n",
      "\n",
      "table of contents we believe that sound corporate governance is\n",
      "critical to helping us achieve our goals, including with respect to\n",
      "esg. we continue to evolve a governance framework that exercises\n",
      "appropriate oversight of responsibilities at all levels throughout the\n",
      "company and manages its affairs consistent with high principles of\n",
      "business ethics. our esg sustainability council is made up of leaders\n",
      "from across our company, and regularly presents to our board of\n",
      "directors, which oversees our esg impacts, initiatives and priorities.\n",
      "human capital resources a competitive edge for tesla is its ability to\n",
      "attract and retain high quality employees. during the past year, tesla\n",
      "made substantial investments in its workforce, further strengthening\n",
      "its standing as one of the most desirable and innovative companies to\n",
      "work for. as of december 31, 2023, our employee headcount worldwide was\n",
      "140, 473.\n",
      "\n",
      "future time when we expected to achieve that operational milestone, or\n",
      "its “ expected operational milestone achievement time. ” as of december\n",
      "31, 2022, all remaining unrecognized stock - based compensation expense\n",
      "under the 2018 ceo performance award had been recognized. for the years\n",
      "ended december 31, 2022 and 2021, we recorded stock - based\n",
      "compensation expense of $ 66 million and $ 910 million, respectively,\n",
      "related to the 2018 ceo performance award. 82\n",
      "\n",
      "executive officers of the company and adopts this policy to be\n",
      "effective as of the effective date. 1. definitions for purposes of this\n",
      "policy, the following definitions shall apply : a ) “ company group ”\n",
      "means the company and each of its subsidiaries, as applicable. b ) “\n",
      "covered compensation ” means any incentive - based compensation\n",
      "received by a person who served as an executive officer at any time\n",
      "during the performance period for such incentive - based compensation\n",
      "and that was received ( i ) on or after october 2, 2023 and ( ii )\n",
      "after the person became an executive officer. c ) “ effective date ”\n",
      "means november 15, 2023. d ) “ erroneously awarded compensation ” means\n",
      "the amount of covered compensation received by a person during the\n",
      "fiscal period when the applicable financial reporting measure relating\n",
      "to such covered compensation was attained that exceeds the amount of\n",
      "covered compensation that otherwise would have been received by such\n",
      "\n",
      "2018 ceo performance award in march 2018, our stockholders approved the\n",
      "board of directors ’ grant of 304. 0 million stock option awards, as\n",
      "adjusted to give effect to the 2020 stock split and the 2022 stock\n",
      "split, to our ceo ( the “ 2018 ceo performance award ” ). the 2018 ceo\n",
      "performance award consisted of 12 vesting tranches with a vesting\n",
      "schedule based entirely on the attainment of both operational\n",
      "milestones ( performance conditions ) and market conditions, assuming\n",
      "continued employment either as the ceo or as both executive chairman\n",
      "and chief product officer and service through each vesting date. each\n",
      "of the 12 vesting tranches of the 2018 ceo performance award vested\n",
      "upon certification by the board of directors that both ( i ) the market\n",
      "capitalization milestone for such tranche, which began at $ 100. 0\n",
      "billion for the first tranche and increases by increments of $ 50. 0\n",
      "billion thereafter ( based on both a six\n",
      "\n",
      "----------------------------------------------------------------------------------------------------\n",
      "Query: What are the key financial highlights from the annual report?  \n",
      "\n",
      "Results:\n",
      "summary of significant accounting policies, to the consolidated\n",
      "financial statements included elsewhere in this annual report on form\n",
      "10 - k. 44\n",
      "\n",
      "internal control over financial reporting. date : january 26, 2024 / s\n",
      "/ elon musk elon musk chief executive officer ( principal executive\n",
      "officer ) exhibit 31. 2 certifications i, vaibhav taneja, certify that\n",
      ": 1. i have reviewed this annual report on form 10 - k of tesla, inc. ;\n",
      "2. based on my knowledge, this report does not contain any untrue\n",
      "statement of a material fact or omit to state a material fact necessary\n",
      "to make the statements made, in light of the circumstances under which\n",
      "such statements were made, not misleading with respect to the period\n",
      "covered by this report ; 3. based on my knowledge, the financial\n",
      "statements, and other financial information included in this report,\n",
      "fairly present in all material respects the financial condition,\n",
      "results of operations and cash flows of the registrant as of, and for,\n",
      "the periods presented in this report ; 4.\n",
      "\n",
      "depending on the specific pace of our capital - intensive projects and\n",
      "other potential variables such as rising material prices and increases\n",
      "in supply chain and labor expenses resulting from changes in global\n",
      "trade conditions and labor availability. overall, we expect our ability\n",
      "to be self - funding to continue as long as macroeconomic factors\n",
      "support current trends in our sales. critical accounting policies and\n",
      "estimates the consolidated financial statements are prepared in\n",
      "accordance with accounting principles generally accepted in the u. s. (\n",
      "“ gaap ” ). the preparation of the consolidated financial statements\n",
      "requires us to make estimates and assumptions that affect the reported\n",
      "amounts of assets, liabilities, revenues, costs and expenses and\n",
      "related disclosures. we base our estimates on historical experience, as\n",
      "appropriate, and on various other assumptions\n",
      "\n",
      "table of contents our financial results may vary significantly from\n",
      "period to period due to fluctuations in our operating costs and other\n",
      "factors. we expect our period - to - period financial results to vary\n",
      "based on our operating costs, which we anticipate will fluctuate as the\n",
      "pace at which we continue to design, develop and manufacture new\n",
      "products and increase production capacity by expanding our current\n",
      "manufacturing facilities and adding future facilities, may not be\n",
      "consistent or linear between periods. additionally, our revenues from\n",
      "period to period may fluctuate as we introduce existing products to new\n",
      "markets for the first time and as we develop and introduce new\n",
      "products. as a result of these factors, we believe that quarter - to -\n",
      "quarter comparisons of our financial results, especially in the short\n",
      "term, are not necessarily meaningful and that these comparisons cannot\n",
      "be relied\n",
      "\n",
      "the accompanying notes are an integral part of these consolidated\n",
      "financial statements. 53\n",
      "\n",
      "----------------------------------------------------------------------------------------------------\n",
      "Query: What were the company's major achievements in the past fiscal year?  \n",
      "\n",
      "Results:\n",
      "the estimates used for, but not limited to, determining significant\n",
      "economic incentive for resale value guarantee arrangements, sales\n",
      "return reserves, the collectability of accounts and financing\n",
      "receivables, inventory valuation, warranties, fair value of long -\n",
      "lived assets, goodwill, fair value of financial instruments, fair value\n",
      "and residual value of operating lease vehicles and solar energy systems\n",
      "subject to leases could be impacted. we have assessed the impact and\n",
      "are not aware of any specific events or circumstances that required an\n",
      "update to our estimates and assumptions or materially affected the\n",
      "carrying value of our assets or liabilities as of the date of issuance\n",
      "of this annual report on form 10 - k. these estimates may change as new\n",
      "events occur and additional information is obtained. actual results\n",
      "could differ materially from these estimates under different\n",
      "assumptions or conditions. revenue recognition automotive sales\n",
      "\n",
      "item 7. management ’ s discussion and analysis of financial condition\n",
      "and results of operations the following discussion and analysis should\n",
      "be read in conjunction with the consolidated financial statements and\n",
      "the related notes included elsewhere in this annual report on form 10 -\n",
      "k. for further discussion of our products and services, technology and\n",
      "competitive strengths, refer to item 1 - business. for discussion\n",
      "related to changes in financial condition and the results of operations\n",
      "for fiscal year 2022 - related items, refer to part ii, item 7.\n",
      "management ’ s discussion and analysis of financial condition and\n",
      "results of operations in our annual report on form 10 - k for fiscal\n",
      "year 2022, which was filed with the securities and exchange commission\n",
      "on january 31, 2023. overview and 2023 highlights our mission is to\n",
      "accelerate the world ’ s transition to sustainable energy. we design,\n",
      "develop, manufacture, lease and sell high - performance fully\n",
      "\n",
      "post - exercise, other than a cashless exercise where shares are\n",
      "simultaneously sold to pay for the exercise price and any required tax\n",
      "withholding. the achievement status of the operational milestones as of\n",
      "december 31, 2023 is provided below. total annualized revenue\n",
      "annualized adjusted ebitda milestone ( in billions ) achievement status\n",
      "milestone ( in billions ) achievement status $ 20. 0 achieved $ 1. 5\n",
      "achieved $ 35. 0 achieved $ 3. 0 achieved $ 55. 0 achieved $ 4. 5\n",
      "achieved $ 75. 0 achieved $ 6. 0 achieved $ 100. 0 - $ 8. 0 achieved $\n",
      "125. 0 - $ 10. 0 achieved $ 150. 0 - $ 12. 0 achieved $ 175. 0 - $ 14.\n",
      "0 achieved stock - based compensation under the 2018 ceo performance\n",
      "award represented a non - cash expense and was recorded as a selling,\n",
      "general, and administrative operating expense in our consolidated\n",
      "statements of operations. in each quarter since the grant of the 2018\n",
      "ceo performance award, we\n",
      "\n",
      "in our opinion, the consolidated financial statements referred to above\n",
      "present fairly, in all material respects, the financial position of the\n",
      "company as of december 31, 2023 and 2022, and the results of its\n",
      "operations and its cash flows for each of the three years in the period\n",
      "ended december 31, 2023 in conformity with accounting principles\n",
      "generally accepted in the united states of america. also in our\n",
      "opinion, the company maintained, in all material respects, effective\n",
      "internal control over financial reporting as of december 31, 2023,\n",
      "based on criteria established in internal control - integrated\n",
      "framework ( 2013 ) issued by the coso. changes in accounting principles\n",
      "as discussed in note 2 to the consolidated financial statements, the\n",
      "company changed the manner in which it accounts for convertible debt in\n",
      "2021. basis for opinions the company's management is responsible for\n",
      "these consolidated financial statements, for maintaining effective\n",
      "internal control over financial reporting,\n",
      "\n",
      "depending on the specific pace of our capital - intensive projects and\n",
      "other potential variables such as rising material prices and increases\n",
      "in supply chain and labor expenses resulting from changes in global\n",
      "trade conditions and labor availability. overall, we expect our ability\n",
      "to be self - funding to continue as long as macroeconomic factors\n",
      "support current trends in our sales. critical accounting policies and\n",
      "estimates the consolidated financial statements are prepared in\n",
      "accordance with accounting principles generally accepted in the u. s. (\n",
      "“ gaap ” ). the preparation of the consolidated financial statements\n",
      "requires us to make estimates and assumptions that affect the reported\n",
      "amounts of assets, liabilities, revenues, costs and expenses and\n",
      "related disclosures. we base our estimates on historical experience, as\n",
      "appropriate, and on various other assumptions\n",
      "\n",
      "----------------------------------------------------------------------------------------------------\n",
      "Query: How does the company's financial performance compare to industry competitors?  \n",
      "\n",
      "Results:\n",
      "table of contents our financial results may vary significantly from\n",
      "period to period due to fluctuations in our operating costs and other\n",
      "factors. we expect our period - to - period financial results to vary\n",
      "based on our operating costs, which we anticipate will fluctuate as the\n",
      "pace at which we continue to design, develop and manufacture new\n",
      "products and increase production capacity by expanding our current\n",
      "manufacturing facilities and adding future facilities, may not be\n",
      "consistent or linear between periods. additionally, our revenues from\n",
      "period to period may fluctuate as we introduce existing products to new\n",
      "markets for the first time and as we develop and introduce new\n",
      "products. as a result of these factors, we believe that quarter - to -\n",
      "quarter comparisons of our financial results, especially in the short\n",
      "term, are not necessarily meaningful and that these comparisons cannot\n",
      "be relied\n",
      "\n",
      "that we believe to be reasonable under the circumstances. changes in\n",
      "the accounting estimates are reasonably likely to occur from period to\n",
      "period. accordingly, actual results could differ significantly from the\n",
      "estimates made by our management. we evaluate our estimates and\n",
      "assumptions on an ongoing basis. to the extent that there are material\n",
      "differences between these estimates and actual results, our future\n",
      "financial statement presentation, financial condition, results of\n",
      "operations and cash flows may be affected. 35\n",
      "\n",
      "of unauthorized acquisition, use or disposition of our assets that\n",
      "could have a material effect on the financial statements. under the\n",
      "supervision and with the participation of our management, including our\n",
      "chief executive officer and chief financial officer, we conducted an\n",
      "evaluation of the effectiveness of our internal control over financial\n",
      "reporting based on criteria established in internal control –\n",
      "integrated framework ( 2013 ) issued by the committee of sponsoring\n",
      "organizations of the treadway commission ( “ coso ” ). our management\n",
      "concluded that our internal control over financial reporting was\n",
      "effective as of december 31, 2023. our independent registered public\n",
      "accounting firm, pricewaterhousecoopers llp, has audited the\n",
      "effectiveness of our internal control over financial reporting as of\n",
      "december 31, 2023, as stated in their report which is included herein.\n",
      "limitations on the effectiveness of controls\n",
      "\n",
      "support our planned high - volume product sales, market and\n",
      "geographical expansion and technological innovations. if we are not\n",
      "successful in managing these risks, our business, financial condition\n",
      "and operating results may be harmed. employees may leave tesla or\n",
      "choose other employers over tesla due to various factors, such as a\n",
      "very competitive labor market for talented individuals with automotive\n",
      "or technology experience, or any negative publicity related to us. in\n",
      "regions where we have or will have operations, particularly significant\n",
      "engineering and manufacturing centers, there is strong competition for\n",
      "individuals with skillsets needed for our business, including\n",
      "specialized knowledge of electric vehicles, engineering and electrical\n",
      "and building construction expertise. we also compete with both mature\n",
      "and prosperous companies that have far greater financial resources than\n",
      "we do and start - ups and emerging companies that promise short - term\n",
      "growth opportunities.\n",
      "\n",
      "upon as indicators of future performance. moreover, our financial\n",
      "results may not meet expectations of equity research analysts, ratings\n",
      "agencies or investors, who may be focused only on short - term\n",
      "quarterly financial results. if any of this occurs, the trading price\n",
      "of our stock could fall substantially, either suddenly or over time. we\n",
      "may fail to meet our publicly announced guidance or other expectations\n",
      "about our business, which could cause our stock price to decline. we\n",
      "provide from time to time guidance regarding our expected financial and\n",
      "business performance. correctly identifying key factors affecting\n",
      "business conditions and predicting future events is inherently an\n",
      "uncertain process, and our guidance may not ultimately be accurate and\n",
      "has in the past been inaccurate in certain respects, such as the timing\n",
      "of new product manufacturing ramps. our guidance is based on certain\n",
      "assumptions such as those\n",
      "\n",
      "----------------------------------------------------------------------------------------------------\n",
      "Query: What are the company's strategic priorities for the upcoming year?  \n",
      "\n",
      "Results:\n",
      "upon as indicators of future performance. moreover, our financial\n",
      "results may not meet expectations of equity research analysts, ratings\n",
      "agencies or investors, who may be focused only on short - term\n",
      "quarterly financial results. if any of this occurs, the trading price\n",
      "of our stock could fall substantially, either suddenly or over time. we\n",
      "may fail to meet our publicly announced guidance or other expectations\n",
      "about our business, which could cause our stock price to decline. we\n",
      "provide from time to time guidance regarding our expected financial and\n",
      "business performance. correctly identifying key factors affecting\n",
      "business conditions and predicting future events is inherently an\n",
      "uncertain process, and our guidance may not ultimately be accurate and\n",
      "has in the past been inaccurate in certain respects, such as the timing\n",
      "of new product manufacturing ramps. our guidance is based on certain\n",
      "assumptions such as those\n",
      "\n",
      "table of contents forward - looking statements the discussions in this\n",
      "annual report on form 10 - k contain forward - looking statements\n",
      "reflecting our current expectations that involve risks and\n",
      "uncertainties. these forward - looking statements include, but are not\n",
      "limited to, statements concerning supply chain constraints, our\n",
      "strategy, competition, future operations and production capacity,\n",
      "future financial position, future revenues, projected costs,\n",
      "profitability, expected cost reductions, capital adequacy, expectations\n",
      "regarding demand and acceptance for our technologies, growth\n",
      "opportunities and trends in the markets in which we operate, prospects\n",
      "and plans and objectives of management. the words “ anticipates, ” “\n",
      "believes, ” “ could, ” “ estimates, ” “ expects, ” “ intends, ” “ may,\n",
      "” “ plans, ” “ projects, ” “ will, ” “ would ” and similar expressions\n",
      "are intended to identify forward - looking statements, although not all\n",
      "forward - looking\n",
      "\n",
      "item 7. management ’ s discussion and analysis of financial condition\n",
      "and results of operations the following discussion and analysis should\n",
      "be read in conjunction with the consolidated financial statements and\n",
      "the related notes included elsewhere in this annual report on form 10 -\n",
      "k. for further discussion of our products and services, technology and\n",
      "competitive strengths, refer to item 1 - business. for discussion\n",
      "related to changes in financial condition and the results of operations\n",
      "for fiscal year 2022 - related items, refer to part ii, item 7.\n",
      "management ’ s discussion and analysis of financial condition and\n",
      "results of operations in our annual report on form 10 - k for fiscal\n",
      "year 2022, which was filed with the securities and exchange commission\n",
      "on january 31, 2023. overview and 2023 highlights our mission is to\n",
      "accelerate the world ’ s transition to sustainable energy. we design,\n",
      "develop, manufacture, lease and sell high - performance fully\n",
      "\n",
      "efficiency at our current factories. the next phase of production\n",
      "growth will depend on the continued ramp at our factories and the\n",
      "introduction of our next generation platform, as well as our ability to\n",
      "add to our available sources of battery cell supply by manufacturing\n",
      "our own cells that we are developing to have high - volume output,\n",
      "lower capital and production costs and longer range. our goals are to\n",
      "improve vehicle performance, decrease production costs and increase\n",
      "affordability and customer awareness. these plans are subject to\n",
      "uncertainties inherent in establishing and ramping manufacturing\n",
      "operations, which may be exacerbated by new product and manufacturing\n",
      "technologies we introduce, the number of concurrent international\n",
      "projects, any industry - wide component constraints, labor shortages\n",
      "and any future impact from events outside of our control. for example,\n",
      "during the third quarter of 2023, we experienced a sequential decline\n",
      "in\n",
      "\n",
      "table of contents in particular, our future business depends in large\n",
      "part on increasing the production of mass - market vehicles. in order\n",
      "to be successful, we will need to implement, maintain and ramp\n",
      "efficient and cost - effective manufacturing capabilities, processes\n",
      "and supply chains and achieve the design tolerances, high quality and\n",
      "output rates we have planned at our manufacturing facilities in\n",
      "california, nevada, texas, china, germany and any future sites such as\n",
      "mexico. we will also need to hire, train and compensate skilled\n",
      "employees to operate these facilities. bottlenecks and other unexpected\n",
      "challenges such as those we experienced in the past may arise during\n",
      "our production ramps, and we must address them promptly while\n",
      "continuing to improve manufacturing processes and reducing costs. if we\n",
      "are not successful in achieving these goals, we could face delays in\n",
      "establishing and / or sustaining our product ramps or be unable to meet\n",
      "our related cost and profitability targets.\n",
      "\n",
      "----------------------------------------------------------------------------------------------------\n",
      "Query: Did the company face any regulatory challenges or lawsuits during the year?\n",
      "\n",
      "Results:\n",
      "between october 17, 2018 and march 8, 2021, seven derivative lawsuits\n",
      "were filed in the delaware court of chancery, purportedly on behalf of\n",
      "tesla, against mr. musk and the members of tesla ’ s board of\n",
      "directors, as constituted at relevant times, in relation to statements\n",
      "made and actions connected to a potential going private transaction,\n",
      "with certain of the lawsuits challenging additional twitter posts by\n",
      "mr. musk, among other things. five of those actions were consolidated,\n",
      "and all seven actions have been stayed pending resolution of the appeal\n",
      "in the above - referenced consolidated purported stockholder class\n",
      "action. in addition to these cases, two derivative lawsuits were filed\n",
      "on october 25, 2018 and february 11, 2019 in the u. s. district court\n",
      "for the district of delaware, purportedly on behalf of tesla, against\n",
      "mr. musk and the members of the tesla board of directors as then\n",
      "\n",
      "weisshorn solar manager i, llc delaware zep solar llc california\n",
      "exhibit 23. 1 consent of independent registered public accounting firm\n",
      "we hereby consent to the incorporation by reference in the registration\n",
      "statements on form s - 8 ( nos. 333 - 232079, 333 - 223169, 333 -\n",
      "216376, 333 - 209696, 333 - 198002, 333 - 187113, 333 - 183033, and 333\n",
      "- 167874 ) of tesla, inc. of our report dated january 26, 2024 relating\n",
      "to the financial statements and the effectiveness of internal control\n",
      "over financial reporting, which appears in this form 10 - k. / s /\n",
      "pricewaterhousecoopers llp san jose, california january 26, 2024\n",
      "exhibit 31. 1 certifications i, elon musk, certify that : 1. i have\n",
      "reviewed this annual report on form 10 - k of tesla, inc. ; 2. based on\n",
      "my knowledge, this report does not contain any untrue statement of a\n",
      "material fact or omit to state a material fact necessary to make the\n",
      "\n",
      "exhibit number incorporated by reference filed herewith exhibit\n",
      "description form file no. exhibit filing date 10. 33 † investment\n",
      "letter agreement between panasonic corporation and the registrant dated\n",
      "october 1, 2014. 10 - q 001 - 34756 10. 4 november 7, 2014 10. 34\n",
      "amendment to gigafactory documents, dated april 5, 2016, by and among\n",
      "the registrant, panasonic corporation, panasonic corporation of north\n",
      "america and panasonic energy corporation of north america. 10 - q 001 -\n",
      "34756 10. 2 may 10, 2016 10. 35 † † 2019 pricing agreement ( japan\n",
      "cells ) with respect to 2011 supply agreement, executed september 20,\n",
      "2019, by and among the registrant, tesla motors netherlands b. v.,\n",
      "panasonic corporation and sanyo electric co., ltd. 10 - q 001 - 34756\n",
      "10. 6 october 29, 2019 10. 36 † † 2020 pricing agreement ( gigafactory\n",
      "2170 cells ), entered into on june 9, 2020, by and among registrant,\n",
      "tesla motors netherlands b. v., panasonic corporation and panasonic\n",
      "corporation of north america. 10 - q 001 - 34756 10. 3 july 28, 2020\n",
      "\n",
      "employee stock purchase plan, effective as of june 12, 2019. s - 8 333\n",
      "- 232079 4. 5 june 12, 2019 10. 12 * * 2007 solarcity stock plan and\n",
      "form of agreements used thereunder. s - 1 ( 1 ) 333 - 184317 10. 2\n",
      "october 5, 2012 10. 13 * * 2012 solarcity equity incentive plan and\n",
      "form of agreements used thereunder. s - 1 ( 1 ) 333 - 184317 10. 3\n",
      "october 5, 2012 10. 14 * * 2010 zep solar, inc. equity incentive plan\n",
      "and form of agreements used thereunder. s - 8 ( 1 ) 333 - 192996 4. 5\n",
      "december 20, 2013 10. 15 * * offer letter between the registrant and\n",
      "elon musk dated october 13, 2008. s - 1 333 - 164593 10. 9 january 29,\n",
      "2010 10. 16 * * performance stock option agreement between the\n",
      "registrant and elon musk dated january 21, 2018. def 14a 001 - 34756\n",
      "appendix a february 8, 2018 10. 17 * * maxwell technologies, inc. 2005\n",
      "omnibus equity incentive plan, as amended through may 6, 2010 8 - k ( 2\n",
      ") 001 - 15477 10. 1 may\n",
      "\n",
      "settlement on october 13, 2023, after which it took the settlement and\n",
      "plaintiff counsels ’ fee request under advisement. the settlement is\n",
      "not expected to have an adverse impact on our results of operations,\n",
      "cash flows or financial position. litigation relating to potential\n",
      "going private transaction between august 10, 2018 and september 6,\n",
      "2018, nine purported stockholder class actions were filed against tesla\n",
      "and elon musk in connection with mr. musk ’ s august 7, 2018 twitter\n",
      "post that he was considering taking tesla private. on january 16, 2019,\n",
      "plaintiffs filed their consolidated complaint in the united states\n",
      "district court for the northern district of california and added as\n",
      "defendants the members of tesla ’ s board of directors. the\n",
      "consolidated complaint asserts claims for violations of the federal\n",
      "securities laws and seeks unspecified damages and other relief. the\n",
      "parties stipulated\n",
      "\n",
      "----------------------------------------------------------------------------------------------------\n"
     ]
    }
   ],
   "source": [
    "queries = [original_query] + augmented_queries\n",
    "results = chroma_collection.query(query_texts=queries, n_results=5, include=['documents', 'embeddings'])\n",
    "\n",
    "retrieved_documents = results['documents']\n",
    "\n",
    "# Deduplicate the retrieved documents\n",
    "unique_documents = set()\n",
    "for documents in retrieved_documents:\n",
    "    for document in documents:\n",
    "        unique_documents.add(document)\n",
    "\n",
    "for i, documents in enumerate(retrieved_documents):\n",
    "    print(f\"Query: {queries[i]}\")\n",
    "    print('')\n",
    "    print(\"Results:\")\n",
    "    for doc in documents:\n",
    "        print(word_wrap(doc))\n",
    "        print('')\n",
    "    print('-'*100)"
   ]
  },
  {
   "cell_type": "code",
   "execution_count": 26,
   "metadata": {},
   "outputs": [
    {
     "name": "stderr",
     "output_type": "stream",
     "text": [
      "100%|██████████| 1/1 [00:00<00:00,  3.29it/s]\n",
      "100%|██████████| 5/5 [00:01<00:00,  2.99it/s]\n"
     ]
    }
   ],
   "source": [
    "original_query_embedding = embedding_function([original_query])\n",
    "augmented_query_embeddings = embedding_function(augmented_queries)\n",
    "\n",
    "project_original_query = project_embeddings(original_query_embedding, umap_transform)\n",
    "project_augmented_queries = project_embeddings(augmented_query_embeddings, umap_transform)\n"
   ]
  },
  {
   "cell_type": "code",
   "execution_count": 27,
   "metadata": {},
   "outputs": [
    {
     "name": "stderr",
     "output_type": "stream",
     "text": [
      "100%|██████████| 30/30 [00:09<00:00,  3.01it/s]\n"
     ]
    }
   ],
   "source": [
    "result_embeddings = results['embeddings']\n",
    "result_embeddings = [item for sublist in result_embeddings for item in sublist]\n",
    "projected_result_embeddings = project_embeddings(result_embeddings, umap_transform)\n",
    "\n",
    "# after deduplication, 30 results are used"
   ]
  },
  {
   "cell_type": "code",
   "execution_count": 28,
   "metadata": {},
   "outputs": [
    {
     "data": {
      "text/plain": [
       "(-5.642355990409851, 6.435305190086365, 3.954787564277649, 12.974955725669862)"
      ]
     },
     "execution_count": 28,
     "metadata": {},
     "output_type": "execute_result"
    },
    {
     "data": {
      "image/png": "[encoded data removed]",
      "text/plain": [
       "<Figure size 640x480 with 1 Axes>"
      ]
     },
     "metadata": {},
     "output_type": "display_data"
    }
   ],
   "source": [
    "import matplotlib.pyplot as plt\n",
    "\n",
    "plt.figure()\n",
    "plt.scatter(projected_dataset_embeddings[:, 0], projected_dataset_embeddings[:, 1], s=10, color='gray')\n",
    "plt.scatter(project_augmented_queries[:, 0], project_augmented_queries[:, 1], s=150, marker='X', color='orange')\n",
    "plt.scatter(projected_result_embeddings[:, 0], projected_result_embeddings[:, 1], s=100, facecolors='none', edgecolors='g')\n",
    "plt.scatter(project_original_query[:, 0], project_original_query[:, 1], s=150, marker='X', color='r')\n",
    "\n",
    "plt.gca().set_aspect('equal', 'datalim')\n",
    "plt.title(f'{original_query}')\n",
    "plt.axis('off')"
   ]
  },
  {
   "cell_type": "markdown",
   "metadata": {},
   "source": []
  },
  {
   "cell_type": "markdown",
   "metadata": {},
   "source": [
    "* we covered lot of area with the augmented questions, which help to minimize false negative "
   ]
  },
  {
   "cell_type": "markdown",
   "metadata": {},
   "source": [
    "# Re-ranking the long tail"
   ]
  },
  {
   "cell_type": "markdown",
   "metadata": {},
   "source": [
    "* We need to evaluate all retrieved documents before we send to LLM for final answer "
   ]
  },
  {
   "cell_type": "code",
   "execution_count": 29,
   "metadata": {},
   "outputs": [],
   "source": [
    "queries = [original_query] + augmented_queries\n",
    "\n",
    "results = chroma_collection.query(query_texts=queries, n_results=10, include=['documents', 'embeddings'])\n",
    "retrieved_documents = results['documents']"
   ]
  },
  {
   "cell_type": "code",
   "execution_count": 30,
   "metadata": {},
   "outputs": [],
   "source": [
    "# Deduplicate the retrieved documents\n",
    "unique_documents = set()\n",
    "for documents in retrieved_documents:\n",
    "    for document in documents:\n",
    "        unique_documents.add(document)\n",
    "\n",
    "unique_documents = list(unique_documents)"
   ]
  },
  {
   "cell_type": "code",
   "execution_count": 31,
   "metadata": {},
   "outputs": [],
   "source": [
    "pairs = []\n",
    "for doc in unique_documents:\n",
    "    pairs.append([original_query, doc])"
   ]
  },
  {
   "cell_type": "markdown",
   "metadata": {},
   "source": [
    "* cross encoder to classify the answer and provide the ranking scores"
   ]
  },
  {
   "cell_type": "code",
   "execution_count": 32,
   "metadata": {},
   "outputs": [],
   "source": [
    "cross_encoder = CrossEncoder('cross-encoder/ms-marco-MiniLM-L-6-v2')\n",
    "scores = cross_encoder.predict(pairs)\n"
   ]
  },
  {
   "cell_type": "code",
   "execution_count": 33,
   "id": "d8144a4a-85f6-4800-87f9-36a1b6ceda1f",
   "metadata": {
    "height": 30
   },
   "outputs": [
    {
     "name": "stdout",
     "output_type": "stream",
     "text": [
      "Scores:\n",
      "-10.993665\n",
      "-11.135635\n",
      "-11.333125\n",
      "-11.085354\n",
      "-11.255102\n",
      "-11.332508\n",
      "-11.277658\n",
      "-11.268238\n",
      "-11.230625\n",
      "-11.254272\n",
      "-11.264637\n",
      "-10.955757\n",
      "-11.264076\n",
      "-11.238976\n",
      "-11.331074\n",
      "-11.150581\n",
      "-11.310305\n",
      "-11.173586\n",
      "-11.281557\n",
      "-11.286575\n",
      "-11.146526\n",
      "-11.217812\n",
      "-10.9881935\n",
      "-10.716187\n",
      "-11.0319395\n",
      "-11.311626\n",
      "-11.08807\n",
      "-11.245098\n",
      "-11.157823\n",
      "-11.242585\n",
      "-11.0948715\n",
      "-11.075249\n",
      "-11.229387\n",
      "-11.25985\n",
      "-11.241766\n",
      "-11.177151\n",
      "-10.925091\n",
      "-11.270653\n",
      "-11.237999\n",
      "-10.953966\n",
      "-11.237281\n",
      "-11.063375\n",
      "-11.294121\n",
      "-11.255739\n",
      "-11.114695\n",
      "-11.167982\n",
      "-10.489268\n",
      "-11.016811\n",
      "New Ordering:\n",
      "46\n",
      "23\n",
      "36\n",
      "39\n",
      "11\n",
      "22\n",
      "0\n",
      "47\n",
      "24\n",
      "41\n",
      "31\n",
      "3\n",
      "26\n",
      "30\n",
      "44\n",
      "1\n",
      "20\n",
      "15\n",
      "28\n",
      "45\n",
      "17\n",
      "35\n",
      "21\n",
      "32\n",
      "8\n",
      "40\n",
      "38\n",
      "13\n",
      "34\n",
      "29\n",
      "27\n",
      "9\n",
      "4\n",
      "43\n",
      "33\n",
      "12\n",
      "10\n",
      "7\n",
      "37\n",
      "6\n",
      "18\n",
      "19\n",
      "42\n",
      "16\n",
      "25\n",
      "14\n",
      "5\n",
      "2\n"
     ]
    }
   ],
   "source": [
    "print(\"Scores:\")\n",
    "for score in scores:\n",
    "    print(score)\n",
    "print(\"New Ordering:\")\n",
    "for o in np.argsort(scores)[::-1]:\n",
    "    print(o)"
   ]
  },
  {
   "cell_type": "code",
   "execution_count": 34,
   "id": "8ff0b18e-12a0-4ac0-97dd-8618b22e7dbf",
   "metadata": {
    "height": 30
   },
   "outputs": [
    {
     "name": "stdout",
     "output_type": "stream",
     "text": [
      "Top 5 Pairs based on scores:\n",
      "['Was there significant turnover in the executive team?', 'we have created an environment that fosters growth opportunities, and as of this report, nearly two - thirds ( 65 % ) of our managers were promoted from an internal, non - manager position, and 43 % of our management employees have been with tesla for more than five years. tesla ’ s growth of 35 % over the past two years has offered internal career development to our employees as well as the ability to make a meaningful contribution to a sustainable future. we are able to retain our employees, in part, not only because employees can enjoy ownership in tesla through stock ( of which 89 % have been given the opportunity to ), but because we also provide them with excellent health benefits such as free counseling, paid parental leave, paid time off and zero - premium medical plan options that are made available on the first day of employment. we recognize the positive impact that leaders can have on their teams and offer fundamental skills training and continuous development to all']\n",
      "['Was there significant turnover in the executive team?', '2018 ceo performance award in march 2018, our stockholders approved the board of directors ’ grant of 304. 0 million stock option awards, as adjusted to give effect to the 2020 stock split and the 2022 stock split, to our ceo ( the “ 2018 ceo performance award ” ). the 2018 ceo performance award consisted of 12 vesting tranches with a vesting schedule based entirely on the attainment of both operational milestones ( performance conditions ) and market conditions, assuming continued employment either as the ceo or as both executive chairman and chief product officer and service through each vesting date. each of the 12 vesting tranches of the 2018 ceo performance award vested upon certification by the board of directors that both ( i ) the market capitalization milestone for such tranche, which began at $ 100. 0 billion for the first tranche and increases by increments of $ 50. 0 billion thereafter ( based on both a six']\n",
      "['Was there significant turnover in the executive team?', 'selling, general and administrative ( “ sg & a ” ) expenses generally consist of personnel and facilities costs related to our stores, marketing, sales, executive, finance, human resources, information technology and legal organizations, as well as fees for professional and contract services and litigation settlements. sg & a expenses increased $ 854 million, or 22 %, in the year ended december 31, 2023 as compared to the year ended december 31, 2022. this was driven by a $ 447 million increase in employee and labor costs primarily from increased headcount, including professional services and a $ 363 million increase in facilities related expenses. restructuring and other year ended december 31, 2023 vs. 2022 change 2022 vs. 2021 change ( dollars in millions ) 2023 2022 2021 $ % $ % restructuring and other $ — $ 176 $ ( 27 ) $ ( 176 ) ( 100 ) % $ 203 not meaningful']\n",
      "['Was there significant turnover in the executive team?', 'summary of significant accounting policies, to the consolidated financial statements included elsewhere in this annual report on form 10 - k. 44']\n",
      "['Was there significant turnover in the executive team?', 'support our planned high - volume product sales, market and geographical expansion and technological innovations. if we are not successful in managing these risks, our business, financial condition and operating results may be harmed. employees may leave tesla or choose other employers over tesla due to various factors, such as a very competitive labor market for talented individuals with automotive or technology experience, or any negative publicity related to us. in regions where we have or will have operations, particularly significant engineering and manufacturing centers, there is strong competition for individuals with skillsets needed for our business, including specialized knowledge of electric vehicles, engineering and electrical and building construction expertise. we also compete with both mature and prosperous companies that have far greater financial resources than we do and start - ups and emerging companies that promise short - term growth opportunities.']\n"
     ]
    }
   ],
   "source": [
    "# select top 5 ranked answers \n",
    "# Sort the indices of scores in descending order and select the top 3\n",
    "top_indices = np.argsort(scores)[::-1][:5]\n",
    "\n",
    "# Retrieve the top 5 pairs based on these indices\n",
    "top_pairs = [pairs[index] for index in top_indices]\n",
    "\n",
    "# Print the top 5 pairs\n",
    "print(\"Top 5 Pairs based on scores:\")\n",
    "for pair in top_pairs:\n",
    "    print(pair)"
   ]
  },
  {
   "cell_type": "code",
   "execution_count": 35,
   "id": "03ca7e7c-4b47-4652-9b46-a40b3dffa5e6",
   "metadata": {
    "height": 30
   },
   "outputs": [
    {
     "name": "stdout",
     "output_type": "stream",
     "text": [
      "The information provided does not specifically mention significant turnover in the executive team. The annual report highlights performance milestones, financial results, strategic initiatives, and employee benefits, but does not provide explicit details on executive turnover.\n"
     ]
    }
   ],
   "source": [
    "query=top_pairs[0][0]\n",
    "reranked_retrieved_documents = \" \".join(doc[1] for doc in top_pairs)\n",
    "#answer the query based on the five documents\n",
    "# print outputs\n",
    "output = rag(query=query, retrieved_documents=reranked_retrieved_documents)\n",
    "print(output)"
   ]
  },
  {
   "cell_type": "code",
   "execution_count": 36,
   "id": "f74e7d67-7f51-41c4-8e25-edbaa02d0bd8",
   "metadata": {
    "height": 30
   },
   "outputs": [
    {
     "name": "stderr",
     "output_type": "stream",
     "text": [
      "100%|██████████| 1/1 [00:00<00:00,  3.26it/s]\n"
     ]
    }
   ],
   "source": [
    "# visualize the embeddings\n",
    "reranked_retrieved_documents_embedding = embedding_function([reranked_retrieved_documents])\n",
    "projected_reranked_retrieved_embeddings = project_embeddings(reranked_retrieved_documents_embedding, umap_transform)\n"
   ]
  },
  {
   "cell_type": "code",
   "execution_count": 37,
   "id": "9188e886-d406-406f-b234-f5c3353a77a2",
   "metadata": {
    "height": 30
   },
   "outputs": [
    {
     "data": {
      "text/plain": [
       "(-5.642355990409851, 6.435305190086365, 3.954787564277649, 12.974955725669862)"
      ]
     },
     "execution_count": 37,
     "metadata": {},
     "output_type": "execute_result"
    },
    {
     "data": {
      "image/png": "[encoded data removed]",
      "text/plain": [
       "<Figure size 640x480 with 1 Axes>"
      ]
     },
     "metadata": {},
     "output_type": "display_data"
    }
   ],
   "source": [
    "# Plot the projected query and retrieved documents in the embedding space\n",
    "plt.figure()\n",
    "plt.scatter(projected_dataset_embeddings[:, 0], projected_dataset_embeddings[:, 1], s=10, color='gray')\n",
    "plt.scatter(projected_query_embedding[:, 0], projected_query_embedding[:, 1], s=150, marker='X', color='r')\n",
    "plt.scatter(project_augmented_queries[:, 0], project_augmented_queries[:, 1], s=150, marker='X', color='orange')\n",
    "plt.scatter(projected_result_embeddings[:, 0], projected_result_embeddings[:, 1], s=100, facecolors='none', edgecolors='g')\n",
    "plt.scatter(projected_retrieved_embeddings[:, 0], projected_retrieved_embeddings[:, 1], s=100, facecolors='none', edgecolors='b')\n",
    "plt.scatter(projected_reranked_retrieved_embeddings[:, 0], projected_reranked_retrieved_embeddings[:, 1], s=150, facecolors='purple', edgecolors='purple')\n",
    "\n",
    "plt.gca().set_aspect('equal', 'datalim')\n",
    "plt.title(f'{query}')\n",
    "plt.axis('off')"
   ]
  },
  {
   "cell_type": "code",
   "execution_count": null,
   "id": "3d3bb286-2694-4ed4-8466-46865e997ced",
   "metadata": {
    "height": 30
   },
   "outputs": [],
   "source": []
  },
  {
   "cell_type": "code",
   "execution_count": null,
   "id": "2876084b-4038-4b0c-8ec8-8294a86adfc1",
   "metadata": {
    "height": 30
   },
   "outputs": [],
   "source": []
  },
  {
   "cell_type": "code",
   "execution_count": null,
   "id": "3ac542e1-b094-431f-9611-cf7e36d3f0de",
   "metadata": {
    "height": 30
   },
   "outputs": [],
   "source": []
  },
  {
   "cell_type": "code",
   "execution_count": null,
   "id": "bcd6114b-c09d-4173-a623-9a08aaf63e4b",
   "metadata": {
    "height": 30
   },
   "outputs": [],
   "source": []
  },
  {
   "cell_type": "code",
   "execution_count": null,
   "id": "ad10ab65-b351-4f4b-b7d2-63474acfb9f9",
   "metadata": {
    "height": 30
   },
   "outputs": [],
   "source": []
  },
  {
   "cell_type": "code",
   "execution_count": null,
   "id": "800f3d81-cbdb-4ba4-8d49-85747fdfded8",
   "metadata": {
    "height": 30
   },
   "outputs": [],
   "source": []
  },
  {
   "cell_type": "code",
   "execution_count": null,
   "id": "37847448-c9f6-4f51-bf06-f7809964a8b2",
   "metadata": {
    "height": 30
   },
   "outputs": [],
   "source": []
  },
  {
   "cell_type": "code",
   "execution_count": null,
   "id": "2dcefc87-0964-4b94-946b-2145781ad606",
   "metadata": {
    "height": 30
   },
   "outputs": [],
   "source": []
  },
  {
   "cell_type": "code",
   "execution_count": null,
   "id": "5fc994bc-7b1e-476a-9df9-300a3e374882",
   "metadata": {
    "height": 30
   },
   "outputs": [],
   "source": []
  },
  {
   "cell_type": "code",
   "execution_count": null,
   "id": "9ef5f5d5-acb7-4b0a-93ef-e61306708e69",
   "metadata": {
    "height": 30
   },
   "outputs": [],
   "source": []
  },
  {
   "cell_type": "code",
   "execution_count": null,
   "id": "44e4b33f-d8fb-4f3a-b884-8b43a3766583",
   "metadata": {
    "height": 30
   },
   "outputs": [],
   "source": []
  },
  {
   "cell_type": "code",
   "execution_count": null,
   "id": "c2a480a2-2c29-4a01-80dd-ee41934b7901",
   "metadata": {
    "height": 30
   },
   "outputs": [],
   "source": []
  },
  {
   "cell_type": "code",
   "execution_count": null,
   "id": "8127c2bf-0d15-4b62-b46a-f7a17ad2ec92",
   "metadata": {
    "height": 30
   },
   "outputs": [],
   "source": []
  },
  {
   "cell_type": "code",
   "execution_count": null,
   "id": "18ded129-a637-4269-a116-550fe9a90570",
   "metadata": {
    "height": 30
   },
   "outputs": [],
   "source": []
  },
  {
   "cell_type": "code",
   "execution_count": null,
   "id": "c1d7ee44-7b29-483f-a3f2-cc9d8e18880e",
   "metadata": {
    "height": 30
   },
   "outputs": [],
   "source": []
  },
  {
   "cell_type": "code",
   "execution_count": null,
   "id": "8e450dd8-9719-42c6-8c3c-33cac910e0a5",
   "metadata": {
    "height": 30
   },
   "outputs": [],
   "source": []
  }
 ],
 "metadata": {
  "kernelspec": {
   "display_name": "RAGenv",
   "language": "python",
   "name": "ragenv"
  },
  "language_info": {
   "codemirror_mode": {
    "name": "ipython",
    "version": 3
   },
   "file_extension": ".py",
   "mimetype": "text/x-python",
   "name": "python",
   "nbconvert_exporter": "python",
   "pygments_lexer": "ipython3",
   "version": "3.9.6"
  }
 },
 "nbformat": 4,
 "nbformat_minor": 5
}
